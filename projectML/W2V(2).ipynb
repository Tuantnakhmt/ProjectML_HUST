{
 "cells": [
  {
   "cell_type": "markdown",
   "id": "7e135fa5",
   "metadata": {},
   "source": [
    "# Trích xuất đặc trưng dựa trên Word2vec"
   ]
  },
  {
   "cell_type": "code",
   "execution_count": 1,
   "id": "412f47b1",
   "metadata": {},
   "outputs": [],
   "source": [
    "import pandas as pd\n"
   ]
  },
  {
   "cell_type": "markdown",
   "id": "41865a85",
   "metadata": {},
   "source": [
    "## 1. Tải dữ liệu đã tiền xử lý "
   ]
  },
  {
   "cell_type": "code",
   "execution_count": 2,
   "id": "b92986d6",
   "metadata": {},
   "outputs": [
    {
     "data": {
      "text/html": [
       "<div>\n",
       "<style scoped>\n",
       "    .dataframe tbody tr th:only-of-type {\n",
       "        vertical-align: middle;\n",
       "    }\n",
       "\n",
       "    .dataframe tbody tr th {\n",
       "        vertical-align: top;\n",
       "    }\n",
       "\n",
       "    .dataframe thead th {\n",
       "        text-align: right;\n",
       "    }\n",
       "</style>\n",
       "<table border=\"1\" class=\"dataframe\">\n",
       "  <thead>\n",
       "    <tr style=\"text-align: right;\">\n",
       "      <th></th>\n",
       "      <th>text</th>\n",
       "      <th>spam</th>\n",
       "    </tr>\n",
       "  </thead>\n",
       "  <tbody>\n",
       "    <tr>\n",
       "      <th>0</th>\n",
       "      <td>subject naturally irresistible corporate ident...</td>\n",
       "      <td>1</td>\n",
       "    </tr>\n",
       "    <tr>\n",
       "      <th>1</th>\n",
       "      <td>subject stock trading gunslinger fanny merrill...</td>\n",
       "      <td>1</td>\n",
       "    </tr>\n",
       "    <tr>\n",
       "      <th>2</th>\n",
       "      <td>subject unbelievable new home made easy im wan...</td>\n",
       "      <td>1</td>\n",
       "    </tr>\n",
       "    <tr>\n",
       "      <th>3</th>\n",
       "      <td>subject color printing special request additio...</td>\n",
       "      <td>1</td>\n",
       "    </tr>\n",
       "    <tr>\n",
       "      <th>4</th>\n",
       "      <td>subject money get software cd software compati...</td>\n",
       "      <td>1</td>\n",
       "    </tr>\n",
       "  </tbody>\n",
       "</table>\n",
       "</div>"
      ],
      "text/plain": [
       "                                                text  spam\n",
       "0  subject naturally irresistible corporate ident...     1\n",
       "1  subject stock trading gunslinger fanny merrill...     1\n",
       "2  subject unbelievable new home made easy im wan...     1\n",
       "3  subject color printing special request additio...     1\n",
       "4  subject money get software cd software compati...     1"
      ]
     },
     "execution_count": 2,
     "metadata": {},
     "output_type": "execute_result"
    }
   ],
   "source": [
    "#loading the phishing URLs data to dataframe\n",
    "data0 = pd.read_csv('/Users/HP/projectML/email_pre_processed.csv')\n",
    "data0.head()"
   ]
  },
  {
   "cell_type": "markdown",
   "id": "0e7ba531",
   "metadata": {},
   "source": [
    "# 2. Sử dụng Word2vec"
   ]
  },
  {
   "cell_type": "markdown",
   "id": "5a5ce780",
   "metadata": {},
   "source": [
    "## 2.1 Tokenizing "
   ]
  },
  {
   "cell_type": "code",
   "execution_count": 3,
   "id": "d93548d3",
   "metadata": {},
   "outputs": [
    {
     "data": {
      "text/plain": [
       "['subject',\n",
       " 'naturally',\n",
       " 'irresistible',\n",
       " 'corporate',\n",
       " 'identity',\n",
       " 'lt',\n",
       " 'really',\n",
       " 'hard',\n",
       " 'recollect',\n",
       " 'company',\n",
       " 'market',\n",
       " 'full',\n",
       " 'suqgestions',\n",
       " 'information',\n",
       " 'isoverwhelminq',\n",
       " 'good',\n",
       " 'catchy',\n",
       " 'logo',\n",
       " 'stylish',\n",
       " 'statlonery',\n",
       " 'outstanding',\n",
       " 'website',\n",
       " 'make',\n",
       " 'task',\n",
       " 'much',\n",
       " 'easier',\n",
       " 'promise',\n",
       " 'havinq',\n",
       " 'ordered',\n",
       " 'iogo',\n",
       " 'company',\n",
       " 'automaticaily',\n",
       " 'become',\n",
       " 'world',\n",
       " 'ieader',\n",
       " 'isguite',\n",
       " 'ciear',\n",
       " 'without',\n",
       " 'good',\n",
       " 'product',\n",
       " 'effective',\n",
       " 'business',\n",
       " 'organization',\n",
       " 'practicable',\n",
       " 'aim',\n",
       " 'hotat',\n",
       " 'nowadays',\n",
       " 'market',\n",
       " 'promise',\n",
       " 'marketing',\n",
       " 'effort',\n",
       " 'become',\n",
       " 'much',\n",
       " 'effective',\n",
       " 'list',\n",
       " 'clear',\n",
       " 'benefit',\n",
       " 'creativeness',\n",
       " 'hand',\n",
       " 'made',\n",
       " 'original',\n",
       " 'logo',\n",
       " 'specially',\n",
       " 'done',\n",
       " 'reflect',\n",
       " 'distinctive',\n",
       " 'company',\n",
       " 'image',\n",
       " 'convenience',\n",
       " 'logo',\n",
       " 'stationery',\n",
       " 'provided',\n",
       " 'format',\n",
       " 'easy',\n",
       " 'use',\n",
       " 'content',\n",
       " 'management',\n",
       " 'system',\n",
       " 'letsyou',\n",
       " 'change',\n",
       " 'website',\n",
       " 'content',\n",
       " 'even',\n",
       " 'structure',\n",
       " 'promptness',\n",
       " 'see',\n",
       " 'logo',\n",
       " 'draft',\n",
       " 'within',\n",
       " 'three',\n",
       " 'business',\n",
       " 'day',\n",
       " 'affordability',\n",
       " 'marketing',\n",
       " 'break',\n",
       " 'make',\n",
       " 'gap',\n",
       " 'budget',\n",
       " 'satisfaction',\n",
       " 'guaranteed',\n",
       " 'provide',\n",
       " 'unlimited',\n",
       " 'amount',\n",
       " 'change',\n",
       " 'extra',\n",
       " 'fee',\n",
       " 'surethat',\n",
       " 'love',\n",
       " 'result',\n",
       " 'collaboration',\n",
       " 'look',\n",
       " 'portfolio',\n",
       " 'interested']"
      ]
     },
     "execution_count": 3,
     "metadata": {},
     "output_type": "execute_result"
    }
   ],
   "source": [
    "x_tokenized = [[w for w in sentence.split(\" \") if w != \"\"] for sentence in data0['text']]\n",
    "x_tokenized[0]"
   ]
  },
  {
   "cell_type": "markdown",
   "id": "bc38e74c",
   "metadata": {},
   "source": [
    "## 2.2 Khởi tạo model Word2vec"
   ]
  },
  {
   "cell_type": "code",
   "execution_count": 34,
   "id": "8f438ca5",
   "metadata": {},
   "outputs": [],
   "source": [
    "import gensim\n",
    "from gensim.models import Word2Vec\n",
    "\n",
    "\n",
    "model = gensim.models.Word2Vec(x_tokenized,\n",
    "                 vector_size=100\n",
    "                 # Size is the length of our vector.\n",
    "                )\n",
    "\n"
   ]
  },
  {
   "cell_type": "code",
   "execution_count": 35,
   "id": "d7d9365c",
   "metadata": {},
   "outputs": [
    {
     "data": {
      "text/plain": [
       "[('secure', 0.7830626368522644),\n",
       " ('ad', 0.7568588852882385),\n",
       " ('feel', 0.7416977286338806),\n",
       " ('quote', 0.7358649969100952),\n",
       " ('downloads', 0.7191898822784424),\n",
       " ('online', 0.7168831825256348),\n",
       " ('anywhere', 0.6862483620643616),\n",
       " ('classified', 0.6829990148544312),\n",
       " ('otherwise', 0.6825507879257202),\n",
       " ('risknews', 0.6783303022384644)]"
      ]
     },
     "execution_count": 35,
     "metadata": {},
     "output_type": "execute_result"
    }
   ],
   "source": [
    "model.wv.most_similar(\"free\")"
   ]
  },
  {
   "cell_type": "markdown",
   "id": "3c36b192",
   "metadata": {},
   "source": [
    "## 2.3 Lớp tạo chuỗi word embedding"
   ]
  },
  {
   "cell_type": "code",
   "execution_count": 6,
   "id": "b5e18f51",
   "metadata": {},
   "outputs": [],
   "source": [
    "class Sequencer():\n",
    "    \n",
    "    def __init__(self,\n",
    "                 all_words,\n",
    "                 max_words,\n",
    "                 seq_len,\n",
    "                 embedding_matrix\n",
    "                ):\n",
    "        \n",
    "        self.seq_len = seq_len\n",
    "        self.embed_matrix = embedding_matrix\n",
    "        \"\"\"\n",
    "        temp_vocab = Vocab which has all the unique words\n",
    "        self.vocab = Our last vocab which has only most used N words.\n",
    "    \n",
    "        \"\"\"\n",
    "        temp_vocab = list(set(all_words))\n",
    "        self.vocab = []\n",
    "        self.word_cnts = {}\n",
    "        \"\"\"\n",
    "        Now we'll create a hash map (dict) which includes words and their occurencies\n",
    "        \"\"\"\n",
    "        for word in temp_vocab:\n",
    "            # 0 does not have a meaning, you can add the word to the list\n",
    "            # or something different.\n",
    "            count = len([0 for w in all_words if w == word])\n",
    "            self.word_cnts[word] = count\n",
    "            counts = list(self.word_cnts.values())\n",
    "            indexes = list(range(len(counts)))\n",
    "        \n",
    "        # Now we'll sort counts and while sorting them also will sort indexes.\n",
    "        # We'll use those indexes to find most used N word.\n",
    "        cnt = 0\n",
    "        while cnt + 1 != len(counts):\n",
    "            cnt = 0\n",
    "            for i in range(len(counts)-1):\n",
    "                if counts[i] < counts[i+1]:\n",
    "                    counts[i+1],counts[i] = counts[i],counts[i+1]\n",
    "                    indexes[i],indexes[i+1] = indexes[i+1],indexes[i]\n",
    "                else:\n",
    "                    cnt += 1\n",
    "        \n",
    "        for ind in indexes[:max_words]:\n",
    "            self.vocab.append(temp_vocab[ind])\n",
    "                    \n",
    "    def textToVector(self,text):\n",
    "        # First we need to split the text into its tokens and learn the length\n",
    "        # If length is shorter than the max len we'll add some spaces (100D vectors which has only zero values)\n",
    "        # If it's longer than the max len we'll trim from the end.\n",
    "        tokens = text.split()\n",
    "        len_v = len(tokens)-1 if len(tokens) < self.seq_len else self.seq_len-1\n",
    "        vec = []\n",
    "        for tok in tokens[:len_v]:\n",
    "            try:\n",
    "                vec.append(self.embed_matrix[tok])\n",
    "            except Exception as E:\n",
    "                pass\n",
    "        \n",
    "        last_pieces = self.seq_len - len(vec)\n",
    "        for i in range(last_pieces):\n",
    "            vec.append(np.zeros(100,))\n",
    "        \n",
    "        return np.asarray(vec).flatten()\n"
   ]
  },
  {
   "cell_type": "code",
   "execution_count": 7,
   "id": "108a7f4a",
   "metadata": {},
   "outputs": [],
   "source": [
    "sequencer = Sequencer(all_words = [token for seq in x_tokenized for token in seq],\n",
    "              max_words = 1200,\n",
    "              seq_len = 14,\n",
    "              embedding_matrix = model.wv\n",
    "             )"
   ]
  },
  {
   "cell_type": "code",
   "execution_count": 167,
   "id": "dda609d0",
   "metadata": {},
   "outputs": [
    {
     "data": {
      "text/plain": [
       "array([0.14387274, 0.19471148, 0.14099523, ..., 0.        , 0.        ,\n",
       "       0.        ])"
      ]
     },
     "execution_count": 167,
     "metadata": {},
     "output_type": "execute_result"
    }
   ],
   "source": [
    "import numpy as np\n",
    "test_vec = sequencer.textToVector(\"i am in love with you hihi\")\n",
    "test_vec"
   ]
  },
  {
   "cell_type": "code",
   "execution_count": 10,
   "id": "e0a3fffc",
   "metadata": {},
   "outputs": [
    {
     "name": "stdout",
     "output_type": "stream",
     "text": [
      "(5728, 1400)\n"
     ]
    }
   ],
   "source": [
    "# But before creating a PCA model using scikit-learn let's create\n",
    "# vectors for our each vector\n",
    "x_vecs = np.asarray([sequencer.textToVector(\" \".join(seq)) for seq in x_tokenized])\n",
    "print(x_vecs.shape)"
   ]
  },
  {
   "cell_type": "markdown",
   "id": "477cc10a",
   "metadata": {},
   "source": [
    "## 2.4 Giảm chiều vector sử dụng PCA  "
   ]
  },
  {
   "cell_type": "code",
   "execution_count": 195,
   "id": "159cf170",
   "metadata": {},
   "outputs": [
    {
     "name": "stdout",
     "output_type": "stream",
     "text": [
      "Sum of variance ratios:  1.0000000000000002\n"
     ]
    }
   ],
   "source": [
    "from sklearn.decomposition import PCA\n",
    "#pca_model = PCA(n_components=300)\n",
    "pca_model = PCA()\n",
    "pca_model.fit(x_vecs)\n",
    "print(\"Sum of variance ratios: \",sum(pca_model.explained_variance_ratio_))"
   ]
  },
  {
   "cell_type": "code",
   "execution_count": 196,
   "id": "ce58f6eb",
   "metadata": {},
   "outputs": [
    {
     "data": {
      "image/png": "[encoded data removed]",
      "text/plain": [
       "<Figure size 640x480 with 1 Axes>"
      ]
     },
     "metadata": {},
     "output_type": "display_data"
    }
   ],
   "source": [
    "#Choose components satisfy 90-95% of variance\n",
    "import pylab as plt\n",
    "import numpy as np \n",
    "plt.plot(np.cumsum(pca_model.explained_variance_ratio_))\n",
    "plt.xlabel('number of components')\n",
    "plt.ylabel('cumulative explained variance');"
   ]
  },
  {
   "cell_type": "code",
   "execution_count": 145,
   "id": "b8e5ace5",
   "metadata": {},
   "outputs": [
    {
     "data": {
      "text/plain": [
       "(5728, 300)"
      ]
     },
     "execution_count": 145,
     "metadata": {},
     "output_type": "execute_result"
    }
   ],
   "source": [
    "x_comps = pca_model.transform(x_vecs)\n",
    "x_comps.shape"
   ]
  },
  {
   "cell_type": "markdown",
   "id": "0ef667e8",
   "metadata": {},
   "source": [
    "## 3. Chia dataset thành train set và test set "
   ]
  },
  {
   "cell_type": "code",
   "execution_count": 146,
   "id": "5c495a88",
   "metadata": {},
   "outputs": [
    {
     "name": "stdout",
     "output_type": "stream",
     "text": [
      "(4582, 300)\n",
      "(1146, 300)\n",
      "(4582,)\n",
      "(1146,)\n"
     ]
    }
   ],
   "source": [
    "from sklearn.model_selection import train_test_split\n",
    "x_train,x_test,y_train,y_test = train_test_split(x_comps,data0['spam'],test_size=0.2,random_state=42)\n",
    "print(x_train.shape)\n",
    "print(x_test.shape)\n",
    "print(y_train.shape)\n",
    "print(y_test.shape)"
   ]
  },
  {
   "cell_type": "markdown",
   "id": "f63baf45",
   "metadata": {},
   "source": [
    "## 4. Chuẩn hóa miền giá trị sau khi sử dụng Word2vec "
   ]
  },
  {
   "cell_type": "code",
   "execution_count": 147,
   "id": "d99e4db6",
   "metadata": {},
   "outputs": [
    {
     "name": "stdout",
     "output_type": "stream",
     "text": [
      "MinMaxScaler()\n",
      "[26.74965329 14.75343286 16.14579545 13.71163517 13.18348436 12.94184961\n",
      " 12.12277883 10.62316688 12.50624698  9.23044256 10.58646466 10.07029002\n",
      "  9.78974637 10.70709994  9.6142837  10.35061826  9.5138904   9.84288622\n",
      "  9.46770501  8.22961096  8.46818362  8.3028419   8.64447169  8.24991541\n",
      "  9.0325908  10.49381713  8.99322671  8.2217966   8.71155636  8.04544384\n",
      "  8.1876525   7.86142787  9.50234319  7.99966207  7.53777854  7.32219166\n",
      "  7.35812645  6.56073927  7.45525959  8.55991995  7.02376279  7.43202871\n",
      "  7.74301356  7.4391051   6.92879348  6.42260999  6.46114681  8.02950551\n",
      "  7.78954006  6.95721752  7.13421325  6.85513241  7.22172345  7.66983036\n",
      "  8.05437879  6.73787312  7.73731424  7.4649106   9.3396678   7.48472967\n",
      "  6.7974797   7.46707708  6.463725    7.10374542  6.16763776  6.32763861\n",
      "  5.9399141   6.60289662  5.81228409  6.43999874  5.68808342  5.80018657\n",
      "  6.19971914  5.37700977  5.87227643  5.67114727  5.9388668   6.49588886\n",
      "  5.5646879   6.12729274  6.26877513  8.1613637   5.67235143  6.38951602\n",
      "  6.58836501  6.08977586  7.72307321  5.20405681  4.97557922  5.62715309\n",
      "  6.11793432  4.96956449  6.16848352  4.88704911  6.5368115   5.90268644\n",
      "  6.31828971  6.15461393  5.25117445  4.95093145  6.07626606  5.98021451\n",
      "  5.36911237  5.89296754  4.94930108  5.27916939  5.81748119  6.25834985\n",
      "  5.63255927  5.62993856  5.0553282   6.47183945  5.99796598  6.18644961\n",
      "  6.48716277  4.6738433   5.54523868  5.3227125   5.34578464  6.11931118\n",
      "  4.93048759  4.90777043  4.68146763  5.1111661   5.2465138   6.111684\n",
      "  5.54573581  4.8031294   5.6728765   4.9976652   5.14772167  5.20377457\n",
      "  5.30680858  6.11042117  4.80477197  5.61690462  4.6114116   6.30424309\n",
      "  6.13024041  6.2720691   5.68910601  5.93223202  4.42538291  4.56206592\n",
      "  4.73959997  4.81519372  4.7755411   5.39828992  5.00952212  4.76807579\n",
      "  4.38449262  6.66894555  4.78070936  5.36013845  4.18031389  4.59393093\n",
      "  5.05394746  4.43215067  4.23380341  4.62885977  6.15331302  4.38394913\n",
      "  6.34996755  3.95969703  4.93037509  4.89669391  3.96682672  4.13231511\n",
      "  5.84829988  3.97628224  4.74692099  4.35253579  3.79261737  3.8401179\n",
      "  3.97738881  4.84470664  4.31397666  4.31519646  3.87831185  4.52182935\n",
      "  5.22999675  4.13950752  4.61137435  4.72666758  4.60616679  4.75500777\n",
      "  5.38199629  3.71968533  5.22663563  4.00100975  4.68918408  4.41319571\n",
      "  3.8923625   3.86858626  3.35460705  5.68762125  3.09673943  4.56375078\n",
      "  3.75882393  3.77685249  3.93525222  4.62459707  3.27548798  3.49273709\n",
      "  4.33971955  4.13379219  3.94233111  4.10557014  3.7819255   4.03006517\n",
      "  3.69006983  3.68234744  4.2107521   3.97105691  3.22557567  4.3786411\n",
      "  3.98960312  3.2190961   4.19595887  3.60276734  3.76370545  3.00268848\n",
      "  3.65042995  3.16049619  3.36739727  3.84075848  3.42602583  3.29834254\n",
      "  3.93741432  3.57250867  3.53925721  3.46990879  3.97125028  3.19386724\n",
      "  3.63488381  3.4263958   3.29576885  3.0632764   3.19802069  2.9793977\n",
      "  3.20150377  3.66240119  3.3178113   3.38454989  3.32097646  3.27614589\n",
      "  3.70226642  3.24827915  3.18903496  3.24114117  3.50034285  3.1138349\n",
      "  3.69890885  3.00752306  3.42847531  3.16588441  2.73923557  3.68566169\n",
      "  2.82288835  3.13681574  3.26213372  2.7091945   3.92305057  3.21209468\n",
      "  2.70168098  2.80497149  2.93629623  3.21022778  2.71777685  3.47698616\n",
      "  3.09897521  3.04066098  3.1793583   2.96443129  2.72232998  2.65825186\n",
      "  2.6572693   2.97806895  3.07161179  2.90423028  3.0322538   2.89444937\n",
      "  3.5092599   2.85429075  2.62832279  2.63683085  2.69400405  3.02160507\n",
      "  3.72695365  2.8884392   2.48458906  2.53934529  3.07138687  2.65958697\n",
      "  2.56588486  2.38533697  2.6722229   2.50563917  2.49241606  2.53299759]\n",
      "[[0.41317466 0.57696385 0.58159955 ... 0.63686089 0.55834954 0.61074766]\n",
      " [0.48973888 0.66890474 0.52495129 ... 0.53829975 0.26492664 0.48980881]\n",
      " [0.34735467 0.17989792 0.51508249 ... 0.40752345 0.3781901  0.70390783]\n",
      " ...\n",
      " [0.42772938 0.35818828 0.47716672 ... 0.48068532 0.65680593 0.36721904]\n",
      " [0.3658724  0.48957314 0.34589581 ... 0.4962383  0.39077764 0.61882374]\n",
      " [0.09484625 0.48105354 0.28271751 ... 0.39333266 0.42947261 0.55913664]]\n",
      "[[0.48791741 0.48604203 0.34706929 ... 0.76631185 0.41575861 0.61763644]\n",
      " [0.292795   0.44432052 0.4441537  ... 0.53361992 0.42662907 0.5247407 ]\n",
      " [0.40207883 0.40499577 0.43257407 ... 0.56140276 0.62810863 0.47790589]\n",
      " ...\n",
      " [0.03919032 0.43713392 0.56793777 ... 0.52212945 0.58564463 0.6797175 ]\n",
      " [0.5189652  0.27496208 0.37648485 ... 0.48063573 0.32523852 0.49269662]\n",
      " [0.29275205 0.54162159 0.31784363 ... 0.60224983 0.49043405 0.47689555]]\n"
     ]
    }
   ],
   "source": [
    "from sklearn.preprocessing import MinMaxScaler \n",
    "scaler = MinMaxScaler()\n",
    "# print(scaler.fit(x_test_transformed))\n",
    "print(scaler.fit(np.concatenate((x_train,x_test))))\n",
    "\n",
    "print(scaler.data_max_)\n",
    "print(scaler.transform(x_train))\n",
    "print(scaler.transform(x_test))\n",
    "X_train_W2vec=scaler.transform(x_train)\n",
    "X_test_W2vec=scaler.transform(x_test)"
   ]
  },
  {
   "cell_type": "markdown",
   "id": "0dc499e4",
   "metadata": {},
   "source": [
    "## 5. Huấn luyện mô hình "
   ]
  },
  {
   "cell_type": "markdown",
   "id": "3e5c538a",
   "metadata": {},
   "source": [
    "## 5.1 SVM "
   ]
  },
  {
   "cell_type": "markdown",
   "id": "1e6365d6",
   "metadata": {},
   "source": [
    "Đây là bước tinh chỉnh các siêu tham số cho mô hình"
   ]
  },
  {
   "cell_type": "code",
   "execution_count": 148,
   "id": "365d4988",
   "metadata": {},
   "outputs": [
    {
     "data": {
      "text/plain": [
       "\"\\nparam_grid_SVM = {'C': [0.1, 1, 10, 100, 1000],\\n              'gamma': [1, 0.1, 0.01, 0.001, 0.0001],\\n              'kernel': ['rbf','linear']}\\n\\n\\ngs_svm = GridSearchCV(SVC(),param_grid_SVM,cv=5) \\ngs_svm.fit(X_train_W2vec,y_train)\\n\""
      ]
     },
     "execution_count": 148,
     "metadata": {},
     "output_type": "execute_result"
    }
   ],
   "source": [
    "from sklearn import svm\n",
    "from sklearn.svm import SVC \n",
    "from sklearn.model_selection import GridSearchCV\n",
    "\"\"\"\n",
    "param_grid_SVM = {'C': [0.1, 1, 10, 100, 1000],\n",
    "              'gamma': [1, 0.1, 0.01, 0.001, 0.0001],\n",
    "              'kernel': ['rbf','linear']}\n",
    "\n",
    "\n",
    "gs_svm = GridSearchCV(SVC(),param_grid_SVM,cv=5) \n",
    "gs_svm.fit(X_train_W2vec,y_train)\n",
    "\"\"\""
   ]
  },
  {
   "cell_type": "code",
   "execution_count": 149,
   "id": "e353ed24",
   "metadata": {},
   "outputs": [],
   "source": [
    "# gs_svm.best_params_"
   ]
  },
  {
   "cell_type": "code",
   "execution_count": 150,
   "id": "7529a14f",
   "metadata": {},
   "outputs": [],
   "source": [
    "#gs_svm.best_score_"
   ]
  },
  {
   "cell_type": "markdown",
   "id": "1c476346",
   "metadata": {},
   "source": [
    "Sử dụng tham số tối ưu đã tìm được vào mô hình học"
   ]
  },
  {
   "cell_type": "code",
   "execution_count": 151,
   "id": "c041defa",
   "metadata": {},
   "outputs": [],
   "source": [
    "from sklearn.svm import SVC\n",
    "#Create a svm Classifier\n",
    "\n",
    "clf = svm.SVC(C=10, gamma=0.1,kernel='rbf') \n",
    "\n",
    "#Train the model using the training sets\n",
    "clf.fit(X_train_W2vec,y_train)\n",
    "\n",
    "#Predict the response for test dataset\n",
    "y_pred = clf.predict(X_test_W2vec)\n"
   ]
  },
  {
   "cell_type": "code",
   "execution_count": 152,
   "id": "9275b0ac",
   "metadata": {},
   "outputs": [
    {
     "name": "stdout",
     "output_type": "stream",
     "text": [
      "Accuracy score:  0.9284467713787086\n",
      "Precision score:  0.8379310344827586\n",
      "Recall score:  0.8741007194244604\n",
      "F1 score:  0.8556338028169015\n"
     ]
    }
   ],
   "source": [
    "from sklearn.metrics import accuracy_score, precision_score, recall_score, f1_score\n",
    "print('Accuracy score: ', format(accuracy_score(y_pred,y_test)))\n",
    "print('Precision score: ', format(precision_score(y_pred,y_test)))\n",
    "print('Recall score: ', format(recall_score(y_pred,y_test)))\n",
    "print('F1 score: ', format(f1_score(y_pred,y_test))) "
   ]
  },
  {
   "cell_type": "code",
   "execution_count": 153,
   "id": "e56066ef",
   "metadata": {},
   "outputs": [
    {
     "name": "stdout",
     "output_type": "stream",
     "text": [
      "0.0\n",
      "1.0000000000000002\n"
     ]
    }
   ],
   "source": [
    "print(np.amin(X_train_W2vec))\n",
    "print(np.amax(X_train_W2vec))"
   ]
  },
  {
   "cell_type": "markdown",
   "id": "21a59cae",
   "metadata": {},
   "source": [
    "## 5.2 Naive Bayes"
   ]
  },
  {
   "cell_type": "code",
   "execution_count": 154,
   "id": "0ddd7440",
   "metadata": {},
   "outputs": [
    {
     "data": {
      "text/plain": [
       "array([0, 1, 0, ..., 1, 1, 0], dtype=int64)"
      ]
     },
     "execution_count": 154,
     "metadata": {},
     "output_type": "execute_result"
    }
   ],
   "source": [
    "from sklearn.naive_bayes import GaussianNB\n",
    "naive_bayes = GaussianNB()\n",
    "naive_bayes.fit(X_train_W2vec,y_train)\n",
    "predictions = naive_bayes.predict(X_test_W2vec)\n",
    "predictions"
   ]
  },
  {
   "cell_type": "code",
   "execution_count": 155,
   "id": "2abf3dcc",
   "metadata": {},
   "outputs": [
    {
     "name": "stdout",
     "output_type": "stream",
     "text": [
      "Accuracy score:  0.7181500872600349\n",
      "Precision score:  0.6827586206896552\n",
      "Recall score:  0.46153846153846156\n",
      "F1 score:  0.5507649513212797\n"
     ]
    }
   ],
   "source": [
    "from sklearn.metrics import accuracy_score, precision_score, recall_score, f1_score\n",
    "print('Accuracy score: ', format(accuracy_score(predictions,y_test)))\n",
    "print('Precision score: ', format(precision_score(predictions,y_test)))\n",
    "print('Recall score: ', format(recall_score(predictions,y_test)))\n",
    "print('F1 score: ', format(f1_score(predictions,y_test)))"
   ]
  },
  {
   "cell_type": "markdown",
   "id": "0ec68770",
   "metadata": {},
   "source": [
    "## 5.3 KNN "
   ]
  },
  {
   "cell_type": "markdown",
   "id": "87f1a9f4",
   "metadata": {},
   "source": [
    "Đây là bước tinh chỉnh các siêu tham số cho mô hình"
   ]
  },
  {
   "cell_type": "code",
   "execution_count": 156,
   "id": "180d4ddd",
   "metadata": {},
   "outputs": [
    {
     "data": {
      "text/plain": [
       "\"\\nparam_grid = {'n_neighbors': list(range(1,9)),'weights' : ['uniform','distance'],'metric' : ['minkowski','euclidean','manhattan'] }\\ngs_knn = GridSearchCV(KNeighborsClassifier(),param_grid,cv=5)\\ngs_knn.fit(X_train_W2vec,y_train)\\n\""
      ]
     },
     "execution_count": 156,
     "metadata": {},
     "output_type": "execute_result"
    }
   ],
   "source": [
    "from sklearn.neighbors import KNeighborsClassifier\n",
    "\"\"\"\n",
    "param_grid = {'n_neighbors': list(range(1,9)),'weights' : ['uniform','distance'],'metric' : ['minkowski','euclidean','manhattan'] }\n",
    "gs_knn = GridSearchCV(KNeighborsClassifier(),param_grid,cv=5)\n",
    "gs_knn.fit(X_train_W2vec,y_train)\n",
    "\"\"\""
   ]
  },
  {
   "cell_type": "code",
   "execution_count": 157,
   "id": "bef5fcfd",
   "metadata": {},
   "outputs": [],
   "source": [
    "# gs_knn.best_score_"
   ]
  },
  {
   "cell_type": "code",
   "execution_count": 158,
   "id": "cd36de07",
   "metadata": {},
   "outputs": [],
   "source": [
    "# gs_knn.best_params_"
   ]
  },
  {
   "cell_type": "markdown",
   "id": "a67f3ee6",
   "metadata": {},
   "source": [
    "Sử dụng tham số tối ưu đã tìm được vào mô hình học"
   ]
  },
  {
   "cell_type": "code",
   "execution_count": 159,
   "id": "6bb8f1e2",
   "metadata": {},
   "outputs": [],
   "source": [
    "knn = KNeighborsClassifier(n_neighbors = 2, weights = 'uniform',metric = 'minkowski')\n",
    "knn.fit(X_train_W2vec,y_train) \n",
    "y_pred_knn = knn.predict(X_test_W2vec) "
   ]
  },
  {
   "cell_type": "code",
   "execution_count": 160,
   "id": "7d7d4ea6",
   "metadata": {},
   "outputs": [
    {
     "name": "stdout",
     "output_type": "stream",
     "text": [
      "Accuracy score:  0.7931937172774869\n",
      "Precision score:  0.7448275862068966\n",
      "Recall score:  0.5699208443271768\n",
      "F1 score:  0.6457399103139013\n"
     ]
    }
   ],
   "source": [
    "print('Accuracy score: ', format(accuracy_score(y_pred_knn,y_test)))\n",
    "print('Precision score: ', format(precision_score(y_pred_knn,y_test)))\n",
    "print('Recall score: ', format(recall_score(y_pred_knn,y_test)))\n",
    "print('F1 score: ', format(f1_score(y_pred_knn,y_test))) "
   ]
  },
  {
   "cell_type": "markdown",
   "id": "d8ac6956",
   "metadata": {},
   "source": [
    "## 5.4 Random forest "
   ]
  },
  {
   "cell_type": "markdown",
   "id": "23448e0c",
   "metadata": {},
   "source": [
    "Đây là bước tinh chỉnh các siêu tham số cho mô hình"
   ]
  },
  {
   "cell_type": "code",
   "execution_count": 161,
   "id": "1838fdbe",
   "metadata": {},
   "outputs": [
    {
     "data": {
      "text/plain": [
       "\"\\nparam_grid_RF = {'n_estimators': [25, 50, 100, 150],'max_features': ['sqrt', 'log2', None],'max_depth': [3, 6, 9],'max_leaf_nodes': [3, 6, 9],}\\ngs_rf = GridSearchCV(RandomForestClassifier(),param_grid_RF,cv=5)\\ngs_rf.fit(X_train_W2vec,y_train)\\n\""
      ]
     },
     "execution_count": 161,
     "metadata": {},
     "output_type": "execute_result"
    }
   ],
   "source": [
    "from sklearn.ensemble import RandomForestClassifier\n",
    "\"\"\"\n",
    "param_grid_RF = {'n_estimators': [25, 50, 100, 150],'max_features': ['sqrt', 'log2', None],'max_depth': [3, 6, 9],'max_leaf_nodes': [3, 6, 9],}\n",
    "gs_rf = GridSearchCV(RandomForestClassifier(),param_grid_RF,cv=5)\n",
    "gs_rf.fit(X_train_W2vec,y_train)\n",
    "\"\"\" "
   ]
  },
  {
   "cell_type": "code",
   "execution_count": 162,
   "id": "1f32a6ee",
   "metadata": {},
   "outputs": [],
   "source": [
    "# gs_rf.best_score_"
   ]
  },
  {
   "cell_type": "code",
   "execution_count": 163,
   "id": "ea616233",
   "metadata": {},
   "outputs": [],
   "source": [
    "# gs_rf.best_params_"
   ]
  },
  {
   "cell_type": "markdown",
   "id": "0e5551c0",
   "metadata": {},
   "source": [
    "Sử dụng tham số tối ưu đã tìm được vào mô hình học"
   ]
  },
  {
   "cell_type": "code",
   "execution_count": 164,
   "id": "b3c8ac34",
   "metadata": {},
   "outputs": [],
   "source": [
    "rf = RandomForestClassifier(n_estimators=100,max_depth=6,max_leaf_nodes=9,max_features=None,n_jobs=-1)\n",
    "rf_model = rf.fit(X_train_W2vec,y_train)\n",
    "y_pred_rf=rf_model.predict(X_test_W2vec)"
   ]
  },
  {
   "cell_type": "code",
   "execution_count": 165,
   "id": "83aff7fb",
   "metadata": {},
   "outputs": [
    {
     "name": "stdout",
     "output_type": "stream",
     "text": [
      "Accuracy score:  0.8830715532286213\n",
      "Precision score:  0.6931034482758621\n",
      "Recall score:  0.8170731707317073\n",
      "F1 score:  0.75\n"
     ]
    }
   ],
   "source": [
    "print('Accuracy score: ', format(accuracy_score(y_pred_rf,y_test))) \n",
    "print('Precision score: ', format(precision_score(y_pred_rf,y_test)))\n",
    "print('Recall score: ', format(recall_score(y_pred_rf,y_test)))\n",
    "print('F1 score: ', format(f1_score(y_pred_rf,y_test))) "
   ]
  },
  {
   "cell_type": "code",
   "execution_count": 186,
   "id": "f24422cb",
   "metadata": {},
   "outputs": [],
   "source": [
    "import matplotlib.pyplot as plt\n",
    "\n",
    "x_labels = [\"SVM\", \"Naive Bayes\", \"k-NN\", \"Random Forest\"]\n",
    "accuracy_scores = [accuracy_score(y_pred,y_test), accuracy_score(predictions,y_test), accuracy_score(y_pred_knn,y_test), accuracy_score(y_pred_rf,y_test)]\n",
    "precision_scores = [precision_score(y_pred,y_test), precision_score(predictions,y_test), precision_score(y_pred_knn,y_test), precision_score(y_pred_rf,y_test)]\n",
    "recall_scores = [recall_score(y_pred,y_test), recall_score(predictions,y_test), recall_score(y_pred_knn,y_test), recall_score(y_pred_rf,y_test)]\n",
    "f1_scores = [f1_score(y_pred,y_test), f1_score(predictions,y_test), f1_score(y_pred_knn,y_test), f1_score(y_pred_rf,y_test)]"
   ]
  },
  {
   "cell_type": "code",
   "execution_count": 187,
   "id": "e2f0ecc2",
   "metadata": {},
   "outputs": [
    {
     "data": {
      "text/plain": [
       "(0.0, 1.0)"
      ]
     },
     "execution_count": 187,
     "metadata": {},
     "output_type": "execute_result"
    },
    {
     "data": {
      "image/png": "[encoded data removed]",
      "text/plain": [
       "<Figure size 640x480 with 1 Axes>"
      ]
     },
     "metadata": {},
     "output_type": "display_data"
    }
   ],
   "source": [
    "plt.plot(x_labels, accuracy_scores, marker = 'o')\n",
    "plt.plot(x_labels, precision_scores, marker = 'o')\n",
    "plt.plot(x_labels, recall_scores, marker = 'o')\n",
    "plt.plot(x_labels, f1_scores, marker = 'o')\n",
    "plt.legend(['Accuracy', 'Precision', 'Recall', 'F1'])\n",
    "plt.ylim([0,1])"
   ]
  },
  {
   "cell_type": "code",
   "execution_count": 194,
   "id": "b4520ae4",
   "metadata": {},
   "outputs": [
    {
     "data": {
      "text/plain": [
       "(0.0, 1.0)"
      ]
     },
     "execution_count": 194,
     "metadata": {},
     "output_type": "execute_result"
    },
    {
     "data": {
      "image/png": "[encoded data removed]",
      "text/plain": [
       "<Figure size 640x480 with 1 Axes>"
      ]
     },
     "metadata": {},
     "output_type": "display_data"
    }
   ],
   "source": [
    "plt.bar(x_labels, accuracy_scores)\n",
    "plt.bar(x_labels, precision_scores)\n",
    "plt.bar(x_labels, recall_scores)\n",
    "plt.bar(x_labels, f1_scores)\n",
    "plt.legend(['Accuracy', 'Precision', 'Recall', 'F1'], loc=4)\n",
    "plt.ylim([0,1])"
   ]
  },
  {
   "cell_type": "code",
   "execution_count": null,
   "id": "5f2274e8",
   "metadata": {},
   "outputs": [],
   "source": []
  }
 ],
 "metadata": {
  "kernelspec": {
   "display_name": "Python [conda env:projectML] *",
   "language": "python",
   "name": "conda-env-projectML-py"
  },
  "language_info": {
   "codemirror_mode": {
    "name": "ipython",
    "version": 3
   },
   "file_extension": ".py",
   "mimetype": "text/x-python",
   "name": "python",
   "nbconvert_exporter": "python",
   "pygments_lexer": "ipython3",
   "version": "3.10.9"
  }
 },
 "nbformat": 4,
 "nbformat_minor": 5
}
