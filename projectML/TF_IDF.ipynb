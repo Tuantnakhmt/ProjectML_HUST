{
 "cells": [
  {
   "cell_type": "markdown",
   "id": "aed8ebb2",
   "metadata": {},
   "source": [
    "# Trích xuất đặc trưng dựa trên phương pháp TF-IDF "
   ]
  },
  {
   "cell_type": "code",
   "execution_count": 1,
   "id": "7b77929e",
   "metadata": {},
   "outputs": [
    {
     "name": "stderr",
     "output_type": "stream",
     "text": [
      "[nltk_data] Downloading package stopwords to\n",
      "[nltk_data]     C:\\Users\\HP\\AppData\\Roaming\\nltk_data...\n",
      "[nltk_data]   Package stopwords is already up-to-date!\n",
      "[nltk_data] Downloading package wordnet to\n",
      "[nltk_data]     C:\\Users\\HP\\AppData\\Roaming\\nltk_data...\n",
      "[nltk_data]   Package wordnet is already up-to-date!\n"
     ]
    },
    {
     "data": {
      "text/plain": [
       "True"
      ]
     },
     "execution_count": 1,
     "metadata": {},
     "output_type": "execute_result"
    }
   ],
   "source": [
    "import pandas as pd\n",
    "import numpy as np \n",
    "from sklearn.feature_extraction.text import CountVectorizer\n",
    "from sklearn.feature_extraction.text import TfidfTransformer\n",
    "from sklearn.feature_extraction.text import TfidfVectorizer\n",
    "import nltk\n",
    "import re\n",
    "from nltk.stem import WordNetLemmatizer \n",
    "nltk.download('stopwords')\n",
    "nltk.download('wordnet')"
   ]
  },
  {
   "cell_type": "markdown",
   "id": "0b009912",
   "metadata": {},
   "source": [
    "## 1. Tải dữ liệu đã tiền xử lý"
   ]
  },
  {
   "cell_type": "code",
   "execution_count": 2,
   "id": "0e8239e4",
   "metadata": {},
   "outputs": [
    {
     "data": {
      "text/html": [
       "<div>\n",
       "<style scoped>\n",
       "    .dataframe tbody tr th:only-of-type {\n",
       "        vertical-align: middle;\n",
       "    }\n",
       "\n",
       "    .dataframe tbody tr th {\n",
       "        vertical-align: top;\n",
       "    }\n",
       "\n",
       "    .dataframe thead th {\n",
       "        text-align: right;\n",
       "    }\n",
       "</style>\n",
       "<table border=\"1\" class=\"dataframe\">\n",
       "  <thead>\n",
       "    <tr style=\"text-align: right;\">\n",
       "      <th></th>\n",
       "      <th>text</th>\n",
       "      <th>spam</th>\n",
       "    </tr>\n",
       "  </thead>\n",
       "  <tbody>\n",
       "    <tr>\n",
       "      <th>0</th>\n",
       "      <td>subject naturally irresistible corporate ident...</td>\n",
       "      <td>1</td>\n",
       "    </tr>\n",
       "    <tr>\n",
       "      <th>1</th>\n",
       "      <td>subject stock trading gunslinger fanny merrill...</td>\n",
       "      <td>1</td>\n",
       "    </tr>\n",
       "    <tr>\n",
       "      <th>2</th>\n",
       "      <td>subject unbelievable new home made easy im wan...</td>\n",
       "      <td>1</td>\n",
       "    </tr>\n",
       "    <tr>\n",
       "      <th>3</th>\n",
       "      <td>subject color printing special request additio...</td>\n",
       "      <td>1</td>\n",
       "    </tr>\n",
       "    <tr>\n",
       "      <th>4</th>\n",
       "      <td>subject money get software cd software compati...</td>\n",
       "      <td>1</td>\n",
       "    </tr>\n",
       "  </tbody>\n",
       "</table>\n",
       "</div>"
      ],
      "text/plain": [
       "                                                text  spam\n",
       "0  subject naturally irresistible corporate ident...     1\n",
       "1  subject stock trading gunslinger fanny merrill...     1\n",
       "2  subject unbelievable new home made easy im wan...     1\n",
       "3  subject color printing special request additio...     1\n",
       "4  subject money get software cd software compati...     1"
      ]
     },
     "execution_count": 2,
     "metadata": {},
     "output_type": "execute_result"
    }
   ],
   "source": [
    "#loading the phishing URLs data to dataframe\n",
    "data0 = pd.read_csv('/Users/HP/projectML/email_pre_processed.csv')\n",
    "data0.head()\n"
   ]
  },
  {
   "cell_type": "markdown",
   "id": "3a037bef",
   "metadata": {},
   "source": [
    "## 2. Chia dataset thành tập train và tập test "
   ]
  },
  {
   "cell_type": "code",
   "execution_count": 3,
   "id": "2973121d",
   "metadata": {},
   "outputs": [
    {
     "name": "stdout",
     "output_type": "stream",
     "text": [
      "Number of rows in the total set: 5728\n",
      "Number of rows in the training set: 4296\n",
      "Number of rows in the test set: 1432\n"
     ]
    }
   ],
   "source": [
    "from sklearn.model_selection import train_test_split\n",
    "X_train_email, X_test_email, y_train, y_test = train_test_split(data0['text'], \n",
    "                                                    data0['spam'], \n",
    "                                                    random_state=42)\n",
    "# the split ratio is 25% by default\n",
    "# Here df['sms_message'] is X and df['label'] is y for both test and training data\n",
    "print('Number of rows in the total set: {}'.format(data0.shape[0]))\n",
    "print('Number of rows in the training set: {}'.format(X_train_email.shape[0]))\n",
    "print('Number of rows in the test set: {}'.format(X_test_email.shape[0]))\n"
   ]
  },
  {
   "cell_type": "code",
   "execution_count": 4,
   "id": "1df55ddd",
   "metadata": {},
   "outputs": [],
   "source": [
    "#count_vector = CountVectorizer(ngram_range=(1, 1), stop_words =  'english')\n",
    "\n",
    "#Fit the training data and then return the matrix\n",
    "#X_train = count_vector.fit_transform(X_train_email) \n",
    "# to get the the list of feature words that are lowercase with no puttutaion or stop words\n",
    "#Since you fit transform X data training\n",
    "# they convert data to integer data\n",
    "\n",
    "# Transform testing data and return the matrix. Note we are not fitting the testing data into the CountVectorizer()\n",
    "#X_test = count_vector.transform(X_test_email)\n",
    "#Since you transform X data testing\n",
    "# they convert data to integer data"
   ]
  },
  {
   "cell_type": "markdown",
   "id": "15528ca0",
   "metadata": {},
   "source": [
    "## 3. Sử dụng TF-IDF "
   ]
  },
  {
   "cell_type": "markdown",
   "id": "c64c2af9",
   "metadata": {},
   "source": [
    "Quy trình có sự tương tự như BOW\n",
    "\n",
    "- Khởi tạo từ điển từ ngữ trong tập huấn luyện.\n",
    "- Tính toán các giá trị TF và IDF. Biểu diễn các email trong tập huấn luyện thành dạng các vector, mỗi chiều tương ứng với giá trị TF-IDF của từ trong từ điển đối với email.\n",
    "\n",
    "Công cụ sử dụng: TfidfVectorizer()\n",
    "\n",
    "- Thực tế TfidfVectorizer() là sự kết hợp của CountVectorizer() và Tfidftransformer()\n",
    "- Sử dụng Tfidftransformer() để tính giá trị IDF"
   ]
  },
  {
   "cell_type": "code",
   "execution_count": 5,
   "id": "04ac8924",
   "metadata": {},
   "outputs": [
    {
     "name": "stdout",
     "output_type": "stream",
     "text": [
      "n_samples: 4296, n_features: 26736\n"
     ]
    }
   ],
   "source": [
    "#tf idf\n",
    "tf_idf = TfidfVectorizer(ngram_range=(1, 1), lowercase = True , stop_words =  'english')\n",
    "#applying tf idf to training data\n",
    "X_train_email_tf = tf_idf.fit_transform(X_train_email)\n",
    "#applying tf idf to training data\n",
    "#X_train_email_tf = tf_idf.transform(X_train_email)\n",
    "\n",
    "print(\"n_samples: %d, n_features: %d\" % X_train_email_tf.shape)"
   ]
  },
  {
   "cell_type": "code",
   "execution_count": 6,
   "id": "5a5e36d8",
   "metadata": {},
   "outputs": [
    {
     "name": "stdout",
     "output_type": "stream",
     "text": [
      "n_samples: 1432, n_features: 26736\n"
     ]
    }
   ],
   "source": [
    "#transforming test data into tf-idf matrix\n",
    "X_test_email_tf = tf_idf.transform(X_test_email)\n",
    "print(\"n_samples: %d, n_features: %d\" % X_test_email_tf.shape)"
   ]
  },
  {
   "cell_type": "code",
   "execution_count": 7,
   "id": "65b02c87",
   "metadata": {},
   "outputs": [
    {
     "name": "stdout",
     "output_type": "stream",
     "text": [
      "[6.10757585 7.57391291 8.6725252  ... 8.6725252  8.2670601  7.97937802]\n"
     ]
    }
   ],
   "source": [
    "print(tf_idf.idf_) "
   ]
  },
  {
   "cell_type": "code",
   "execution_count": 8,
   "id": "7ecbe628",
   "metadata": {},
   "outputs": [
    {
     "data": {
      "text/plain": [
       "array(['aa', 'aaa', 'aadedeji', ..., 'zzn', 'zzncacst', 'zzzz'],\n",
       "      dtype=object)"
      ]
     },
     "execution_count": 8,
     "metadata": {},
     "output_type": "execute_result"
    }
   ],
   "source": [
    "X_train_feature_list = tf_idf.get_feature_names_out()\n",
    "X_train_feature_list "
   ]
  },
  {
   "cell_type": "code",
   "execution_count": 9,
   "id": "ee5baa76",
   "metadata": {},
   "outputs": [
    {
     "data": {
      "text/plain": [
       "array([[0., 0., 0., ..., 0., 0., 0.],\n",
       "       [0., 0., 0., ..., 0., 0., 0.],\n",
       "       [0., 0., 0., ..., 0., 0., 0.],\n",
       "       ...,\n",
       "       [0., 0., 0., ..., 0., 0., 0.],\n",
       "       [0., 0., 0., ..., 0., 0., 0.],\n",
       "       [0., 0., 0., ..., 0., 0., 0.]])"
      ]
     },
     "execution_count": 9,
     "metadata": {},
     "output_type": "execute_result"
    }
   ],
   "source": [
    "doc_array =  X_train_email_tf.toarray()\n",
    "doc_array"
   ]
  },
  {
   "cell_type": "code",
   "execution_count": 10,
   "id": "bff509a6",
   "metadata": {},
   "outputs": [
    {
     "data": {
      "text/html": [
       "<div>\n",
       "<style scoped>\n",
       "    .dataframe tbody tr th:only-of-type {\n",
       "        vertical-align: middle;\n",
       "    }\n",
       "\n",
       "    .dataframe tbody tr th {\n",
       "        vertical-align: top;\n",
       "    }\n",
       "\n",
       "    .dataframe thead th {\n",
       "        text-align: right;\n",
       "    }\n",
       "</style>\n",
       "<table border=\"1\" class=\"dataframe\">\n",
       "  <thead>\n",
       "    <tr style=\"text-align: right;\">\n",
       "      <th></th>\n",
       "      <th>aa</th>\n",
       "      <th>aaa</th>\n",
       "      <th>aadedeji</th>\n",
       "      <th>aagrawal</th>\n",
       "      <th>aal</th>\n",
       "      <th>aaldous</th>\n",
       "      <th>aall</th>\n",
       "      <th>aanalysis</th>\n",
       "      <th>aaron</th>\n",
       "      <th>aawesome</th>\n",
       "      <th>...</th>\n",
       "      <th>zwrocic</th>\n",
       "      <th>zwwyw</th>\n",
       "      <th>zwzm</th>\n",
       "      <th>zxghlajf</th>\n",
       "      <th>zyc</th>\n",
       "      <th>zygoma</th>\n",
       "      <th>zymg</th>\n",
       "      <th>zzn</th>\n",
       "      <th>zzncacst</th>\n",
       "      <th>zzzz</th>\n",
       "    </tr>\n",
       "  </thead>\n",
       "  <tbody>\n",
       "    <tr>\n",
       "      <th>0</th>\n",
       "      <td>0.0</td>\n",
       "      <td>0.0</td>\n",
       "      <td>0.0</td>\n",
       "      <td>0.0</td>\n",
       "      <td>0.0</td>\n",
       "      <td>0.0</td>\n",
       "      <td>0.0</td>\n",
       "      <td>0.0</td>\n",
       "      <td>0.0</td>\n",
       "      <td>0.0</td>\n",
       "      <td>...</td>\n",
       "      <td>0.0</td>\n",
       "      <td>0.0</td>\n",
       "      <td>0.0</td>\n",
       "      <td>0.0</td>\n",
       "      <td>0.0</td>\n",
       "      <td>0.0</td>\n",
       "      <td>0.0</td>\n",
       "      <td>0.0</td>\n",
       "      <td>0.0</td>\n",
       "      <td>0.0</td>\n",
       "    </tr>\n",
       "    <tr>\n",
       "      <th>1</th>\n",
       "      <td>0.0</td>\n",
       "      <td>0.0</td>\n",
       "      <td>0.0</td>\n",
       "      <td>0.0</td>\n",
       "      <td>0.0</td>\n",
       "      <td>0.0</td>\n",
       "      <td>0.0</td>\n",
       "      <td>0.0</td>\n",
       "      <td>0.0</td>\n",
       "      <td>0.0</td>\n",
       "      <td>...</td>\n",
       "      <td>0.0</td>\n",
       "      <td>0.0</td>\n",
       "      <td>0.0</td>\n",
       "      <td>0.0</td>\n",
       "      <td>0.0</td>\n",
       "      <td>0.0</td>\n",
       "      <td>0.0</td>\n",
       "      <td>0.0</td>\n",
       "      <td>0.0</td>\n",
       "      <td>0.0</td>\n",
       "    </tr>\n",
       "    <tr>\n",
       "      <th>2</th>\n",
       "      <td>0.0</td>\n",
       "      <td>0.0</td>\n",
       "      <td>0.0</td>\n",
       "      <td>0.0</td>\n",
       "      <td>0.0</td>\n",
       "      <td>0.0</td>\n",
       "      <td>0.0</td>\n",
       "      <td>0.0</td>\n",
       "      <td>0.0</td>\n",
       "      <td>0.0</td>\n",
       "      <td>...</td>\n",
       "      <td>0.0</td>\n",
       "      <td>0.0</td>\n",
       "      <td>0.0</td>\n",
       "      <td>0.0</td>\n",
       "      <td>0.0</td>\n",
       "      <td>0.0</td>\n",
       "      <td>0.0</td>\n",
       "      <td>0.0</td>\n",
       "      <td>0.0</td>\n",
       "      <td>0.0</td>\n",
       "    </tr>\n",
       "    <tr>\n",
       "      <th>3</th>\n",
       "      <td>0.0</td>\n",
       "      <td>0.0</td>\n",
       "      <td>0.0</td>\n",
       "      <td>0.0</td>\n",
       "      <td>0.0</td>\n",
       "      <td>0.0</td>\n",
       "      <td>0.0</td>\n",
       "      <td>0.0</td>\n",
       "      <td>0.0</td>\n",
       "      <td>0.0</td>\n",
       "      <td>...</td>\n",
       "      <td>0.0</td>\n",
       "      <td>0.0</td>\n",
       "      <td>0.0</td>\n",
       "      <td>0.0</td>\n",
       "      <td>0.0</td>\n",
       "      <td>0.0</td>\n",
       "      <td>0.0</td>\n",
       "      <td>0.0</td>\n",
       "      <td>0.0</td>\n",
       "      <td>0.0</td>\n",
       "    </tr>\n",
       "    <tr>\n",
       "      <th>4</th>\n",
       "      <td>0.0</td>\n",
       "      <td>0.0</td>\n",
       "      <td>0.0</td>\n",
       "      <td>0.0</td>\n",
       "      <td>0.0</td>\n",
       "      <td>0.0</td>\n",
       "      <td>0.0</td>\n",
       "      <td>0.0</td>\n",
       "      <td>0.0</td>\n",
       "      <td>0.0</td>\n",
       "      <td>...</td>\n",
       "      <td>0.0</td>\n",
       "      <td>0.0</td>\n",
       "      <td>0.0</td>\n",
       "      <td>0.0</td>\n",
       "      <td>0.0</td>\n",
       "      <td>0.0</td>\n",
       "      <td>0.0</td>\n",
       "      <td>0.0</td>\n",
       "      <td>0.0</td>\n",
       "      <td>0.0</td>\n",
       "    </tr>\n",
       "    <tr>\n",
       "      <th>...</th>\n",
       "      <td>...</td>\n",
       "      <td>...</td>\n",
       "      <td>...</td>\n",
       "      <td>...</td>\n",
       "      <td>...</td>\n",
       "      <td>...</td>\n",
       "      <td>...</td>\n",
       "      <td>...</td>\n",
       "      <td>...</td>\n",
       "      <td>...</td>\n",
       "      <td>...</td>\n",
       "      <td>...</td>\n",
       "      <td>...</td>\n",
       "      <td>...</td>\n",
       "      <td>...</td>\n",
       "      <td>...</td>\n",
       "      <td>...</td>\n",
       "      <td>...</td>\n",
       "      <td>...</td>\n",
       "      <td>...</td>\n",
       "      <td>...</td>\n",
       "    </tr>\n",
       "    <tr>\n",
       "      <th>4291</th>\n",
       "      <td>0.0</td>\n",
       "      <td>0.0</td>\n",
       "      <td>0.0</td>\n",
       "      <td>0.0</td>\n",
       "      <td>0.0</td>\n",
       "      <td>0.0</td>\n",
       "      <td>0.0</td>\n",
       "      <td>0.0</td>\n",
       "      <td>0.0</td>\n",
       "      <td>0.0</td>\n",
       "      <td>...</td>\n",
       "      <td>0.0</td>\n",
       "      <td>0.0</td>\n",
       "      <td>0.0</td>\n",
       "      <td>0.0</td>\n",
       "      <td>0.0</td>\n",
       "      <td>0.0</td>\n",
       "      <td>0.0</td>\n",
       "      <td>0.0</td>\n",
       "      <td>0.0</td>\n",
       "      <td>0.0</td>\n",
       "    </tr>\n",
       "    <tr>\n",
       "      <th>4292</th>\n",
       "      <td>0.0</td>\n",
       "      <td>0.0</td>\n",
       "      <td>0.0</td>\n",
       "      <td>0.0</td>\n",
       "      <td>0.0</td>\n",
       "      <td>0.0</td>\n",
       "      <td>0.0</td>\n",
       "      <td>0.0</td>\n",
       "      <td>0.0</td>\n",
       "      <td>0.0</td>\n",
       "      <td>...</td>\n",
       "      <td>0.0</td>\n",
       "      <td>0.0</td>\n",
       "      <td>0.0</td>\n",
       "      <td>0.0</td>\n",
       "      <td>0.0</td>\n",
       "      <td>0.0</td>\n",
       "      <td>0.0</td>\n",
       "      <td>0.0</td>\n",
       "      <td>0.0</td>\n",
       "      <td>0.0</td>\n",
       "    </tr>\n",
       "    <tr>\n",
       "      <th>4293</th>\n",
       "      <td>0.0</td>\n",
       "      <td>0.0</td>\n",
       "      <td>0.0</td>\n",
       "      <td>0.0</td>\n",
       "      <td>0.0</td>\n",
       "      <td>0.0</td>\n",
       "      <td>0.0</td>\n",
       "      <td>0.0</td>\n",
       "      <td>0.0</td>\n",
       "      <td>0.0</td>\n",
       "      <td>...</td>\n",
       "      <td>0.0</td>\n",
       "      <td>0.0</td>\n",
       "      <td>0.0</td>\n",
       "      <td>0.0</td>\n",
       "      <td>0.0</td>\n",
       "      <td>0.0</td>\n",
       "      <td>0.0</td>\n",
       "      <td>0.0</td>\n",
       "      <td>0.0</td>\n",
       "      <td>0.0</td>\n",
       "    </tr>\n",
       "    <tr>\n",
       "      <th>4294</th>\n",
       "      <td>0.0</td>\n",
       "      <td>0.0</td>\n",
       "      <td>0.0</td>\n",
       "      <td>0.0</td>\n",
       "      <td>0.0</td>\n",
       "      <td>0.0</td>\n",
       "      <td>0.0</td>\n",
       "      <td>0.0</td>\n",
       "      <td>0.0</td>\n",
       "      <td>0.0</td>\n",
       "      <td>...</td>\n",
       "      <td>0.0</td>\n",
       "      <td>0.0</td>\n",
       "      <td>0.0</td>\n",
       "      <td>0.0</td>\n",
       "      <td>0.0</td>\n",
       "      <td>0.0</td>\n",
       "      <td>0.0</td>\n",
       "      <td>0.0</td>\n",
       "      <td>0.0</td>\n",
       "      <td>0.0</td>\n",
       "    </tr>\n",
       "    <tr>\n",
       "      <th>4295</th>\n",
       "      <td>0.0</td>\n",
       "      <td>0.0</td>\n",
       "      <td>0.0</td>\n",
       "      <td>0.0</td>\n",
       "      <td>0.0</td>\n",
       "      <td>0.0</td>\n",
       "      <td>0.0</td>\n",
       "      <td>0.0</td>\n",
       "      <td>0.0</td>\n",
       "      <td>0.0</td>\n",
       "      <td>...</td>\n",
       "      <td>0.0</td>\n",
       "      <td>0.0</td>\n",
       "      <td>0.0</td>\n",
       "      <td>0.0</td>\n",
       "      <td>0.0</td>\n",
       "      <td>0.0</td>\n",
       "      <td>0.0</td>\n",
       "      <td>0.0</td>\n",
       "      <td>0.0</td>\n",
       "      <td>0.0</td>\n",
       "    </tr>\n",
       "  </tbody>\n",
       "</table>\n",
       "<p>4296 rows × 26736 columns</p>\n",
       "</div>"
      ],
      "text/plain": [
       "       aa  aaa  aadedeji  aagrawal  aal  aaldous  aall  aanalysis  aaron  \\\n",
       "0     0.0  0.0       0.0       0.0  0.0      0.0   0.0        0.0    0.0   \n",
       "1     0.0  0.0       0.0       0.0  0.0      0.0   0.0        0.0    0.0   \n",
       "2     0.0  0.0       0.0       0.0  0.0      0.0   0.0        0.0    0.0   \n",
       "3     0.0  0.0       0.0       0.0  0.0      0.0   0.0        0.0    0.0   \n",
       "4     0.0  0.0       0.0       0.0  0.0      0.0   0.0        0.0    0.0   \n",
       "...   ...  ...       ...       ...  ...      ...   ...        ...    ...   \n",
       "4291  0.0  0.0       0.0       0.0  0.0      0.0   0.0        0.0    0.0   \n",
       "4292  0.0  0.0       0.0       0.0  0.0      0.0   0.0        0.0    0.0   \n",
       "4293  0.0  0.0       0.0       0.0  0.0      0.0   0.0        0.0    0.0   \n",
       "4294  0.0  0.0       0.0       0.0  0.0      0.0   0.0        0.0    0.0   \n",
       "4295  0.0  0.0       0.0       0.0  0.0      0.0   0.0        0.0    0.0   \n",
       "\n",
       "      aawesome  ...  zwrocic  zwwyw  zwzm  zxghlajf  zyc  zygoma  zymg  zzn  \\\n",
       "0          0.0  ...      0.0    0.0   0.0       0.0  0.0     0.0   0.0  0.0   \n",
       "1          0.0  ...      0.0    0.0   0.0       0.0  0.0     0.0   0.0  0.0   \n",
       "2          0.0  ...      0.0    0.0   0.0       0.0  0.0     0.0   0.0  0.0   \n",
       "3          0.0  ...      0.0    0.0   0.0       0.0  0.0     0.0   0.0  0.0   \n",
       "4          0.0  ...      0.0    0.0   0.0       0.0  0.0     0.0   0.0  0.0   \n",
       "...        ...  ...      ...    ...   ...       ...  ...     ...   ...  ...   \n",
       "4291       0.0  ...      0.0    0.0   0.0       0.0  0.0     0.0   0.0  0.0   \n",
       "4292       0.0  ...      0.0    0.0   0.0       0.0  0.0     0.0   0.0  0.0   \n",
       "4293       0.0  ...      0.0    0.0   0.0       0.0  0.0     0.0   0.0  0.0   \n",
       "4294       0.0  ...      0.0    0.0   0.0       0.0  0.0     0.0   0.0  0.0   \n",
       "4295       0.0  ...      0.0    0.0   0.0       0.0  0.0     0.0   0.0  0.0   \n",
       "\n",
       "      zzncacst  zzzz  \n",
       "0          0.0   0.0  \n",
       "1          0.0   0.0  \n",
       "2          0.0   0.0  \n",
       "3          0.0   0.0  \n",
       "4          0.0   0.0  \n",
       "...        ...   ...  \n",
       "4291       0.0   0.0  \n",
       "4292       0.0   0.0  \n",
       "4293       0.0   0.0  \n",
       "4294       0.0   0.0  \n",
       "4295       0.0   0.0  \n",
       "\n",
       "[4296 rows x 26736 columns]"
      ]
     },
     "execution_count": 10,
     "metadata": {},
     "output_type": "execute_result"
    }
   ],
   "source": [
    "frequency_matrix_X_train = pd.DataFrame((doc_array),columns = X_train_feature_list)\n",
    "frequency_matrix_X_train"
   ]
  },
  {
   "cell_type": "markdown",
   "id": "57bc6f57",
   "metadata": {},
   "source": [
    "## 4. Huấn luyện mô hình"
   ]
  },
  {
   "cell_type": "markdown",
   "id": "aa3632e8",
   "metadata": {},
   "source": [
    "Nhóm sử dụng 4 mô hình gồm Gaussian Naive Bayes, SVM, KNN và RandomForest."
   ]
  },
  {
   "cell_type": "markdown",
   "id": "1eb9b227",
   "metadata": {},
   "source": [
    "### 4.1 Gaussian Naive Bayes "
   ]
  },
  {
   "cell_type": "code",
   "execution_count": 11,
   "id": "d1461f51",
   "metadata": {},
   "outputs": [
    {
     "data": {
      "text/html": [
       "<style>#sk-container-id-1 {color: black;background-color: white;}#sk-container-id-1 pre{padding: 0;}#sk-container-id-1 div.sk-toggleable {background-color: white;}#sk-container-id-1 label.sk-toggleable__label {cursor: pointer;display: block;width: 100%;margin-bottom: 0;padding: 0.3em;box-sizing: border-box;text-align: center;}#sk-container-id-1 label.sk-toggleable__label-arrow:before {content: \"▸\";float: left;margin-right: 0.25em;color: #696969;}#sk-container-id-1 label.sk-toggleable__label-arrow:hover:before {color: black;}#sk-container-id-1 div.sk-estimator:hover label.sk-toggleable__label-arrow:before {color: black;}#sk-container-id-1 div.sk-toggleable__content {max-height: 0;max-width: 0;overflow: hidden;text-align: left;background-color: #f0f8ff;}#sk-container-id-1 div.sk-toggleable__content pre {margin: 0.2em;color: black;border-radius: 0.25em;background-color: #f0f8ff;}#sk-container-id-1 input.sk-toggleable__control:checked~div.sk-toggleable__content {max-height: 200px;max-width: 100%;overflow: auto;}#sk-container-id-1 input.sk-toggleable__control:checked~label.sk-toggleable__label-arrow:before {content: \"▾\";}#sk-container-id-1 div.sk-estimator input.sk-toggleable__control:checked~label.sk-toggleable__label {background-color: #d4ebff;}#sk-container-id-1 div.sk-label input.sk-toggleable__control:checked~label.sk-toggleable__label {background-color: #d4ebff;}#sk-container-id-1 input.sk-hidden--visually {border: 0;clip: rect(1px 1px 1px 1px);clip: rect(1px, 1px, 1px, 1px);height: 1px;margin: -1px;overflow: hidden;padding: 0;position: absolute;width: 1px;}#sk-container-id-1 div.sk-estimator {font-family: monospace;background-color: #f0f8ff;border: 1px dotted black;border-radius: 0.25em;box-sizing: border-box;margin-bottom: 0.5em;}#sk-container-id-1 div.sk-estimator:hover {background-color: #d4ebff;}#sk-container-id-1 div.sk-parallel-item::after {content: \"\";width: 100%;border-bottom: 1px solid gray;flex-grow: 1;}#sk-container-id-1 div.sk-label:hover label.sk-toggleable__label {background-color: #d4ebff;}#sk-container-id-1 div.sk-serial::before {content: \"\";position: absolute;border-left: 1px solid gray;box-sizing: border-box;top: 0;bottom: 0;left: 50%;z-index: 0;}#sk-container-id-1 div.sk-serial {display: flex;flex-direction: column;align-items: center;background-color: white;padding-right: 0.2em;padding-left: 0.2em;position: relative;}#sk-container-id-1 div.sk-item {position: relative;z-index: 1;}#sk-container-id-1 div.sk-parallel {display: flex;align-items: stretch;justify-content: center;background-color: white;position: relative;}#sk-container-id-1 div.sk-item::before, #sk-container-id-1 div.sk-parallel-item::before {content: \"\";position: absolute;border-left: 1px solid gray;box-sizing: border-box;top: 0;bottom: 0;left: 50%;z-index: -1;}#sk-container-id-1 div.sk-parallel-item {display: flex;flex-direction: column;z-index: 1;position: relative;background-color: white;}#sk-container-id-1 div.sk-parallel-item:first-child::after {align-self: flex-end;width: 50%;}#sk-container-id-1 div.sk-parallel-item:last-child::after {align-self: flex-start;width: 50%;}#sk-container-id-1 div.sk-parallel-item:only-child::after {width: 0;}#sk-container-id-1 div.sk-dashed-wrapped {border: 1px dashed gray;margin: 0 0.4em 0.5em 0.4em;box-sizing: border-box;padding-bottom: 0.4em;background-color: white;}#sk-container-id-1 div.sk-label label {font-family: monospace;font-weight: bold;display: inline-block;line-height: 1.2em;}#sk-container-id-1 div.sk-label-container {text-align: center;}#sk-container-id-1 div.sk-container {/* jupyter's `normalize.less` sets `[hidden] { display: none; }` but bootstrap.min.css set `[hidden] { display: none !important; }` so we also need the `!important` here to be able to override the default hidden behavior on the sphinx rendered scikit-learn.org. See: https://github.com/scikit-learn/scikit-learn/issues/21755 */display: inline-block !important;position: relative;}#sk-container-id-1 div.sk-text-repr-fallback {display: none;}</style><div id=\"sk-container-id-1\" class=\"sk-top-container\"><div class=\"sk-text-repr-fallback\"><pre>GaussianNB()</pre><b>In a Jupyter environment, please rerun this cell to show the HTML representation or trust the notebook. <br />On GitHub, the HTML representation is unable to render, please try loading this page with nbviewer.org.</b></div><div class=\"sk-container\" hidden><div class=\"sk-item\"><div class=\"sk-estimator sk-toggleable\"><input class=\"sk-toggleable__control sk-hidden--visually\" id=\"sk-estimator-id-1\" type=\"checkbox\" checked><label for=\"sk-estimator-id-1\" class=\"sk-toggleable__label sk-toggleable__label-arrow\">GaussianNB</label><div class=\"sk-toggleable__content\"><pre>GaussianNB()</pre></div></div></div></div></div>"
      ],
      "text/plain": [
       "GaussianNB()"
      ]
     },
     "execution_count": 11,
     "metadata": {},
     "output_type": "execute_result"
    }
   ],
   "source": [
    "#naive bayes classifier\n",
    "from sklearn.naive_bayes import GaussianNB\n",
    "naive_bayes = GaussianNB()\n",
    "naive_bayes.fit(X_train_email_tf.toarray(), y_train)"
   ]
  },
  {
   "cell_type": "code",
   "execution_count": 12,
   "id": "6bca425d",
   "metadata": {},
   "outputs": [
    {
     "data": {
      "text/plain": [
       "array([0, 0, 0, ..., 0, 1, 0], dtype=int64)"
      ]
     },
     "execution_count": 12,
     "metadata": {},
     "output_type": "execute_result"
    }
   ],
   "source": [
    "predictions = naive_bayes.predict(X_test_email_tf.toarray())\n",
    "predictions"
   ]
  },
  {
   "cell_type": "code",
   "execution_count": 13,
   "id": "2be1a815",
   "metadata": {},
   "outputs": [
    {
     "name": "stdout",
     "output_type": "stream",
     "text": [
      "Accuracy score:  0.9476256983240223\n",
      "Precision score:  0.8373983739837398\n",
      "Recall score:  0.9537037037037037\n",
      "F1 score:  0.8917748917748918\n"
     ]
    }
   ],
   "source": [
    "from sklearn.metrics import accuracy_score, precision_score, recall_score, f1_score\n",
    "print('Accuracy score: ', format(accuracy_score(predictions,y_test)))\n",
    "print('Precision score: ', format(precision_score(predictions,y_test)))\n",
    "print('Recall score: ', format(recall_score(predictions,y_test)))\n",
    "print('F1 score: ', format(f1_score(predictions,y_test)))"
   ]
  },
  {
   "cell_type": "markdown",
   "id": "03d99430",
   "metadata": {},
   "source": [
    "### 5.2 SVM"
   ]
  },
  {
   "cell_type": "markdown",
   "id": "8f0c20a6",
   "metadata": {},
   "source": [
    "Đây là bước tinh chỉnh các siêu tham số cho mô hình"
   ]
  },
  {
   "cell_type": "code",
   "execution_count": 14,
   "id": "5527bd98",
   "metadata": {},
   "outputs": [],
   "source": [
    "from sklearn import svm\n",
    "from sklearn.svm import SVC \n",
    "from sklearn.model_selection import GridSearchCV\n",
    "# param_grid_SVM = {'C': [0.1, 1, 10, 100, 1000],\n",
    "#               'gamma': [1, 0.1, 0.01, 0.001, 0.0001],\n",
    "#               'kernel': ['rbf','linear']}\n",
    "\n",
    "\n",
    "# gs_svm = GridSearchCV(SVC(),param_grid_SVM,cv=4) \n",
    "# gs_svm.fit(X_train_email_tf, y_train)"
   ]
  },
  {
   "cell_type": "code",
   "execution_count": 15,
   "id": "63c6c279",
   "metadata": {},
   "outputs": [],
   "source": [
    "# gs_svm.best_score_"
   ]
  },
  {
   "cell_type": "code",
   "execution_count": 16,
   "id": "42ca8999",
   "metadata": {},
   "outputs": [],
   "source": [
    "# gs_svm.best_params_"
   ]
  },
  {
   "cell_type": "markdown",
   "id": "700b4f76",
   "metadata": {},
   "source": [
    "Sử dụng tham số tối ưu đã tìm được vào mô hình học "
   ]
  },
  {
   "cell_type": "code",
   "execution_count": 17,
   "id": "bcb6f1f4",
   "metadata": {},
   "outputs": [],
   "source": [
    "#Create a svm Classifier\n",
    "clf = svm.SVC(C=1, gamma=1,kernel='linear') \n",
    "\n",
    "#Train the model using the training sets\n",
    "clf.fit(X_train_email_tf, y_train)\n",
    "\n",
    "#Predict the response for test dataset\n",
    "y_pred_svm = clf.predict(X_test_email_tf)"
   ]
  },
  {
   "cell_type": "code",
   "execution_count": 18,
   "id": "12a7eb3c",
   "metadata": {},
   "outputs": [
    {
     "name": "stdout",
     "output_type": "stream",
     "text": [
      "Accuracy score:  0.9909217877094972\n",
      "Precision score:  0.9944444444444445\n",
      "Recall score:  0.9701897018970189\n",
      "F1 score:  0.9821673525377229\n"
     ]
    }
   ],
   "source": [
    "print('Accuracy score: ', format(accuracy_score(y_pred_svm, y_test)))\n",
    "print('Precision score: ', format(precision_score(y_test ,y_pred_svm)))\n",
    "print('Recall score: ', format(recall_score(y_test ,y_pred_svm)))\n",
    "print('F1 score: ', format(f1_score(y_test ,y_pred_svm)))"
   ]
  },
  {
   "cell_type": "markdown",
   "id": "67b8e449",
   "metadata": {},
   "source": [
    "### 5.3 KNN "
   ]
  },
  {
   "cell_type": "markdown",
   "id": "550c5b79",
   "metadata": {},
   "source": [
    "Đây là bước tinh chỉnh các siêu tham số cho mô hình"
   ]
  },
  {
   "cell_type": "code",
   "execution_count": 23,
   "id": "ba9fd623",
   "metadata": {},
   "outputs": [],
   "source": [
    " from sklearn.neighbors import KNeighborsClassifier\n",
    "# param_grid = {'n_neighbors': list(range(1,9)),'weights' : ['uniform','distance'],'metric' : ['minkowski','euclidean','manhattan'] }\n",
    "# gs_knn = GridSearchCV(KNeighborsClassifier(),param_grid,cv=3)\n",
    "# gs_knn.fit(X_train_email_tf, y_train)"
   ]
  },
  {
   "cell_type": "code",
   "execution_count": 24,
   "id": "39068439",
   "metadata": {},
   "outputs": [],
   "source": [
    "# gs_knn.best_score_"
   ]
  },
  {
   "cell_type": "code",
   "execution_count": 25,
   "id": "0301c3ae",
   "metadata": {},
   "outputs": [],
   "source": [
    "# gs_knn.best_params_"
   ]
  },
  {
   "cell_type": "markdown",
   "id": "358f7cdd",
   "metadata": {},
   "source": [
    "Sử dụng tham số tối ưu đã tìm được vào mô hình học"
   ]
  },
  {
   "cell_type": "code",
   "execution_count": 26,
   "id": "f705db81",
   "metadata": {},
   "outputs": [],
   "source": [
    "knn = KNeighborsClassifier(n_neighbors = 8, weights = 'distance',metric = 'minkowski')\n",
    "\n",
    "knn.fit(X_train_email_tf, y_train) \n",
    "y_pred_knn = knn.predict(X_test_email_tf)"
   ]
  },
  {
   "cell_type": "code",
   "execution_count": 27,
   "id": "95bf853f",
   "metadata": {},
   "outputs": [
    {
     "name": "stdout",
     "output_type": "stream",
     "text": [
      "Accuracy score:  0.973463687150838\n",
      "Precision score:  0.9105691056910569\n",
      "Recall score:  0.9853372434017595\n",
      "F1 score:  0.9464788732394366\n"
     ]
    }
   ],
   "source": [
    "print('Accuracy score: ', format(accuracy_score(y_pred_knn, y_test))) \n",
    "print('Precision score: ', format(precision_score(y_pred_knn,y_test)))\n",
    "print('Recall score: ', format(recall_score(y_pred_knn,y_test)))\n",
    "print('F1 score: ', format(f1_score(y_pred_knn,y_test)))"
   ]
  },
  {
   "cell_type": "markdown",
   "id": "cb6bd15d",
   "metadata": {},
   "source": [
    "### 5.4 Randomforest"
   ]
  },
  {
   "cell_type": "markdown",
   "id": "d7c8eb75",
   "metadata": {},
   "source": [
    "Đây là bước tinh chỉnh các siêu tham số cho mô hình"
   ]
  },
  {
   "cell_type": "code",
   "execution_count": 28,
   "id": "7ec4bbe2",
   "metadata": {},
   "outputs": [],
   "source": [
    "from sklearn.ensemble import RandomForestClassifier\n",
    "# param_grid_RF = {'n_estimators': [25, 50, 100, 150],'max_features': ['sqrt', 'log2', None],'max_depth': [3, 6, 9],'max_leaf_nodes': [3, 6, 9],}\n",
    "# gs_rf = GridSearchCV(RandomForestClassifier(),param_grid_RF,cv=5)\n",
    "# gs_rf.fit(X_train_email_tf, y_train)"
   ]
  },
  {
   "cell_type": "code",
   "execution_count": 29,
   "id": "a88120d3",
   "metadata": {},
   "outputs": [],
   "source": [
    "# gs_rf.best_score_"
   ]
  },
  {
   "cell_type": "code",
   "execution_count": 30,
   "id": "38da9ade",
   "metadata": {},
   "outputs": [],
   "source": [
    "# gs_rf.best_params_"
   ]
  },
  {
   "cell_type": "markdown",
   "id": "e52da5c8",
   "metadata": {},
   "source": [
    "Sử dụng tham số tối ưu đã tìm được vào mô hình học"
   ]
  },
  {
   "cell_type": "code",
   "execution_count": 31,
   "id": "44823f70",
   "metadata": {},
   "outputs": [],
   "source": [
    "rf = RandomForestClassifier(n_estimators=150,max_depth=9,max_features= None,max_leaf_nodes=9,n_jobs=-1)\n",
    "rf_model = rf.fit(X_train_email_tf, y_train)\n",
    "y_pred_rf=rf_model.predict(X_test_email_tf)"
   ]
  },
  {
   "cell_type": "code",
   "execution_count": 32,
   "id": "111f2535",
   "metadata": {},
   "outputs": [
    {
     "name": "stdout",
     "output_type": "stream",
     "text": [
      "Accuracy score:  0.9266759776536313\n",
      "Precision score:  0.9376693766937669\n",
      "Recall score:  0.8084112149532711\n",
      "F1 score:  0.8682559598494354\n"
     ]
    }
   ],
   "source": [
    "print('Accuracy score: ', format(accuracy_score(y_pred_rf,y_test)))  \n",
    "print('Precision score: ', format(precision_score(y_pred_rf,y_test)))\n",
    "print('Recall score: ', format(recall_score(y_pred_rf,y_test)))\n",
    "print('F1 score: ', format(f1_score(y_pred_rf,y_test)))"
   ]
  },
  {
   "cell_type": "code",
   "execution_count": 34,
   "id": "f7d9c48e",
   "metadata": {},
   "outputs": [],
   "source": [
    "import matplotlib.pyplot as plt\n",
    "x_labels = [\"SVM\", \"Naive Bayes\", \"k-NN\", \"Random Forest\"]\n",
    "accuracy_scores = [accuracy_score(y_test, y_pred_svm), accuracy_score(predictions,y_test), accuracy_score(y_pred_knn,y_test), accuracy_score(y_pred_rf,y_test)]\n",
    "precision_scores = [precision_score(y_pred_svm,y_test), precision_score(predictions,y_test), precision_score(y_pred_knn,y_test), precision_score(y_pred_rf,y_test)]\n",
    "recall_scores = [recall_score(y_pred_svm,y_test), recall_score(predictions,y_test), recall_score(y_pred_knn,y_test), recall_score(y_pred_rf,y_test)]\n",
    "f1_scores = [f1_score(y_pred_svm,y_test), f1_score(predictions,y_test), f1_score(y_pred_knn,y_test), f1_score(y_pred_rf,y_test)]"
   ]
  },
  {
   "cell_type": "code",
   "execution_count": 35,
   "id": "a3f140f1",
   "metadata": {},
   "outputs": [
    {
     "data": {
      "text/plain": [
       "(0.0, 1.0)"
      ]
     },
     "execution_count": 35,
     "metadata": {},
     "output_type": "execute_result"
    },
    {
     "data": {
      "image/png": "[encoded data removed]",
      "text/plain": [
       "<Figure size 640x480 with 1 Axes>"
      ]
     },
     "metadata": {},
     "output_type": "display_data"
    }
   ],
   "source": [
    "plt.plot(x_labels, accuracy_scores, marker = 'o')\n",
    "plt.plot(x_labels, precision_scores, marker = 'o')\n",
    "plt.plot(x_labels, recall_scores, marker = 'o')\n",
    "plt.plot(x_labels, f1_scores, marker = 'o')\n",
    "plt.legend(['Accuracy', 'Precision', 'Recall', 'F1'])\n",
    "plt.ylim([0,1])"
   ]
  },
  {
   "cell_type": "code",
   "execution_count": null,
   "id": "10cdfdac",
   "metadata": {},
   "outputs": [],
   "source": []
  }
 ],
 "metadata": {
  "kernelspec": {
   "display_name": "Python [conda env:projectML] *",
   "language": "python",
   "name": "conda-env-projectML-py"
  },
  "language_info": {
   "codemirror_mode": {
    "name": "ipython",
    "version": 3
   },
   "file_extension": ".py",
   "mimetype": "text/x-python",
   "name": "python",
   "nbconvert_exporter": "python",
   "pygments_lexer": "ipython3",
   "version": "3.10.9"
  }
 },
 "nbformat": 4,
 "nbformat_minor": 5
}
