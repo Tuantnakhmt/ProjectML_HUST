{
 "cells": [
  {
   "cell_type": "code",
   "execution_count": 1,
   "id": "27f84264",
   "metadata": {},
   "outputs": [],
   "source": [
    "import pandas as pd\n",
    "#https://www.kaggle.com/code/nagasai524/spam-email-classification-using-word2vec\n",
    "#https://www.kaggle.com/code/pierremegret/gensim-word2vec-tutorial"
   ]
  },
  {
   "cell_type": "code",
   "execution_count": 2,
   "id": "a4956c6d",
   "metadata": {},
   "outputs": [
    {
     "data": {
      "text/html": [
       "<div>\n",
       "<style scoped>\n",
       "    .dataframe tbody tr th:only-of-type {\n",
       "        vertical-align: middle;\n",
       "    }\n",
       "\n",
       "    .dataframe tbody tr th {\n",
       "        vertical-align: top;\n",
       "    }\n",
       "\n",
       "    .dataframe thead th {\n",
       "        text-align: right;\n",
       "    }\n",
       "</style>\n",
       "<table border=\"1\" class=\"dataframe\">\n",
       "  <thead>\n",
       "    <tr style=\"text-align: right;\">\n",
       "      <th></th>\n",
       "      <th>text</th>\n",
       "      <th>spam</th>\n",
       "    </tr>\n",
       "  </thead>\n",
       "  <tbody>\n",
       "    <tr>\n",
       "      <th>0</th>\n",
       "      <td>subject naturally irresistible corporate ident...</td>\n",
       "      <td>1</td>\n",
       "    </tr>\n",
       "    <tr>\n",
       "      <th>1</th>\n",
       "      <td>subject stock trading gunslinger fanny merrill...</td>\n",
       "      <td>1</td>\n",
       "    </tr>\n",
       "    <tr>\n",
       "      <th>2</th>\n",
       "      <td>subject unbelievable new home made easy im wan...</td>\n",
       "      <td>1</td>\n",
       "    </tr>\n",
       "    <tr>\n",
       "      <th>3</th>\n",
       "      <td>subject color printing special request additio...</td>\n",
       "      <td>1</td>\n",
       "    </tr>\n",
       "    <tr>\n",
       "      <th>4</th>\n",
       "      <td>subject money get software cd software compati...</td>\n",
       "      <td>1</td>\n",
       "    </tr>\n",
       "  </tbody>\n",
       "</table>\n",
       "</div>"
      ],
      "text/plain": [
       "                                                text  spam\n",
       "0  subject naturally irresistible corporate ident...     1\n",
       "1  subject stock trading gunslinger fanny merrill...     1\n",
       "2  subject unbelievable new home made easy im wan...     1\n",
       "3  subject color printing special request additio...     1\n",
       "4  subject money get software cd software compati...     1"
      ]
     },
     "execution_count": 2,
     "metadata": {},
     "output_type": "execute_result"
    }
   ],
   "source": [
    "#loading the phishing URLs data to dataframe\n",
    "data0 = pd.read_csv('/Users/HP/projectML/email_pre_processed.csv')\n",
    "data0.head()"
   ]
  },
  {
   "cell_type": "code",
   "execution_count": 3,
   "id": "ea9258cb",
   "metadata": {},
   "outputs": [
    {
     "data": {
      "text/plain": [
       "<Axes: xlabel='spam', ylabel='count'>"
      ]
     },
     "execution_count": 3,
     "metadata": {},
     "output_type": "execute_result"
    },
    {
     "data": {
      "image/png": "[encoded data removed]",
      "text/plain": [
       "<Figure size 640x480 with 1 Axes>"
      ]
     },
     "metadata": {},
     "output_type": "display_data"
    }
   ],
   "source": [
    "#Composition of Spam and Ham mails in the Data using simple CountPlot of Seaborn\n",
    "import seaborn as sns\n",
    "sns.countplot(x=\"spam\",data=data0)"
   ]
  },
  {
   "cell_type": "code",
   "execution_count": 4,
   "id": "6a0b525f",
   "metadata": {},
   "outputs": [],
   "source": [
    "from sklearn.model_selection import train_test_split\n",
    "X_train_email, X_test_email, y_train, y_test = train_test_split(data0['text'], \n",
    "                                                    data0['spam'], \n",
    "                                                    random_state=42)"
   ]
  },
  {
   "cell_type": "code",
   "execution_count": 5,
   "id": "92aa793f",
   "metadata": {},
   "outputs": [],
   "source": [
    "#Word2Vec is a neural network model, that provides a numerical vector representation for a given word. This numerical vector is often called as \"Word Embedding\". Despite other methods of Bag of Words and TF-IDF,\n",
    "#Word2Vec takes the context of the word into consideration while converting a word to a numerical vector.\n",
    "import gensim\n",
    "from gensim.models import Word2Vec"
   ]
  },
  {
   "cell_type": "code",
   "execution_count": 6,
   "id": "3e6cf36c",
   "metadata": {},
   "outputs": [],
   "source": [
    "from tqdm import tqdm\n",
    "#tqdm package is used to track the progress of work. It displays the percentage of loop done."
   ]
  },
  {
   "cell_type": "code",
   "execution_count": 7,
   "id": "0090f9f2",
   "metadata": {},
   "outputs": [
    {
     "name": "stderr",
     "output_type": "stream",
     "text": [
      "100%|███████████████████████████████████████████████████████████████████████████| 4296/4296 [00:00<00:00, 61634.74it/s]\n"
     ]
    }
   ],
   "source": [
    "#Creating the data for training the Word2Vec model\n",
    "words_in_sentences=[]\n",
    "for i in tqdm(X_train_email):\n",
    "    words_in_sentences.append(i.split())"
   ]
  },
  {
   "cell_type": "code",
   "execution_count": 8,
   "id": "9c3ef0e0",
   "metadata": {},
   "outputs": [],
   "source": [
    "#Training a Word2Vec Model \n",
    "model = Word2Vec(sentences=words_in_sentences, vector_size=200,workers=-1)"
   ]
  },
  {
   "cell_type": "code",
   "execution_count": 9,
   "id": "ac8e783d",
   "metadata": {},
   "outputs": [
    {
     "data": {
      "text/plain": [
       "[('simultaneously', 0.29441648721694946),\n",
       " ('disposable', 0.2702478766441345),\n",
       " ('tenor', 0.2524091601371765),\n",
       " ('ensuring', 0.24384190142154694),\n",
       " ('handled', 0.23805736005306244),\n",
       " ('password', 0.23798774182796478),\n",
       " ('distance', 0.23583006858825684),\n",
       " ('heading', 0.22983433306217194),\n",
       " ('hauser', 0.22562271356582642),\n",
       " ('significant', 0.22124642133712769)]"
      ]
     },
     "execution_count": 9,
     "metadata": {},
     "output_type": "execute_result"
    }
   ],
   "source": [
    "#Printing all similar words in the vocabulary for a given random word present in our vocabulary\n",
    "model.wv.most_similar('lottery', topn=10)"
   ]
  },
  {
   "cell_type": "code",
   "execution_count": 10,
   "id": "7ea69029",
   "metadata": {},
   "outputs": [
    {
     "data": {
      "text/plain": [
       "array([-2.68113625e-04,  1.18215678e-04,  2.55167484e-03,  4.50463640e-03,\n",
       "       -4.65147477e-03, -3.55840451e-03,  3.22943623e-03,  4.48649423e-03,\n",
       "       -2.50771409e-03, -1.88168581e-03,  3.69025231e-03, -7.66735699e-04,\n",
       "       -2.26830668e-03,  3.27702588e-03, -2.43008020e-03, -9.08008835e-04,\n",
       "        1.43828988e-03,  4.95936896e-04, -4.14260756e-03, -4.72440897e-03,\n",
       "        3.65588302e-03,  2.53513106e-03,  3.37884668e-03,  3.81432765e-04,\n",
       "        3.17544513e-03, -1.70268293e-03, -4.73200693e-04,  2.88428669e-03,\n",
       "       -3.76081886e-03, -1.96805177e-03, -3.75579111e-03, -4.65021119e-04,\n",
       "        4.76905936e-03, -3.65958340e-03, -1.16688432e-03, -9.68870532e-04,\n",
       "        4.03871853e-03, -2.96544796e-03,  2.25812200e-05, -2.37686699e-03,\n",
       "       -4.80177533e-03,  2.50364654e-03, -4.37979260e-03, -2.19591265e-03,\n",
       "       -1.75499918e-05, -1.48090723e-04, -3.83062009e-03,  4.80737165e-03,\n",
       "        2.49102898e-03,  4.61657159e-03, -4.07895865e-03,  2.24789907e-03,\n",
       "       -2.06853799e-03,  4.12268040e-04,  4.24931012e-03, -2.23108823e-03,\n",
       "        2.25875014e-03, -3.39348009e-03, -1.77424436e-03,  4.69925394e-03,\n",
       "       -7.88826321e-04,  1.60685784e-04, -2.07031495e-03, -3.84134403e-03,\n",
       "       -7.54004112e-04,  1.23489741e-03, -4.44013480e-04,  2.76683085e-03,\n",
       "       -1.37148856e-03,  1.13003259e-03,  2.72789714e-03,  4.17297659e-03,\n",
       "       -7.26870319e-04, -4.60407138e-03,  2.18527624e-03,  2.85892485e-04,\n",
       "        3.72095406e-03, -4.06641368e-04, -1.31920690e-03, -4.37650457e-03,\n",
       "       -4.28278436e-04,  1.41328154e-03,  2.70071439e-03,  3.52632813e-03,\n",
       "       -2.85156071e-03,  9.29409871e-04,  3.04443180e-03, -2.39902548e-03,\n",
       "       -1.55363022e-03,  3.39881470e-03,  8.15737818e-04,  9.49585447e-05,\n",
       "        1.73681858e-03,  1.08888744e-04,  4.80941311e-03,  2.53030192e-03,\n",
       "       -4.45869518e-03, -3.52078024e-03,  4.50727937e-04,  3.19626695e-03,\n",
       "       -4.30984376e-03,  1.83286902e-03,  2.59494176e-03,  2.87096924e-03,\n",
       "        3.73345916e-03, -3.08383768e-03,  5.52806829e-04,  3.02364118e-03,\n",
       "       -1.42002525e-03, -3.08676134e-03, -2.05111501e-04, -4.18447424e-03,\n",
       "       -2.80000619e-03,  3.55226942e-03,  1.67626981e-03,  3.61283473e-03,\n",
       "        3.40012368e-03,  3.76537093e-03, -1.89457717e-03, -2.80902983e-04,\n",
       "        1.17418822e-03, -2.25951616e-03,  4.19436581e-03, -4.92908200e-03,\n",
       "        3.38232052e-03,  1.45720842e-03, -2.46641575e-03,  2.19909381e-03,\n",
       "       -8.69787356e-04,  3.35569214e-03,  4.98242490e-03, -2.18122173e-03,\n",
       "       -2.99668900e-04, -2.84781866e-03,  1.92541117e-03,  1.39331340e-03,\n",
       "        3.44553823e-03,  3.05054779e-03,  4.76924842e-03,  4.63670865e-03,\n",
       "        3.94903403e-03, -3.49475211e-03, -4.57793241e-03, -1.77876354e-04,\n",
       "       -1.54992042e-03,  3.94715834e-03,  2.96928710e-03, -7.72831438e-04,\n",
       "        7.55481713e-04,  8.95020377e-04,  3.90878553e-03, -4.75509325e-03,\n",
       "       -1.02765560e-04,  1.73459831e-03, -4.69486113e-04,  4.19088593e-03,\n",
       "        4.50539170e-03,  3.26825329e-03, -3.55810509e-04,  3.85520211e-03,\n",
       "       -4.26716730e-03,  1.60355330e-03, -2.31899857e-03, -2.54447758e-03,\n",
       "        1.79480913e-03,  2.68516969e-03,  3.88475717e-03, -2.88325315e-03,\n",
       "        3.71668045e-03,  3.31274816e-03, -1.85490015e-03, -4.37282072e-03,\n",
       "        2.71873362e-03,  3.25487787e-03, -3.93775117e-04, -3.35492799e-03,\n",
       "       -3.54296272e-03, -1.24853011e-03,  2.57162680e-03, -1.83261873e-03,\n",
       "       -4.68502985e-03,  1.91336987e-03,  2.44223955e-03, -3.21428175e-03,\n",
       "        6.04279048e-04, -1.03743852e-03,  1.22016672e-05, -4.94175451e-03,\n",
       "        1.34600222e-03, -2.37505324e-03,  5.43823233e-04, -7.88112287e-04,\n",
       "        1.09833654e-03, -3.94078810e-03, -1.35859195e-03,  1.33159931e-03,\n",
       "        2.67334096e-03, -1.19575742e-03, -4.75504715e-03,  2.25293939e-03],\n",
       "      dtype=float32)"
      ]
     },
     "execution_count": 10,
     "metadata": {},
     "output_type": "execute_result"
    }
   ],
   "source": [
    "#Word Embedding for a given word\n",
    "model.wv.get_vector('enron')"
   ]
  },
  {
   "cell_type": "code",
   "execution_count": 11,
   "id": "f0a25960",
   "metadata": {},
   "outputs": [
    {
     "name": "stdout",
     "output_type": "stream",
     "text": [
      "8756\n"
     ]
    }
   ],
   "source": [
    "#Total number of words in the Vocabulary on which the Word2Vec model is trained.\n",
    "vocab=list(model.wv.key_to_index.keys())\n",
    "print(len(vocab))"
   ]
  },
  {
   "cell_type": "code",
   "execution_count": 12,
   "id": "485549d4",
   "metadata": {},
   "outputs": [],
   "source": [
    "#Average Word2Vec for converting a given Sentence into numerical vector.\n",
    "def avg_w2vec(sentences):\n",
    "    transformed=[]\n",
    "    for sentence in tqdm(sentences):\n",
    "        count=0\n",
    "        vector=np.zeros(200)\n",
    "        for word in sentence.split():\n",
    "            if word in vocab:\n",
    "                vector+=model.wv.get_vector(word)\n",
    "                count+=1\n",
    "        if count!=0:\n",
    "            vector/=count\n",
    "            transformed.append(vector)\n",
    "        else:\n",
    "            print(sentence)\n",
    "    return np.array(transformed)"
   ]
  },
  {
   "cell_type": "code",
   "execution_count": 13,
   "id": "fc37c934",
   "metadata": {},
   "outputs": [],
   "source": [
    "import numpy as np"
   ]
  },
  {
   "cell_type": "code",
   "execution_count": 14,
   "id": "2b2d7c5f",
   "metadata": {},
   "outputs": [
    {
     "name": "stderr",
     "output_type": "stream",
     "text": [
      "100%|█████████████████████████████████████████████████████████████████████████████| 4296/4296 [00:17<00:00, 250.72it/s]\n",
      "100%|█████████████████████████████████████████████████████████████████████████████| 1432/1432 [00:05<00:00, 246.59it/s]\n"
     ]
    }
   ],
   "source": [
    "x_train_transformed=avg_w2vec(X_train_email)\n",
    "x_test_transformed=avg_w2vec(X_test_email)"
   ]
  },
  {
   "cell_type": "code",
   "execution_count": 15,
   "id": "01e97b1c",
   "metadata": {},
   "outputs": [],
   "source": [
    "#Using K-Nearest Neighbors Algorithm to predict whether a given mail is Spam or not\n",
    "#from sklearn.neighbors import KNeighborsClassifier\n",
    "#knn = KNeighborsClassifier(n_neighbors=4)\n",
    "#knn.fit(x_train_transformed, y_train)  "
   ]
  },
  {
   "cell_type": "code",
   "execution_count": 56,
   "id": "e2603132",
   "metadata": {},
   "outputs": [
    {
     "data": {
      "text/plain": [
       "array([[-7.79789042e-05,  1.54909693e-04, -3.80379553e-04, ...,\n",
       "        -7.38897743e-04, -3.58565823e-04, -2.55344546e-04],\n",
       "       [ 3.42925613e-04, -6.60020974e-04, -3.37525344e-04, ...,\n",
       "        -4.61980113e-04,  6.90116966e-04, -3.50444318e-04],\n",
       "       [-6.67994372e-04,  7.01790579e-04, -5.11234283e-04, ...,\n",
       "         2.00920420e-04,  5.16492871e-04,  9.42286110e-04],\n",
       "       ...,\n",
       "       [-6.32970014e-05, -1.37700236e-03, -4.82306980e-04, ...,\n",
       "         1.76047109e-04, -6.03629369e-04, -1.24505598e-04],\n",
       "       [-1.43837458e-04, -9.65519020e-04,  1.88143679e-04, ...,\n",
       "        -2.54734157e-04, -3.67437102e-04,  4.99725171e-04],\n",
       "       [ 8.94003935e-04,  2.05872067e-05,  6.11835224e-04, ...,\n",
       "        -4.51241823e-04,  1.03840973e-04, -3.62526469e-04]])"
      ]
     },
     "execution_count": 56,
     "metadata": {},
     "output_type": "execute_result"
    }
   ],
   "source": [
    "x_train_transformed"
   ]
  },
  {
   "cell_type": "code",
   "execution_count": 57,
   "id": "62ecd83a",
   "metadata": {},
   "outputs": [],
   "source": [
    "from sklearn.ensemble import RandomForestClassifier\n",
    "from sklearn.metrics import precision_recall_fscore_support as score\n",
    "rf = RandomForestClassifier(n_estimators=100,max_depth=None,n_jobs=-1)\n",
    "rf_model = rf.fit(x_train_transformed,y_train)\n"
   ]
  },
  {
   "cell_type": "code",
   "execution_count": 58,
   "id": "eb5bebbd",
   "metadata": {},
   "outputs": [
    {
     "name": "stdout",
     "output_type": "stream",
     "text": [
      "Accuracy score:  0.861731843575419\n",
      "Precision score:  0.4796747967479675\n",
      "Recall score:  0.9672131147540983\n",
      "F1 score:  0.6413043478260869\n"
     ]
    }
   ],
   "source": [
    "y_pred=rf_model.predict(x_test_transformed)\n",
    "\n",
    "print('Accuracy score: ', format(accuracy_score(y_pred,y_test)))\n",
    "print('Precision score: ', format(precision_score(y_pred,y_test)))\n",
    "print('Recall score: ', format(recall_score(y_pred,y_test)))\n",
    "print('F1 score: ', format(f1_score(y_pred,y_test)))"
   ]
  },
  {
   "cell_type": "code",
   "execution_count": 59,
   "id": "431894b0",
   "metadata": {},
   "outputs": [
    {
     "data": {
      "text/plain": [
       "(1432,)"
      ]
     },
     "execution_count": 59,
     "metadata": {},
     "output_type": "execute_result"
    }
   ],
   "source": [
    "y_pred .shape\n"
   ]
  },
  {
   "cell_type": "code",
   "execution_count": 60,
   "id": "7b0fcebb",
   "metadata": {},
   "outputs": [],
   "source": [
    "#y_pred = knn.predict(x_test_transformed)"
   ]
  },
  {
   "cell_type": "code",
   "execution_count": 61,
   "id": "b6033ef1",
   "metadata": {},
   "outputs": [],
   "source": [
    "#from sklearn.metrics import accuracy_score \n",
    "#accuracy = accuracy_score(y_test, y_pred)\n",
    "#print(\"Accuracy:\", accuracy) "
   ]
  },
  {
   "cell_type": "code",
   "execution_count": 62,
   "id": "06fc5fbd",
   "metadata": {},
   "outputs": [],
   "source": [
    "#Import svm model\n",
    "from sklearn import svm\n",
    "\n",
    "#Create a svm Classifier\n",
    "clf = svm.SVC(kernel='linear') # Linear Kernel\n",
    "\n",
    "#Train the model using the training sets\n",
    "clf.fit(x_train_transformed, y_train)\n",
    "\n",
    "#Predict the response for test dataset\n",
    "y_pred_svm = clf.predict(x_test_transformed)"
   ]
  },
  {
   "cell_type": "code",
   "execution_count": 63,
   "id": "786bf8b0",
   "metadata": {},
   "outputs": [
    {
     "data": {
      "text/plain": [
       "(1432,)"
      ]
     },
     "execution_count": 63,
     "metadata": {},
     "output_type": "execute_result"
    }
   ],
   "source": [
    "y_pred_svm.shape"
   ]
  },
  {
   "cell_type": "code",
   "execution_count": 64,
   "id": "b73b0759",
   "metadata": {},
   "outputs": [],
   "source": [
    "import warnings\n",
    "warnings.filterwarnings('always')"
   ]
  },
  {
   "cell_type": "code",
   "execution_count": 65,
   "id": "a45cdc67",
   "metadata": {},
   "outputs": [
    {
     "data": {
      "text/plain": [
       "array([0, 0, 0, ..., 0, 0, 0], dtype=int64)"
      ]
     },
     "execution_count": 65,
     "metadata": {},
     "output_type": "execute_result"
    }
   ],
   "source": [
    "y_pred_svm \n"
   ]
  },
  {
   "cell_type": "code",
   "execution_count": 67,
   "id": "907be539",
   "metadata": {},
   "outputs": [
    {
     "name": "stdout",
     "output_type": "stream",
     "text": [
      "Accuracy score:  0.74231843575419\n",
      "Precision score:  0.0\n",
      "Recall score:  0.0\n",
      "F1 score:  0.0\n"
     ]
    },
    {
     "name": "stderr",
     "output_type": "stream",
     "text": [
      "D:\\Miniconda\\envs\\projectML\\lib\\site-packages\\sklearn\\metrics\\_classification.py:1344: UndefinedMetricWarning: Precision is ill-defined and being set to 0.0 due to no predicted samples. Use `zero_division` parameter to control this behavior.\n",
      "  _warn_prf(average, modifier, msg_start, len(result))\n"
     ]
    }
   ],
   "source": [
    "print('Accuracy score: ', format(accuracy_score(y_pred_svm, y_test)))\n",
    "\n",
    "print('Precision score: ', format(precision_score(y_test ,y_pred_svm)))\n",
    "print('Recall score: ', format(recall_score(y_test ,y_pred_svm)))\n",
    "print('F1 score: ', format(f1_score(y_test ,y_pred_svm)))"
   ]
  },
  {
   "cell_type": "code",
   "execution_count": 68,
   "id": "34caaa1b",
   "metadata": {},
   "outputs": [
    {
     "data": {
      "text/plain": [
       "0.6325326630915462"
      ]
     },
     "execution_count": 68,
     "metadata": {},
     "output_type": "execute_result"
    }
   ],
   "source": [
    "metrics.f1_score(y_test, y_pred_svm, average='weighted', labels=np.unique(y_pred))\n",
    "#https://stackoverflow.com/questions/43162506/undefinedmetricwarning-f-score-is-ill-defined-and-being-set-to-0-0-in-labels-wi\n"
   ]
  },
  {
   "cell_type": "code",
   "execution_count": 50,
   "id": "2b0495bf",
   "metadata": {},
   "outputs": [
    {
     "data": {
      "text/plain": [
       "array([[ 3.18479550e-04, -3.45834778e-04,  1.11952136e-04, ...,\n",
       "        -1.35038440e-04, -6.32791066e-04, -7.65610693e-05],\n",
       "       [ 1.05080874e-04, -4.05378913e-04,  7.83669382e-04, ...,\n",
       "        -8.80983580e-04, -2.50050655e-04,  3.08919743e-04],\n",
       "       [ 6.88739564e-04,  1.88925998e-04,  2.42759530e-04, ...,\n",
       "        -1.83592616e-04,  4.65294222e-04,  5.12642126e-04],\n",
       "       ...,\n",
       "       [ 1.61593757e-04,  7.88579018e-04,  2.71473618e-04, ...,\n",
       "        -2.96021440e-04,  6.46373488e-05,  1.77051079e-04],\n",
       "       [-2.21440222e-04,  3.73020120e-04,  5.76251427e-04, ...,\n",
       "        -6.11076397e-04, -6.57570005e-04,  1.80815171e-04],\n",
       "       [ 2.84559821e-04, -3.70588747e-04, -1.47449863e-04, ...,\n",
       "         6.72620165e-05, -1.84913601e-04, -4.53024343e-04]])"
      ]
     },
     "execution_count": 50,
     "metadata": {},
     "output_type": "execute_result"
    }
   ],
   "source": [
    "x_test_transformed"
   ]
  },
  {
   "cell_type": "code",
   "execution_count": 51,
   "id": "d7f28645",
   "metadata": {},
   "outputs": [
    {
     "ename": "ValueError",
     "evalue": "Negative values in data passed to MultinomialNB (input X)",
     "output_type": "error",
     "traceback": [
      "\u001b[1;31m---------------------------------------------------------------------------\u001b[0m",
      "\u001b[1;31mValueError\u001b[0m                                Traceback (most recent call last)",
      "Cell \u001b[1;32mIn[51], line 4\u001b[0m\n\u001b[0;32m      2\u001b[0m \u001b[38;5;28;01mfrom\u001b[39;00m \u001b[38;5;21;01msklearn\u001b[39;00m\u001b[38;5;21;01m.\u001b[39;00m\u001b[38;5;21;01mnaive_bayes\u001b[39;00m \u001b[38;5;28;01mimport\u001b[39;00m MultinomialNB\n\u001b[0;32m      3\u001b[0m naive_bayes \u001b[38;5;241m=\u001b[39m MultinomialNB()\n\u001b[1;32m----> 4\u001b[0m \u001b[43mnaive_bayes\u001b[49m\u001b[38;5;241;43m.\u001b[39;49m\u001b[43mfit\u001b[49m\u001b[43m(\u001b[49m\u001b[43mx_train_transformed\u001b[49m\u001b[43m,\u001b[49m\u001b[43m \u001b[49m\u001b[43my_train\u001b[49m\u001b[43m)\u001b[49m\n",
      "File \u001b[1;32mD:\\Miniconda\\envs\\projectML\\lib\\site-packages\\sklearn\\naive_bayes.py:776\u001b[0m, in \u001b[0;36m_BaseDiscreteNB.fit\u001b[1;34m(self, X, y, sample_weight)\u001b[0m\n\u001b[0;32m    774\u001b[0m n_classes \u001b[38;5;241m=\u001b[39m Y\u001b[38;5;241m.\u001b[39mshape[\u001b[38;5;241m1\u001b[39m]\n\u001b[0;32m    775\u001b[0m \u001b[38;5;28mself\u001b[39m\u001b[38;5;241m.\u001b[39m_init_counters(n_classes, n_features)\n\u001b[1;32m--> 776\u001b[0m \u001b[38;5;28;43mself\u001b[39;49m\u001b[38;5;241;43m.\u001b[39;49m\u001b[43m_count\u001b[49m\u001b[43m(\u001b[49m\u001b[43mX\u001b[49m\u001b[43m,\u001b[49m\u001b[43m \u001b[49m\u001b[43mY\u001b[49m\u001b[43m)\u001b[49m\n\u001b[0;32m    777\u001b[0m alpha \u001b[38;5;241m=\u001b[39m \u001b[38;5;28mself\u001b[39m\u001b[38;5;241m.\u001b[39m_check_alpha()\n\u001b[0;32m    778\u001b[0m \u001b[38;5;28mself\u001b[39m\u001b[38;5;241m.\u001b[39m_update_feature_log_prob(alpha)\n",
      "File \u001b[1;32mD:\\Miniconda\\envs\\projectML\\lib\\site-packages\\sklearn\\naive_bayes.py:898\u001b[0m, in \u001b[0;36mMultinomialNB._count\u001b[1;34m(self, X, Y)\u001b[0m\n\u001b[0;32m    896\u001b[0m \u001b[38;5;28;01mdef\u001b[39;00m \u001b[38;5;21m_count\u001b[39m(\u001b[38;5;28mself\u001b[39m, X, Y):\n\u001b[0;32m    897\u001b[0m \u001b[38;5;250m    \u001b[39m\u001b[38;5;124;03m\"\"\"Count and smooth feature occurrences.\"\"\"\u001b[39;00m\n\u001b[1;32m--> 898\u001b[0m     \u001b[43mcheck_non_negative\u001b[49m\u001b[43m(\u001b[49m\u001b[43mX\u001b[49m\u001b[43m,\u001b[49m\u001b[43m \u001b[49m\u001b[38;5;124;43m\"\u001b[39;49m\u001b[38;5;124;43mMultinomialNB (input X)\u001b[39;49m\u001b[38;5;124;43m\"\u001b[39;49m\u001b[43m)\u001b[49m\n\u001b[0;32m    899\u001b[0m     \u001b[38;5;28mself\u001b[39m\u001b[38;5;241m.\u001b[39mfeature_count_ \u001b[38;5;241m+\u001b[39m\u001b[38;5;241m=\u001b[39m safe_sparse_dot(Y\u001b[38;5;241m.\u001b[39mT, X)\n\u001b[0;32m    900\u001b[0m     \u001b[38;5;28mself\u001b[39m\u001b[38;5;241m.\u001b[39mclass_count_ \u001b[38;5;241m+\u001b[39m\u001b[38;5;241m=\u001b[39m Y\u001b[38;5;241m.\u001b[39msum(axis\u001b[38;5;241m=\u001b[39m\u001b[38;5;241m0\u001b[39m)\n",
      "File \u001b[1;32mD:\\Miniconda\\envs\\projectML\\lib\\site-packages\\sklearn\\utils\\validation.py:1418\u001b[0m, in \u001b[0;36mcheck_non_negative\u001b[1;34m(X, whom)\u001b[0m\n\u001b[0;32m   1415\u001b[0m     X_min \u001b[38;5;241m=\u001b[39m xp\u001b[38;5;241m.\u001b[39mmin(X)\n\u001b[0;32m   1417\u001b[0m \u001b[38;5;28;01mif\u001b[39;00m X_min \u001b[38;5;241m<\u001b[39m \u001b[38;5;241m0\u001b[39m:\n\u001b[1;32m-> 1418\u001b[0m     \u001b[38;5;28;01mraise\u001b[39;00m \u001b[38;5;167;01mValueError\u001b[39;00m(\u001b[38;5;124m\"\u001b[39m\u001b[38;5;124mNegative values in data passed to \u001b[39m\u001b[38;5;132;01m%s\u001b[39;00m\u001b[38;5;124m\"\u001b[39m \u001b[38;5;241m%\u001b[39m whom)\n",
      "\u001b[1;31mValueError\u001b[0m: Negative values in data passed to MultinomialNB (input X)"
     ]
    }
   ],
   "source": [
    "#naive bayes classifier\n",
    "from sklearn.naive_bayes import MultinomialNB\n",
    "naive_bayes = MultinomialNB()\n",
    "naive_bayes.fit(x_train_transformed, y_train)"
   ]
  },
  {
   "cell_type": "code",
   "execution_count": 52,
   "id": "8266b231",
   "metadata": {},
   "outputs": [
    {
     "ename": "AttributeError",
     "evalue": "'MultinomialNB' object has no attribute 'feature_log_prob_'",
     "output_type": "error",
     "traceback": [
      "\u001b[1;31m---------------------------------------------------------------------------\u001b[0m",
      "\u001b[1;31mAttributeError\u001b[0m                            Traceback (most recent call last)",
      "Cell \u001b[1;32mIn[52], line 1\u001b[0m\n\u001b[1;32m----> 1\u001b[0m predictions \u001b[38;5;241m=\u001b[39m \u001b[43mnaive_bayes\u001b[49m\u001b[38;5;241;43m.\u001b[39;49m\u001b[43mpredict\u001b[49m\u001b[43m(\u001b[49m\u001b[43mx_test_transformed\u001b[49m\u001b[43m)\u001b[49m\n\u001b[0;32m      2\u001b[0m predictions\n",
      "File \u001b[1;32mD:\\Miniconda\\envs\\projectML\\lib\\site-packages\\sklearn\\naive_bayes.py:106\u001b[0m, in \u001b[0;36m_BaseNB.predict\u001b[1;34m(self, X)\u001b[0m\n\u001b[0;32m    104\u001b[0m check_is_fitted(\u001b[38;5;28mself\u001b[39m)\n\u001b[0;32m    105\u001b[0m X \u001b[38;5;241m=\u001b[39m \u001b[38;5;28mself\u001b[39m\u001b[38;5;241m.\u001b[39m_check_X(X)\n\u001b[1;32m--> 106\u001b[0m jll \u001b[38;5;241m=\u001b[39m \u001b[38;5;28;43mself\u001b[39;49m\u001b[38;5;241;43m.\u001b[39;49m\u001b[43m_joint_log_likelihood\u001b[49m\u001b[43m(\u001b[49m\u001b[43mX\u001b[49m\u001b[43m)\u001b[49m\n\u001b[0;32m    107\u001b[0m \u001b[38;5;28;01mreturn\u001b[39;00m \u001b[38;5;28mself\u001b[39m\u001b[38;5;241m.\u001b[39mclasses_[np\u001b[38;5;241m.\u001b[39margmax(jll, axis\u001b[38;5;241m=\u001b[39m\u001b[38;5;241m1\u001b[39m)]\n",
      "File \u001b[1;32mD:\\Miniconda\\envs\\projectML\\lib\\site-packages\\sklearn\\naive_bayes.py:913\u001b[0m, in \u001b[0;36mMultinomialNB._joint_log_likelihood\u001b[1;34m(self, X)\u001b[0m\n\u001b[0;32m    911\u001b[0m \u001b[38;5;28;01mdef\u001b[39;00m \u001b[38;5;21m_joint_log_likelihood\u001b[39m(\u001b[38;5;28mself\u001b[39m, X):\n\u001b[0;32m    912\u001b[0m \u001b[38;5;250m    \u001b[39m\u001b[38;5;124;03m\"\"\"Calculate the posterior log probability of the samples X\"\"\"\u001b[39;00m\n\u001b[1;32m--> 913\u001b[0m     \u001b[38;5;28;01mreturn\u001b[39;00m safe_sparse_dot(X, \u001b[38;5;28;43mself\u001b[39;49m\u001b[38;5;241;43m.\u001b[39;49m\u001b[43mfeature_log_prob_\u001b[49m\u001b[38;5;241m.\u001b[39mT) \u001b[38;5;241m+\u001b[39m \u001b[38;5;28mself\u001b[39m\u001b[38;5;241m.\u001b[39mclass_log_prior_\n",
      "\u001b[1;31mAttributeError\u001b[0m: 'MultinomialNB' object has no attribute 'feature_log_prob_'"
     ]
    }
   ],
   "source": [
    "predictions = naive_bayes.predict(x_test_transformed)\n",
    "predictions"
   ]
  },
  {
   "cell_type": "code",
   "execution_count": 53,
   "id": "e721259d",
   "metadata": {},
   "outputs": [
    {
     "ename": "NameError",
     "evalue": "name 'predictions' is not defined",
     "output_type": "error",
     "traceback": [
      "\u001b[1;31m---------------------------------------------------------------------------\u001b[0m",
      "\u001b[1;31mNameError\u001b[0m                                 Traceback (most recent call last)",
      "Cell \u001b[1;32mIn[53], line 1\u001b[0m\n\u001b[1;32m----> 1\u001b[0m \u001b[38;5;28mprint\u001b[39m(\u001b[38;5;124m'\u001b[39m\u001b[38;5;124mAccuracy score: \u001b[39m\u001b[38;5;124m'\u001b[39m, \u001b[38;5;28mformat\u001b[39m(accuracy_score(\u001b[43mpredictions\u001b[49m,y_test)))\n\u001b[0;32m      2\u001b[0m \u001b[38;5;28mprint\u001b[39m(\u001b[38;5;124m'\u001b[39m\u001b[38;5;124mPrecision score: \u001b[39m\u001b[38;5;124m'\u001b[39m, \u001b[38;5;28mformat\u001b[39m(precision_score(predictions,y_test)))\n\u001b[0;32m      3\u001b[0m \u001b[38;5;28mprint\u001b[39m(\u001b[38;5;124m'\u001b[39m\u001b[38;5;124mRecall score: \u001b[39m\u001b[38;5;124m'\u001b[39m, \u001b[38;5;28mformat\u001b[39m(recall_score(predictions,y_test)))\n",
      "\u001b[1;31mNameError\u001b[0m: name 'predictions' is not defined"
     ]
    }
   ],
   "source": [
    "print('Accuracy score: ', format(accuracy_score(predictions,y_test)))\n",
    "print('Precision score: ', format(precision_score(predictions,y_test)))\n",
    "print('Recall score: ', format(recall_score(predictions,y_test)))\n",
    "print('F1 score: ', format(f1_score(predictions,y_test)))"
   ]
  },
  {
   "cell_type": "code",
   "execution_count": null,
   "id": "ff0895e6",
   "metadata": {},
   "outputs": [],
   "source": [
    "import keras\n",
    "\n",
    "from keras.layers import Input, Dense"
   ]
  },
  {
   "cell_type": "code",
   "execution_count": null,
   "id": "b4cb072f",
   "metadata": {},
   "outputs": [],
   "source": [
    "import tensorflow as tf\n",
    "#https://www.kaggle.com/code/gcdatkin/email-spam-classification/notebook"
   ]
  },
  {
   "cell_type": "code",
   "execution_count": null,
   "id": "abaa95cd",
   "metadata": {},
   "outputs": [],
   "source": [
    "X_train_email.shape"
   ]
  },
  {
   "cell_type": "code",
   "execution_count": null,
   "id": "b152071c",
   "metadata": {},
   "outputs": [],
   "source": [
    "\"\"\"inputs = tf.keras.Input(shape=( 274944,))\n",
    "\n",
    "embedding = tf.keras.layers.Embedding(\n",
    "    input_dim=30000,\n",
    "    output_dim=64\n",
    ")(inputs)\n",
    "flatten = tf.keras.layers.Flatten()(embedding)\n",
    "\n",
    "outputs = tf.keras.layers.Dense(1, activation='sigmoid')(flatten)\n",
    "\n",
    "\n",
    "model = tf.keras.Model(inputs=inputs, outputs=outputs)\n",
    "\n",
    "\n",
    "model.compile(\n",
    "    optimizer='adam',\n",
    "    loss='binary_crossentropy',\n",
    "    metrics=[\n",
    "        'accuracy',\n",
    "        tf.keras.metrics.AUC(name='auc')\n",
    "    ]\n",
    ")\n",
    "\n",
    "\n",
    "print(model.summary())\n",
    "\"\"\""
   ]
  },
  {
   "cell_type": "code",
   "execution_count": null,
   "id": "265d3dd9",
   "metadata": {},
   "outputs": [],
   "source": [
    "\"\"\"\n",
    "history = model.fit(\n",
    "    X_train_email,\n",
    "    y_train,\n",
    "    validation_split=0.2,\n",
    "    batch_size=32,\n",
    "    epochs=100,\n",
    "    callbacks=[\n",
    "        tf.keras.callbacks.EarlyStopping(\n",
    "            monitor='val_loss',\n",
    "            patience=3,\n",
    "            restore_best_weights=True\n",
    "        )\n",
    "    ]\n",
    ")\n",
    "\"\"\""
   ]
  },
  {
   "cell_type": "code",
   "execution_count": null,
   "id": "23d79f83",
   "metadata": {},
   "outputs": [],
   "source": [
    "\"\"\"\n",
    "results = model.evaluate(x_test_transformed, y_test, verbose=0)\n",
    "\n",
    "print(\"    Test Loss: {:.4f}\".format(results[0]))\n",
    "print(\"Test Accuracy: {:.2f}%\".format(results[1] * 100))\n",
    "print(\"     Test AUC: {:.4f}\".format(results[2])) \n",
    "\"\"\""
   ]
  },
  {
   "cell_type": "code",
   "execution_count": null,
   "id": "c0d804cb",
   "metadata": {},
   "outputs": [],
   "source": []
  }
 ],
 "metadata": {
  "kernelspec": {
   "display_name": "Python [conda env:projectML] *",
   "language": "python",
   "name": "conda-env-projectML-py"
  },
  "language_info": {
   "codemirror_mode": {
    "name": "ipython",
    "version": 3
   },
   "file_extension": ".py",
   "mimetype": "text/x-python",
   "name": "python",
   "nbconvert_exporter": "python",
   "pygments_lexer": "ipython3",
   "version": "3.10.9"
  }
 },
 "nbformat": 4,
 "nbformat_minor": 5
}
