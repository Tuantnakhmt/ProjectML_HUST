{
 "cells": [
  {
   "cell_type": "markdown",
   "id": "c0967f44",
   "metadata": {},
   "source": [
    "# Trích xuất đặc trưng dựa trên Content-based."
   ]
  },
  {
   "cell_type": "markdown",
   "id": "9759175d",
   "metadata": {},
   "source": [
    "# **1. Mục tiêu**\n",
    "\n",
    "Với một thư điện tử bất kì, nhóm mong muốn có thể phân loại được thư điện tử đấy là an toàn (legimate)/ không an toàn (phishing)\n"
   ]
  },
  {
   "cell_type": "markdown",
   "id": "4efb4286",
   "metadata": {},
   "source": [
    "# **2. Dữ liệu**\n",
    "\n",
    "Trong project này, nhóm thu thập các tập dữ liệu các loại thư điện tử gồm nội dung và đã được gán nhãn (SpamAssassin, Kaggle, ...). Sau đó nhóm sẽ trích xuất các đặc trưng của các thư điện tử để tạo thành các vector đặc trưng để từ đó làm cơ sở phân loại.\n"
   ]
  },
  {
   "cell_type": "markdown",
   "id": "4a7f4eb8",
   "metadata": {},
   "source": [
    "Ta tiến hành tải dữ liệu đã tiền xử lý "
   ]
  },
  {
   "cell_type": "code",
   "execution_count": 1,
   "id": "38da25e8",
   "metadata": {},
   "outputs": [],
   "source": [
    "import pandas as pd"
   ]
  },
  {
   "cell_type": "code",
   "execution_count": 2,
   "id": "33747c21",
   "metadata": {},
   "outputs": [
    {
     "data": {
      "text/html": [
       "<div>\n",
       "<style scoped>\n",
       "    .dataframe tbody tr th:only-of-type {\n",
       "        vertical-align: middle;\n",
       "    }\n",
       "\n",
       "    .dataframe tbody tr th {\n",
       "        vertical-align: top;\n",
       "    }\n",
       "\n",
       "    .dataframe thead th {\n",
       "        text-align: right;\n",
       "    }\n",
       "</style>\n",
       "<table border=\"1\" class=\"dataframe\">\n",
       "  <thead>\n",
       "    <tr style=\"text-align: right;\">\n",
       "      <th></th>\n",
       "      <th>text</th>\n",
       "      <th>spam</th>\n",
       "    </tr>\n",
       "  </thead>\n",
       "  <tbody>\n",
       "    <tr>\n",
       "      <th>0</th>\n",
       "      <td>subject naturally irresistible corporate ident...</td>\n",
       "      <td>1</td>\n",
       "    </tr>\n",
       "    <tr>\n",
       "      <th>1</th>\n",
       "      <td>subject stock trading gunslinger fanny merrill...</td>\n",
       "      <td>1</td>\n",
       "    </tr>\n",
       "    <tr>\n",
       "      <th>2</th>\n",
       "      <td>subject unbelievable new home made easy im wan...</td>\n",
       "      <td>1</td>\n",
       "    </tr>\n",
       "    <tr>\n",
       "      <th>3</th>\n",
       "      <td>subject color printing special request additio...</td>\n",
       "      <td>1</td>\n",
       "    </tr>\n",
       "    <tr>\n",
       "      <th>4</th>\n",
       "      <td>subject money get software cd software compati...</td>\n",
       "      <td>1</td>\n",
       "    </tr>\n",
       "  </tbody>\n",
       "</table>\n",
       "</div>"
      ],
      "text/plain": [
       "                                                text  spam\n",
       "0  subject naturally irresistible corporate ident...     1\n",
       "1  subject stock trading gunslinger fanny merrill...     1\n",
       "2  subject unbelievable new home made easy im wan...     1\n",
       "3  subject color printing special request additio...     1\n",
       "4  subject money get software cd software compati...     1"
      ]
     },
     "execution_count": 2,
     "metadata": {},
     "output_type": "execute_result"
    }
   ],
   "source": [
    "#loading the phishing URLs data to dataframe\n",
    "data0 = pd.read_csv('/Users/HP/projectML/email_pre_processed.csv')\n",
    "data0.head()"
   ]
  },
  {
   "cell_type": "code",
   "execution_count": 3,
   "id": "8f67a47d",
   "metadata": {},
   "outputs": [
    {
     "data": {
      "text/plain": [
       "(5728, 2)"
      ]
     },
     "execution_count": 3,
     "metadata": {},
     "output_type": "execute_result"
    }
   ],
   "source": [
    "data0.shape"
   ]
  },
  {
   "cell_type": "markdown",
   "id": "69a0f40c",
   "metadata": {},
   "source": [
    "# **3. Khai thác các đặc trưng**\n",
    "\n",
    "Trong bước này, các đặc trưng được trích xuất từ bộ dữ liệu Email.\n",
    "\n",
    "Các đặc trưng trích xuất được phân loại thành\n",
    "\n",
    "1. Hình thức email\n",
    "2. Từ ngữ\n",
    "3. URL\n"
   ]
  },
  {
   "cell_type": "code",
   "execution_count": 4,
   "id": "bd829bb3",
   "metadata": {},
   "outputs": [],
   "source": [
    "import re\n",
    "import numpy as np\n",
    "import matplotlib.pyplot as plt\n",
    "from spellchecker import SpellChecker"
   ]
  },
  {
   "cell_type": "markdown",
   "id": "384c6985",
   "metadata": {},
   "source": [
    "### **3.1 Hình thức email**\n",
    "\n",
    "Nhiều đặc trưng có thể được trích xuất có thể được coi là đặc trưng cơ sở của hình thức email. Trong số đó, đề cập dưới đây đã được xem xét cho project này.\n",
    "\n",
    "- Phần mở: Số các từ dear, hi\n",
    "- Phần kết: Các đặc trung về chữ ký tên, về các từ kết thúc, Kèm thông tin về SDT\n",
    "- Bố cục : các đặc trưng về Chuyển tiếp, reply\n",
    "\n",
    "Mỗi đặc trưng này được trình bày và code ở dưới:\n"
   ]
  },
  {
   "cell_type": "code",
   "execution_count": 5,
   "id": "47034e80",
   "metadata": {},
   "outputs": [],
   "source": [
    "def haveFormalWord(email):\n",
    "    formal_words = ['hi', 'dear', 'best', 'wishes', 'regard','dict','reply']\n",
    "    for word in formal_words:\n",
    "        if word in email.lower():\n",
    "            return 0\n",
    "    return 1 "
   ]
  },
  {
   "cell_type": "code",
   "execution_count": 6,
   "id": "63f422e3",
   "metadata": {},
   "outputs": [],
   "source": [
    "def response(email):\n",
    "    response_words = ['re', 'fw', 'fwd','cc', 'to']\n",
    "    for word in response_words:\n",
    "        if word in email.lower():\n",
    "            return 0\n",
    "    return 1 "
   ]
  },
  {
   "cell_type": "markdown",
   "id": "db4671b8",
   "metadata": {},
   "source": [
    "### **3.2 Từ ngữ**\n",
    "\n",
    "Nhiều đặc trưng có thể được trích xuất thuộc danh mục này. Trong số đó, đề cập dưới đây đã được xem xét cho project này.\n",
    "\n",
    "- Chính tả trong từ điển tiếng Anh\n",
    "- Blacklist:{verify, account, password,access, limitted, risk, security, service, suspend, allow, click, information, risk, credit, minutes, only, last,review,cost, fail, immediate, now, winner, best,any, passion, interest, late, soon, help, update, confirm }\n",
    "- Kí tự đặc biệt: {%,$,#,?,!}\n",
    "- Con số: số lượng các số\n",
    "\n",
    "Mỗi đặc trưng này được trình bày và code ở dưới:\n"
   ]
  },
  {
   "cell_type": "code",
   "execution_count": 7,
   "id": "d5035849",
   "metadata": {},
   "outputs": [],
   "source": [
    "# Check number of misspelled words\n",
    "def misspelledWord(email):\n",
    "    spell = SpellChecker()\n",
    "    words = re.findall(r'\\w+', email)\n",
    "    misspelled = spell.unknown(words)\n",
    "    return len(misspelled) "
   ]
  },
  {
   "cell_type": "code",
   "execution_count": 8,
   "id": "57c3643b",
   "metadata": {},
   "outputs": [],
   "source": [
    " # Check if the email has typos or bad grammar\n",
    "def badGrammar(email):\n",
    "    if len(re.findall(r'[\\w]+', email)) > 2:\n",
    "        return 1\n",
    "    else:\n",
    "        return 0"
   ]
  },
  {
   "cell_type": "code",
   "execution_count": 9,
   "id": "e36c1c59",
   "metadata": {},
   "outputs": [],
   "source": [
    "# Extract common phishing keywords\n",
    "def keyword(email):\n",
    "    keywords = [ \"login\",'account', 'alert', 'verify', 'bank', 'price', 'security', \"suspend\",'fraud', 'urgent', 'warning', 'limited', 'update', 'visit','buy', 'confirm','ready',  'offer', 'rely','information']\n",
    "    for keyword in keywords:\n",
    "        if keyword in email.lower():\n",
    "            return 1\n",
    "        else:\n",
    "            return 0"
   ]
  },
  {
   "cell_type": "code",
   "execution_count": 10,
   "id": "df6ab61f",
   "metadata": {},
   "outputs": [],
   "source": [
    "# Check if the email asks for personal or financial information\n",
    "def requestInfo(email):\n",
    "    # Check if the email asks for personal or financial information\n",
    "    personal_info = ['password', 'pin', 'ssn', 'social security', 'credit', 'debit', 'card number', 'card expiration', 'cvv']\n",
    "    for info in personal_info:\n",
    "        if info in email.lower():\n",
    "            return 1\n",
    "        else:\n",
    "            return 0"
   ]
  },
  {
   "cell_type": "code",
   "execution_count": 11,
   "id": "56674a68",
   "metadata": {},
   "outputs": [],
   "source": [
    "# Check if the email includes a sense of Urgency\n",
    "def senseUrgency(email):\n",
    "    urgency_words = ['hurry', 'urgent', 'limited','time', 'act', 'now', 'time', 'running out', 'chance', \"don't\", 'miss', 'one time offer', 'only', 'few', 'final', 'sale', 'today', 'click']\n",
    "    for word in urgency_words:\n",
    "        if word in email.lower():\n",
    "            return 1\n",
    "        else:\n",
    "            return 0"
   ]
  },
  {
   "cell_type": "code",
   "execution_count": 12,
   "id": "e11f157f",
   "metadata": {},
   "outputs": [],
   "source": [
    " # Check if the email includes a sense of \n",
    "def senseThreat(email):\n",
    "    threat_words = ['sue', 'arrest', 'lawsuit', 'overdue', 'expired', 'dispute', 'emergency']\n",
    "    for word in threat_words:\n",
    "        if word in email.lower():\n",
    "            return 1\n",
    "        else:\n",
    "            return 0"
   ]
  },
  {
   "cell_type": "code",
   "execution_count": 13,
   "id": "65a12a7e",
   "metadata": {},
   "outputs": [],
   "source": [
    "# Check the length of the email\n",
    "def longEmail(email):\n",
    "    if len(email) > 500:\n",
    "        return 1\n",
    "    else:\n",
    "        return 0"
   ]
  },
  {
   "cell_type": "code",
   "execution_count": 14,
   "id": "7e92a17c",
   "metadata": {},
   "outputs": [],
   "source": [
    "# Check number of special characters\n",
    "def numSpecialChar(email):\n",
    "    num_special_chars = len(re.findall(r'[!@#$%^&*()\\-_=+{};:,<.>/?[\\]\\\\|~`]', email))\n",
    "    return num_special_chars"
   ]
  },
  {
   "cell_type": "code",
   "execution_count": 15,
   "id": "7be2893a",
   "metadata": {},
   "outputs": [],
   "source": [
    "# Check number of digits\n",
    "def numDigit(email):\n",
    "    num_digits = len(re.findall(r'\\d', email))\n",
    "    return num_digits"
   ]
  },
  {
   "cell_type": "code",
   "execution_count": 16,
   "id": "8f2de4fc",
   "metadata": {},
   "outputs": [],
   "source": [
    "# Check number of character \n",
    "def numChar(email):\n",
    "    char=0\n",
    "    for i in email:\n",
    "        if i.isalpha():\n",
    "            char=char+1\n",
    "    return char"
   ]
  },
  {
   "cell_type": "code",
   "execution_count": 17,
   "id": "98d42884",
   "metadata": {},
   "outputs": [],
   "source": [
    "def numWord(email):\n",
    "    word=1\n",
    "    for i in email:\n",
    "        if(i==' '):\n",
    "            word=word+1\n",
    "    return word"
   ]
  },
  {
   "cell_type": "markdown",
   "id": "cee117dc",
   "metadata": {},
   "source": [
    "### **3.3 URL**\n",
    "\n",
    "Nhiều đặc trưng có thể được trích xuất thuộc danh mục này. Trong số đó, đề cập dưới đây đã được xem xét cho project này.\n",
    "\n",
    "- Tên miền: Số hay là chữ\n",
    "- Độ dài miền: Ngắn/dài\n",
    "- Chuẩn HTTP: có/ không\n",
    "- Số dot trong domain\n",
    "- Redirection \"//\" trong URL\n",
    "- Ký tự '-' trong miền\n",
    "\n",
    "Mỗi đặc trưng này được trình bày và code ở dưới:\n"
   ]
  },
  {
   "cell_type": "code",
   "execution_count": 18,
   "id": "6a227107",
   "metadata": {},
   "outputs": [],
   "source": [
    "def numLink(email):\n",
    "    # Check if number of links\n",
    "    num_of_links = len(re.findall(r\"http\", email))\n",
    "    return num_of_links"
   ]
  },
  {
   "cell_type": "code",
   "execution_count": 19,
   "id": "c6bfa575",
   "metadata": {},
   "outputs": [],
   "source": [
    "def suspiciousLink(email):\n",
    "    # Check if the email has suspicious link\n",
    "    # links = re.find(r\"(http?://\\S+)\", email)\n",
    "    # if links:\n",
    "    #     for link in links:\n",
    "    #         if  '-' in link or 'paypal' in link or 'bank' in link or 'irs' in link or 'amazon' in link or 'ebay' in link:\n",
    "    #             return 1\n",
    "    #         else:\n",
    "    #             return 0\n",
    "    # else:\n",
    "    #     return 0\n",
    "    num_suspicious_link = 0\n",
    "    if 'http' in email and 'https' not in email:\n",
    "        num_suspicious_link +=1\n",
    "    return num_suspicious_link"
   ]
  },
  {
   "cell_type": "code",
   "execution_count": 20,
   "id": "5dd09251",
   "metadata": {},
   "outputs": [],
   "source": [
    "def numDot(email):\n",
    "    num_dot = 0\n",
    "    # Check if the link in email has dot\n",
    "    links = re.findall(r\"http\", email)\n",
    "    for link in links:\n",
    "        num_dot += len(re.findall(r\".\", link))\n",
    "    return num_dot"
   ]
  },
  {
   "cell_type": "markdown",
   "id": "cf53f202",
   "metadata": {},
   "source": [
    "# **4. Danh sách các đặc trưng**\n",
    "\n",
    "Tạo một danh sách và một hàm gọi các hàm khác và lưu trữ tất cả các đặc trưng của email trong danh sách. Chúng tôi sẽ trích xuất các đặc trưng của từng email và thêm vào danh sách này.\n"
   ]
  },
  {
   "cell_type": "code",
   "execution_count": 21,
   "id": "3154efe7",
   "metadata": {},
   "outputs": [],
   "source": [
    "def extract_features(email,label):\n",
    "    features = []\n",
    "    \n",
    "    features.append(haveFormalWord(email))\n",
    "    features.append(response(email))\n",
    "    features.append(misspelledWord(email))\n",
    "    features.append(badGrammar(email))\n",
    "    features.append(keyword(email))\n",
    "    features.append(requestInfo(email))\n",
    "    features.append(senseUrgency(email))\n",
    "    features.append(senseThreat(email))\n",
    "    features.append(longEmail(email))\n",
    "    features.append(numSpecialChar(email))\n",
    "    features.append(numDigit(email))\n",
    "    features.append(numChar(email))\n",
    "    features.append(numWord(email)) \n",
    "    features.append(numLink(email))\n",
    "    features.append(suspiciousLink(email))\n",
    "    features.append(numDot(email))\n",
    "    features.append(label)\n",
    "\n",
    "    return features"
   ]
  },
  {
   "cell_type": "code",
   "execution_count": 22,
   "id": "16c128f7",
   "metadata": {},
   "outputs": [],
   "source": [
    "#Extracting the feautres & storing them in a list\n",
    "features_list = []\n",
    "# for email in data0:\n",
    "for i in range(5728):\n",
    "    email = data0['text'][i]\n",
    "    # Add the email features to the list of all features\n",
    "    features_list.append(extract_features(email, data0['spam'][i]))"
   ]
  },
  {
   "cell_type": "markdown",
   "id": "1bb78405",
   "metadata": {},
   "source": [
    "# **5. Tệp dữ liệu cuối cùng**\n",
    "\n",
    "Bây giờ, chúng ta có một khung dữ liệu và xuất dữ liệu sang tệp csv để đào tạo Machine Learning được thực hiện trong phần sau.\n"
   ]
  },
  {
   "cell_type": "code",
   "execution_count": 23,
   "id": "5e480b04",
   "metadata": {},
   "outputs": [
    {
     "data": {
      "text/html": [
       "<div>\n",
       "<style scoped>\n",
       "    .dataframe tbody tr th:only-of-type {\n",
       "        vertical-align: middle;\n",
       "    }\n",
       "\n",
       "    .dataframe tbody tr th {\n",
       "        vertical-align: top;\n",
       "    }\n",
       "\n",
       "    .dataframe thead th {\n",
       "        text-align: right;\n",
       "    }\n",
       "</style>\n",
       "<table border=\"1\" class=\"dataframe\">\n",
       "  <thead>\n",
       "    <tr style=\"text-align: right;\">\n",
       "      <th></th>\n",
       "      <th>have_formal_word</th>\n",
       "      <th>have_respone</th>\n",
       "      <th>num_misspelled_words</th>\n",
       "      <th>bad_grammar</th>\n",
       "      <th>keyword</th>\n",
       "      <th>requests_personal_info</th>\n",
       "      <th>sense_of_urgency</th>\n",
       "      <th>sense_of_threat</th>\n",
       "      <th>long_email</th>\n",
       "      <th>number_special_chars</th>\n",
       "      <th>number_digits</th>\n",
       "      <th>number_chars</th>\n",
       "      <th>number_words</th>\n",
       "      <th>number_links</th>\n",
       "      <th>suspicious_link</th>\n",
       "      <th>number_dot_in_link</th>\n",
       "      <th>spam</th>\n",
       "    </tr>\n",
       "  </thead>\n",
       "  <tbody>\n",
       "    <tr>\n",
       "      <th>0</th>\n",
       "      <td>0</td>\n",
       "      <td>0</td>\n",
       "      <td>15</td>\n",
       "      <td>1</td>\n",
       "      <td>0</td>\n",
       "      <td>0</td>\n",
       "      <td>0</td>\n",
       "      <td>0</td>\n",
       "      <td>1</td>\n",
       "      <td>0</td>\n",
       "      <td>0</td>\n",
       "      <td>776</td>\n",
       "      <td>113</td>\n",
       "      <td>0</td>\n",
       "      <td>0</td>\n",
       "      <td>0</td>\n",
       "      <td>1</td>\n",
       "    </tr>\n",
       "    <tr>\n",
       "      <th>1</th>\n",
       "      <td>0</td>\n",
       "      <td>0</td>\n",
       "      <td>19</td>\n",
       "      <td>1</td>\n",
       "      <td>0</td>\n",
       "      <td>0</td>\n",
       "      <td>0</td>\n",
       "      <td>0</td>\n",
       "      <td>1</td>\n",
       "      <td>0</td>\n",
       "      <td>0</td>\n",
       "      <td>442</td>\n",
       "      <td>64</td>\n",
       "      <td>0</td>\n",
       "      <td>0</td>\n",
       "      <td>0</td>\n",
       "      <td>1</td>\n",
       "    </tr>\n",
       "    <tr>\n",
       "      <th>2</th>\n",
       "      <td>1</td>\n",
       "      <td>0</td>\n",
       "      <td>3</td>\n",
       "      <td>1</td>\n",
       "      <td>0</td>\n",
       "      <td>0</td>\n",
       "      <td>0</td>\n",
       "      <td>0</td>\n",
       "      <td>0</td>\n",
       "      <td>0</td>\n",
       "      <td>0</td>\n",
       "      <td>237</td>\n",
       "      <td>40</td>\n",
       "      <td>0</td>\n",
       "      <td>0</td>\n",
       "      <td>0</td>\n",
       "      <td>1</td>\n",
       "    </tr>\n",
       "    <tr>\n",
       "      <th>3</th>\n",
       "      <td>0</td>\n",
       "      <td>0</td>\n",
       "      <td>7</td>\n",
       "      <td>1</td>\n",
       "      <td>0</td>\n",
       "      <td>0</td>\n",
       "      <td>0</td>\n",
       "      <td>0</td>\n",
       "      <td>0</td>\n",
       "      <td>0</td>\n",
       "      <td>0</td>\n",
       "      <td>288</td>\n",
       "      <td>46</td>\n",
       "      <td>0</td>\n",
       "      <td>0</td>\n",
       "      <td>0</td>\n",
       "      <td>1</td>\n",
       "    </tr>\n",
       "    <tr>\n",
       "      <th>4</th>\n",
       "      <td>0</td>\n",
       "      <td>0</td>\n",
       "      <td>2</td>\n",
       "      <td>1</td>\n",
       "      <td>0</td>\n",
       "      <td>0</td>\n",
       "      <td>0</td>\n",
       "      <td>0</td>\n",
       "      <td>0</td>\n",
       "      <td>0</td>\n",
       "      <td>0</td>\n",
       "      <td>110</td>\n",
       "      <td>19</td>\n",
       "      <td>0</td>\n",
       "      <td>0</td>\n",
       "      <td>0</td>\n",
       "      <td>1</td>\n",
       "    </tr>\n",
       "  </tbody>\n",
       "</table>\n",
       "</div>"
      ],
      "text/plain": [
       "   have_formal_word  have_respone  num_misspelled_words  bad_grammar  keyword  \\\n",
       "0                 0             0                    15            1        0   \n",
       "1                 0             0                    19            1        0   \n",
       "2                 1             0                     3            1        0   \n",
       "3                 0             0                     7            1        0   \n",
       "4                 0             0                     2            1        0   \n",
       "\n",
       "   requests_personal_info  sense_of_urgency  sense_of_threat  long_email  \\\n",
       "0                       0                 0                0           1   \n",
       "1                       0                 0                0           1   \n",
       "2                       0                 0                0           0   \n",
       "3                       0                 0                0           0   \n",
       "4                       0                 0                0           0   \n",
       "\n",
       "   number_special_chars  number_digits  number_chars  number_words  \\\n",
       "0                     0              0           776           113   \n",
       "1                     0              0           442            64   \n",
       "2                     0              0           237            40   \n",
       "3                     0              0           288            46   \n",
       "4                     0              0           110            19   \n",
       "\n",
       "   number_links  suspicious_link  number_dot_in_link  spam  \n",
       "0             0                0                   0     1  \n",
       "1             0                0                   0     1  \n",
       "2             0                0                   0     1  \n",
       "3             0                0                   0     1  \n",
       "4             0                0                   0     1  "
      ]
     },
     "execution_count": 23,
     "metadata": {},
     "output_type": "execute_result"
    }
   ],
   "source": [
    "# Convert the list of features into a pandas DataFrame\n",
    "feature_names = ['have_formal_word','have_respone', 'num_misspelled_words','bad_grammar', 'keyword', 'requests_personal_info', 'sense_of_urgency', 'sense_of_threat', 'long_email', 'number_special_chars', 'number_digits', 'number_chars', 'number_words','number_links','suspicious_link', 'number_dot_in_link','spam']\n",
    "df = pd.DataFrame(features_list, columns= feature_names)\n",
    "df.head()"
   ]
  },
  {
   "cell_type": "code",
   "execution_count": 24,
   "id": "b3670fda",
   "metadata": {},
   "outputs": [
    {
     "data": {
      "image/png": "[encoded data removed]",
      "text/plain": [
       "<Figure size 1500x1500 with 20 Axes>"
      ]
     },
     "metadata": {},
     "output_type": "display_data"
    }
   ],
   "source": [
    "#Plotting the data distribution\n",
    "df.hist(bins = 50,figsize = (15,15))\n",
    "plt.show()"
   ]
  },
  {
   "cell_type": "code",
   "execution_count": 25,
   "id": "b517d8b1",
   "metadata": {},
   "outputs": [],
   "source": [
    "# Storing the extracted email fatures to csv file\n",
    "df.to_csv('email_processed.csv', index= False)"
   ]
  },
  {
   "cell_type": "code",
   "execution_count": 26,
   "id": "b7e5090e",
   "metadata": {},
   "outputs": [
    {
     "data": {
      "text/plain": [
       "(5728, 17)"
      ]
     },
     "execution_count": 26,
     "metadata": {},
     "output_type": "execute_result"
    }
   ],
   "source": [
    "df.shape"
   ]
  },
  {
   "cell_type": "code",
   "execution_count": 27,
   "id": "5eaa34f0",
   "metadata": {},
   "outputs": [
    {
     "data": {
      "text/html": [
       "<div>\n",
       "<style scoped>\n",
       "    .dataframe tbody tr th:only-of-type {\n",
       "        vertical-align: middle;\n",
       "    }\n",
       "\n",
       "    .dataframe tbody tr th {\n",
       "        vertical-align: top;\n",
       "    }\n",
       "\n",
       "    .dataframe thead th {\n",
       "        text-align: right;\n",
       "    }\n",
       "</style>\n",
       "<table border=\"1\" class=\"dataframe\">\n",
       "  <thead>\n",
       "    <tr style=\"text-align: right;\">\n",
       "      <th></th>\n",
       "      <th>have_formal_word</th>\n",
       "      <th>have_respone</th>\n",
       "      <th>num_misspelled_words</th>\n",
       "      <th>bad_grammar</th>\n",
       "      <th>keyword</th>\n",
       "      <th>requests_personal_info</th>\n",
       "      <th>sense_of_urgency</th>\n",
       "      <th>sense_of_threat</th>\n",
       "      <th>long_email</th>\n",
       "      <th>number_special_chars</th>\n",
       "      <th>number_digits</th>\n",
       "      <th>number_chars</th>\n",
       "      <th>number_words</th>\n",
       "      <th>number_links</th>\n",
       "      <th>suspicious_link</th>\n",
       "      <th>number_dot_in_link</th>\n",
       "      <th>spam</th>\n",
       "    </tr>\n",
       "  </thead>\n",
       "  <tbody>\n",
       "    <tr>\n",
       "      <th>count</th>\n",
       "      <td>5728.000000</td>\n",
       "      <td>5728.000000</td>\n",
       "      <td>5728.000000</td>\n",
       "      <td>5728.000000</td>\n",
       "      <td>5728.000000</td>\n",
       "      <td>5728.000000</td>\n",
       "      <td>5728.000000</td>\n",
       "      <td>5728.000000</td>\n",
       "      <td>5728.000000</td>\n",
       "      <td>5728.0</td>\n",
       "      <td>5728.0</td>\n",
       "      <td>5728.000000</td>\n",
       "      <td>5728.000000</td>\n",
       "      <td>5728.000000</td>\n",
       "      <td>5728.000000</td>\n",
       "      <td>5728.000000</td>\n",
       "      <td>5728.000000</td>\n",
       "    </tr>\n",
       "    <tr>\n",
       "      <th>mean</th>\n",
       "      <td>0.220496</td>\n",
       "      <td>0.019553</td>\n",
       "      <td>11.654330</td>\n",
       "      <td>0.999651</td>\n",
       "      <td>0.006983</td>\n",
       "      <td>0.020426</td>\n",
       "      <td>0.001920</td>\n",
       "      <td>0.111732</td>\n",
       "      <td>0.571753</td>\n",
       "      <td>0.0</td>\n",
       "      <td>0.0</td>\n",
       "      <td>822.372556</td>\n",
       "      <td>138.347591</td>\n",
       "      <td>0.285789</td>\n",
       "      <td>0.170042</td>\n",
       "      <td>1.143156</td>\n",
       "      <td>0.238827</td>\n",
       "    </tr>\n",
       "    <tr>\n",
       "      <th>std</th>\n",
       "      <td>0.414617</td>\n",
       "      <td>0.138471</td>\n",
       "      <td>13.119121</td>\n",
       "      <td>0.018684</td>\n",
       "      <td>0.083281</td>\n",
       "      <td>0.141465</td>\n",
       "      <td>0.043784</td>\n",
       "      <td>0.315064</td>\n",
       "      <td>0.494868</td>\n",
       "      <td>0.0</td>\n",
       "      <td>0.0</td>\n",
       "      <td>1123.182904</td>\n",
       "      <td>181.122094</td>\n",
       "      <td>1.099483</td>\n",
       "      <td>0.375702</td>\n",
       "      <td>4.397934</td>\n",
       "      <td>0.426404</td>\n",
       "    </tr>\n",
       "    <tr>\n",
       "      <th>min</th>\n",
       "      <td>0.000000</td>\n",
       "      <td>0.000000</td>\n",
       "      <td>0.000000</td>\n",
       "      <td>0.000000</td>\n",
       "      <td>0.000000</td>\n",
       "      <td>0.000000</td>\n",
       "      <td>0.000000</td>\n",
       "      <td>0.000000</td>\n",
       "      <td>0.000000</td>\n",
       "      <td>0.0</td>\n",
       "      <td>0.0</td>\n",
       "      <td>10.000000</td>\n",
       "      <td>2.000000</td>\n",
       "      <td>0.000000</td>\n",
       "      <td>0.000000</td>\n",
       "      <td>0.000000</td>\n",
       "      <td>0.000000</td>\n",
       "    </tr>\n",
       "    <tr>\n",
       "      <th>25%</th>\n",
       "      <td>0.000000</td>\n",
       "      <td>0.000000</td>\n",
       "      <td>4.000000</td>\n",
       "      <td>1.000000</td>\n",
       "      <td>0.000000</td>\n",
       "      <td>0.000000</td>\n",
       "      <td>0.000000</td>\n",
       "      <td>0.000000</td>\n",
       "      <td>0.000000</td>\n",
       "      <td>0.0</td>\n",
       "      <td>0.0</td>\n",
       "      <td>277.000000</td>\n",
       "      <td>48.000000</td>\n",
       "      <td>0.000000</td>\n",
       "      <td>0.000000</td>\n",
       "      <td>0.000000</td>\n",
       "      <td>0.000000</td>\n",
       "    </tr>\n",
       "    <tr>\n",
       "      <th>50%</th>\n",
       "      <td>0.000000</td>\n",
       "      <td>0.000000</td>\n",
       "      <td>9.000000</td>\n",
       "      <td>1.000000</td>\n",
       "      <td>0.000000</td>\n",
       "      <td>0.000000</td>\n",
       "      <td>0.000000</td>\n",
       "      <td>0.000000</td>\n",
       "      <td>1.000000</td>\n",
       "      <td>0.0</td>\n",
       "      <td>0.0</td>\n",
       "      <td>512.000000</td>\n",
       "      <td>88.000000</td>\n",
       "      <td>0.000000</td>\n",
       "      <td>0.000000</td>\n",
       "      <td>0.000000</td>\n",
       "      <td>0.000000</td>\n",
       "    </tr>\n",
       "    <tr>\n",
       "      <th>75%</th>\n",
       "      <td>0.000000</td>\n",
       "      <td>0.000000</td>\n",
       "      <td>15.000000</td>\n",
       "      <td>1.000000</td>\n",
       "      <td>0.000000</td>\n",
       "      <td>0.000000</td>\n",
       "      <td>0.000000</td>\n",
       "      <td>0.000000</td>\n",
       "      <td>1.000000</td>\n",
       "      <td>0.0</td>\n",
       "      <td>0.0</td>\n",
       "      <td>971.000000</td>\n",
       "      <td>166.000000</td>\n",
       "      <td>0.000000</td>\n",
       "      <td>0.000000</td>\n",
       "      <td>0.000000</td>\n",
       "      <td>0.000000</td>\n",
       "    </tr>\n",
       "    <tr>\n",
       "      <th>max</th>\n",
       "      <td>1.000000</td>\n",
       "      <td>1.000000</td>\n",
       "      <td>220.000000</td>\n",
       "      <td>1.000000</td>\n",
       "      <td>1.000000</td>\n",
       "      <td>1.000000</td>\n",
       "      <td>1.000000</td>\n",
       "      <td>1.000000</td>\n",
       "      <td>1.000000</td>\n",
       "      <td>0.0</td>\n",
       "      <td>0.0</td>\n",
       "      <td>25236.000000</td>\n",
       "      <td>4110.000000</td>\n",
       "      <td>38.000000</td>\n",
       "      <td>1.000000</td>\n",
       "      <td>152.000000</td>\n",
       "      <td>1.000000</td>\n",
       "    </tr>\n",
       "  </tbody>\n",
       "</table>\n",
       "</div>"
      ],
      "text/plain": [
       "       have_formal_word  have_respone  num_misspelled_words  bad_grammar  \\\n",
       "count       5728.000000   5728.000000           5728.000000  5728.000000   \n",
       "mean           0.220496      0.019553             11.654330     0.999651   \n",
       "std            0.414617      0.138471             13.119121     0.018684   \n",
       "min            0.000000      0.000000              0.000000     0.000000   \n",
       "25%            0.000000      0.000000              4.000000     1.000000   \n",
       "50%            0.000000      0.000000              9.000000     1.000000   \n",
       "75%            0.000000      0.000000             15.000000     1.000000   \n",
       "max            1.000000      1.000000            220.000000     1.000000   \n",
       "\n",
       "           keyword  requests_personal_info  sense_of_urgency  sense_of_threat  \\\n",
       "count  5728.000000             5728.000000       5728.000000      5728.000000   \n",
       "mean      0.006983                0.020426          0.001920         0.111732   \n",
       "std       0.083281                0.141465          0.043784         0.315064   \n",
       "min       0.000000                0.000000          0.000000         0.000000   \n",
       "25%       0.000000                0.000000          0.000000         0.000000   \n",
       "50%       0.000000                0.000000          0.000000         0.000000   \n",
       "75%       0.000000                0.000000          0.000000         0.000000   \n",
       "max       1.000000                1.000000          1.000000         1.000000   \n",
       "\n",
       "        long_email  number_special_chars  number_digits  number_chars  \\\n",
       "count  5728.000000                5728.0         5728.0   5728.000000   \n",
       "mean      0.571753                   0.0            0.0    822.372556   \n",
       "std       0.494868                   0.0            0.0   1123.182904   \n",
       "min       0.000000                   0.0            0.0     10.000000   \n",
       "25%       0.000000                   0.0            0.0    277.000000   \n",
       "50%       1.000000                   0.0            0.0    512.000000   \n",
       "75%       1.000000                   0.0            0.0    971.000000   \n",
       "max       1.000000                   0.0            0.0  25236.000000   \n",
       "\n",
       "       number_words  number_links  suspicious_link  number_dot_in_link  \\\n",
       "count   5728.000000   5728.000000      5728.000000         5728.000000   \n",
       "mean     138.347591      0.285789         0.170042            1.143156   \n",
       "std      181.122094      1.099483         0.375702            4.397934   \n",
       "min        2.000000      0.000000         0.000000            0.000000   \n",
       "25%       48.000000      0.000000         0.000000            0.000000   \n",
       "50%       88.000000      0.000000         0.000000            0.000000   \n",
       "75%      166.000000      0.000000         0.000000            0.000000   \n",
       "max     4110.000000     38.000000         1.000000          152.000000   \n",
       "\n",
       "              spam  \n",
       "count  5728.000000  \n",
       "mean      0.238827  \n",
       "std       0.426404  \n",
       "min       0.000000  \n",
       "25%       0.000000  \n",
       "50%       0.000000  \n",
       "75%       0.000000  \n",
       "max       1.000000  "
      ]
     },
     "execution_count": 27,
     "metadata": {},
     "output_type": "execute_result"
    }
   ],
   "source": [
    "\n",
    "df.describe()"
   ]
  },
  {
   "cell_type": "code",
   "execution_count": 28,
   "id": "15b26e32",
   "metadata": {
    "scrolled": true
   },
   "outputs": [],
   "source": [
    "# import seaborn as sns\n",
    "# plt.figure(figsize=(15,13))\n",
    "# sns.heatmap(df.corr())\n",
    "# plt.show()"
   ]
  },
  {
   "cell_type": "code",
   "execution_count": 29,
   "id": "d85857aa",
   "metadata": {},
   "outputs": [
    {
     "data": {
      "text/plain": [
       "have_formal_word          0\n",
       "have_respone              0\n",
       "num_misspelled_words      0\n",
       "bad_grammar               0\n",
       "keyword                   0\n",
       "requests_personal_info    0\n",
       "sense_of_urgency          0\n",
       "sense_of_threat           0\n",
       "long_email                0\n",
       "number_special_chars      0\n",
       "number_digits             0\n",
       "number_chars              0\n",
       "number_words              0\n",
       "number_links              0\n",
       "suspicious_link           0\n",
       "number_dot_in_link        0\n",
       "spam                      0\n",
       "dtype: int64"
      ]
     },
     "execution_count": 29,
     "metadata": {},
     "output_type": "execute_result"
    }
   ],
   "source": [
    "#checking the data for null or missing values\n",
    "df.isnull().sum()"
   ]
  },
  {
   "cell_type": "code",
   "execution_count": 30,
   "id": "32323ade",
   "metadata": {},
   "outputs": [
    {
     "data": {
      "text/html": [
       "<div>\n",
       "<style scoped>\n",
       "    .dataframe tbody tr th:only-of-type {\n",
       "        vertical-align: middle;\n",
       "    }\n",
       "\n",
       "    .dataframe tbody tr th {\n",
       "        vertical-align: top;\n",
       "    }\n",
       "\n",
       "    .dataframe thead th {\n",
       "        text-align: right;\n",
       "    }\n",
       "</style>\n",
       "<table border=\"1\" class=\"dataframe\">\n",
       "  <thead>\n",
       "    <tr style=\"text-align: right;\">\n",
       "      <th></th>\n",
       "      <th>have_formal_word</th>\n",
       "      <th>have_respone</th>\n",
       "      <th>num_misspelled_words</th>\n",
       "      <th>bad_grammar</th>\n",
       "      <th>keyword</th>\n",
       "      <th>requests_personal_info</th>\n",
       "      <th>sense_of_urgency</th>\n",
       "      <th>sense_of_threat</th>\n",
       "      <th>long_email</th>\n",
       "      <th>number_special_chars</th>\n",
       "      <th>number_digits</th>\n",
       "      <th>number_chars</th>\n",
       "      <th>number_words</th>\n",
       "      <th>number_links</th>\n",
       "      <th>suspicious_link</th>\n",
       "      <th>number_dot_in_link</th>\n",
       "      <th>spam</th>\n",
       "    </tr>\n",
       "  </thead>\n",
       "  <tbody>\n",
       "    <tr>\n",
       "      <th>0</th>\n",
       "      <td>0</td>\n",
       "      <td>0</td>\n",
       "      <td>14</td>\n",
       "      <td>1</td>\n",
       "      <td>0</td>\n",
       "      <td>0</td>\n",
       "      <td>0</td>\n",
       "      <td>0</td>\n",
       "      <td>1</td>\n",
       "      <td>0</td>\n",
       "      <td>0</td>\n",
       "      <td>882</td>\n",
       "      <td>167</td>\n",
       "      <td>1</td>\n",
       "      <td>1</td>\n",
       "      <td>4</td>\n",
       "      <td>0</td>\n",
       "    </tr>\n",
       "    <tr>\n",
       "      <th>1</th>\n",
       "      <td>1</td>\n",
       "      <td>0</td>\n",
       "      <td>3</td>\n",
       "      <td>1</td>\n",
       "      <td>0</td>\n",
       "      <td>0</td>\n",
       "      <td>0</td>\n",
       "      <td>0</td>\n",
       "      <td>0</td>\n",
       "      <td>0</td>\n",
       "      <td>0</td>\n",
       "      <td>359</td>\n",
       "      <td>55</td>\n",
       "      <td>0</td>\n",
       "      <td>0</td>\n",
       "      <td>0</td>\n",
       "      <td>0</td>\n",
       "    </tr>\n",
       "    <tr>\n",
       "      <th>2</th>\n",
       "      <td>0</td>\n",
       "      <td>0</td>\n",
       "      <td>9</td>\n",
       "      <td>1</td>\n",
       "      <td>0</td>\n",
       "      <td>0</td>\n",
       "      <td>0</td>\n",
       "      <td>0</td>\n",
       "      <td>1</td>\n",
       "      <td>0</td>\n",
       "      <td>0</td>\n",
       "      <td>573</td>\n",
       "      <td>98</td>\n",
       "      <td>0</td>\n",
       "      <td>0</td>\n",
       "      <td>0</td>\n",
       "      <td>0</td>\n",
       "    </tr>\n",
       "    <tr>\n",
       "      <th>3</th>\n",
       "      <td>0</td>\n",
       "      <td>0</td>\n",
       "      <td>49</td>\n",
       "      <td>1</td>\n",
       "      <td>0</td>\n",
       "      <td>0</td>\n",
       "      <td>0</td>\n",
       "      <td>0</td>\n",
       "      <td>1</td>\n",
       "      <td>0</td>\n",
       "      <td>0</td>\n",
       "      <td>2487</td>\n",
       "      <td>439</td>\n",
       "      <td>1</td>\n",
       "      <td>1</td>\n",
       "      <td>4</td>\n",
       "      <td>0</td>\n",
       "    </tr>\n",
       "    <tr>\n",
       "      <th>4</th>\n",
       "      <td>1</td>\n",
       "      <td>0</td>\n",
       "      <td>22</td>\n",
       "      <td>1</td>\n",
       "      <td>0</td>\n",
       "      <td>0</td>\n",
       "      <td>0</td>\n",
       "      <td>0</td>\n",
       "      <td>1</td>\n",
       "      <td>0</td>\n",
       "      <td>0</td>\n",
       "      <td>1005</td>\n",
       "      <td>183</td>\n",
       "      <td>0</td>\n",
       "      <td>0</td>\n",
       "      <td>0</td>\n",
       "      <td>0</td>\n",
       "    </tr>\n",
       "  </tbody>\n",
       "</table>\n",
       "</div>"
      ],
      "text/plain": [
       "   have_formal_word  have_respone  num_misspelled_words  bad_grammar  keyword  \\\n",
       "0                 0             0                    14            1        0   \n",
       "1                 1             0                     3            1        0   \n",
       "2                 0             0                     9            1        0   \n",
       "3                 0             0                    49            1        0   \n",
       "4                 1             0                    22            1        0   \n",
       "\n",
       "   requests_personal_info  sense_of_urgency  sense_of_threat  long_email  \\\n",
       "0                       0                 0                0           1   \n",
       "1                       0                 0                0           0   \n",
       "2                       0                 0                0           1   \n",
       "3                       0                 0                0           1   \n",
       "4                       0                 0                0           1   \n",
       "\n",
       "   number_special_chars  number_digits  number_chars  number_words  \\\n",
       "0                     0              0           882           167   \n",
       "1                     0              0           359            55   \n",
       "2                     0              0           573            98   \n",
       "3                     0              0          2487           439   \n",
       "4                     0              0          1005           183   \n",
       "\n",
       "   number_links  suspicious_link  number_dot_in_link  spam  \n",
       "0             1                1                   4     0  \n",
       "1             0                0                   0     0  \n",
       "2             0                0                   0     0  \n",
       "3             1                1                   4     0  \n",
       "4             0                0                   0     0  "
      ]
     },
     "execution_count": 30,
     "metadata": {},
     "output_type": "execute_result"
    }
   ],
   "source": [
    "# shuffling the rows in the dataset so that when splitting the train and test set are equally distributed\n",
    "df = df.sample(frac=1).reset_index(drop=True)\n",
    "df.head()"
   ]
  },
  {
   "cell_type": "code",
   "execution_count": 31,
   "id": "3eef039b",
   "metadata": {},
   "outputs": [
    {
     "data": {
      "text/plain": [
       "((5728, 16), (5728,))"
      ]
     },
     "execution_count": 31,
     "metadata": {},
     "output_type": "execute_result"
    }
   ],
   "source": [
    "# Sepratating & assigning features and target columns to X & y\n",
    "y = df['spam']\n",
    "X = df.drop('spam',axis=1)\n",
    "X.shape, y.shape"
   ]
  },
  {
   "cell_type": "markdown",
   "id": "0f3cd474",
   "metadata": {},
   "source": [
    "# 6. Chia dataset thành train set và test set"
   ]
  },
  {
   "cell_type": "code",
   "execution_count": 32,
   "id": "7a6c89c0",
   "metadata": {},
   "outputs": [
    {
     "data": {
      "text/plain": [
       "((4582, 16), (1146, 16))"
      ]
     },
     "execution_count": 32,
     "metadata": {},
     "output_type": "execute_result"
    }
   ],
   "source": [
    "from sklearn.model_selection import train_test_split\n",
    "\n",
    "X_train, X_test, y_train, y_test = train_test_split(X, y, \n",
    "                                                    test_size = 0.2, random_state = 12)\n",
    "X_train.shape, X_test.shape"
   ]
  },
  {
   "cell_type": "markdown",
   "id": "1c1510b1",
   "metadata": {},
   "source": [
    "# 7. Huấn luyện mô hình học "
   ]
  },
  {
   "cell_type": "markdown",
   "id": "3cc22e81",
   "metadata": {},
   "source": [
    "## 7.1 KNN"
   ]
  },
  {
   "cell_type": "code",
   "execution_count": 33,
   "id": "7880ebad",
   "metadata": {},
   "outputs": [
    {
     "data": {
      "text/html": [
       "<style>#sk-container-id-1 {color: black;background-color: white;}#sk-container-id-1 pre{padding: 0;}#sk-container-id-1 div.sk-toggleable {background-color: white;}#sk-container-id-1 label.sk-toggleable__label {cursor: pointer;display: block;width: 100%;margin-bottom: 0;padding: 0.3em;box-sizing: border-box;text-align: center;}#sk-container-id-1 label.sk-toggleable__label-arrow:before {content: \"▸\";float: left;margin-right: 0.25em;color: #696969;}#sk-container-id-1 label.sk-toggleable__label-arrow:hover:before {color: black;}#sk-container-id-1 div.sk-estimator:hover label.sk-toggleable__label-arrow:before {color: black;}#sk-container-id-1 div.sk-toggleable__content {max-height: 0;max-width: 0;overflow: hidden;text-align: left;background-color: #f0f8ff;}#sk-container-id-1 div.sk-toggleable__content pre {margin: 0.2em;color: black;border-radius: 0.25em;background-color: #f0f8ff;}#sk-container-id-1 input.sk-toggleable__control:checked~div.sk-toggleable__content {max-height: 200px;max-width: 100%;overflow: auto;}#sk-container-id-1 input.sk-toggleable__control:checked~label.sk-toggleable__label-arrow:before {content: \"▾\";}#sk-container-id-1 div.sk-estimator input.sk-toggleable__control:checked~label.sk-toggleable__label {background-color: #d4ebff;}#sk-container-id-1 div.sk-label input.sk-toggleable__control:checked~label.sk-toggleable__label {background-color: #d4ebff;}#sk-container-id-1 input.sk-hidden--visually {border: 0;clip: rect(1px 1px 1px 1px);clip: rect(1px, 1px, 1px, 1px);height: 1px;margin: -1px;overflow: hidden;padding: 0;position: absolute;width: 1px;}#sk-container-id-1 div.sk-estimator {font-family: monospace;background-color: #f0f8ff;border: 1px dotted black;border-radius: 0.25em;box-sizing: border-box;margin-bottom: 0.5em;}#sk-container-id-1 div.sk-estimator:hover {background-color: #d4ebff;}#sk-container-id-1 div.sk-parallel-item::after {content: \"\";width: 100%;border-bottom: 1px solid gray;flex-grow: 1;}#sk-container-id-1 div.sk-label:hover label.sk-toggleable__label {background-color: #d4ebff;}#sk-container-id-1 div.sk-serial::before {content: \"\";position: absolute;border-left: 1px solid gray;box-sizing: border-box;top: 0;bottom: 0;left: 50%;z-index: 0;}#sk-container-id-1 div.sk-serial {display: flex;flex-direction: column;align-items: center;background-color: white;padding-right: 0.2em;padding-left: 0.2em;position: relative;}#sk-container-id-1 div.sk-item {position: relative;z-index: 1;}#sk-container-id-1 div.sk-parallel {display: flex;align-items: stretch;justify-content: center;background-color: white;position: relative;}#sk-container-id-1 div.sk-item::before, #sk-container-id-1 div.sk-parallel-item::before {content: \"\";position: absolute;border-left: 1px solid gray;box-sizing: border-box;top: 0;bottom: 0;left: 50%;z-index: -1;}#sk-container-id-1 div.sk-parallel-item {display: flex;flex-direction: column;z-index: 1;position: relative;background-color: white;}#sk-container-id-1 div.sk-parallel-item:first-child::after {align-self: flex-end;width: 50%;}#sk-container-id-1 div.sk-parallel-item:last-child::after {align-self: flex-start;width: 50%;}#sk-container-id-1 div.sk-parallel-item:only-child::after {width: 0;}#sk-container-id-1 div.sk-dashed-wrapped {border: 1px dashed gray;margin: 0 0.4em 0.5em 0.4em;box-sizing: border-box;padding-bottom: 0.4em;background-color: white;}#sk-container-id-1 div.sk-label label {font-family: monospace;font-weight: bold;display: inline-block;line-height: 1.2em;}#sk-container-id-1 div.sk-label-container {text-align: center;}#sk-container-id-1 div.sk-container {/* jupyter's `normalize.less` sets `[hidden] { display: none; }` but bootstrap.min.css set `[hidden] { display: none !important; }` so we also need the `!important` here to be able to override the default hidden behavior on the sphinx rendered scikit-learn.org. See: https://github.com/scikit-learn/scikit-learn/issues/21755 */display: inline-block !important;position: relative;}#sk-container-id-1 div.sk-text-repr-fallback {display: none;}</style><div id=\"sk-container-id-1\" class=\"sk-top-container\"><div class=\"sk-text-repr-fallback\"><pre>KNeighborsClassifier(n_neighbors=4)</pre><b>In a Jupyter environment, please rerun this cell to show the HTML representation or trust the notebook. <br />On GitHub, the HTML representation is unable to render, please try loading this page with nbviewer.org.</b></div><div class=\"sk-container\" hidden><div class=\"sk-item\"><div class=\"sk-estimator sk-toggleable\"><input class=\"sk-toggleable__control sk-hidden--visually\" id=\"sk-estimator-id-1\" type=\"checkbox\" checked><label for=\"sk-estimator-id-1\" class=\"sk-toggleable__label sk-toggleable__label-arrow\">KNeighborsClassifier</label><div class=\"sk-toggleable__content\"><pre>KNeighborsClassifier(n_neighbors=4)</pre></div></div></div></div></div>"
      ],
      "text/plain": [
       "KNeighborsClassifier(n_neighbors=4)"
      ]
     },
     "execution_count": 33,
     "metadata": {},
     "output_type": "execute_result"
    }
   ],
   "source": [
    "from sklearn.neighbors import KNeighborsClassifier\n",
    "knn = KNeighborsClassifier(n_neighbors=4)\n",
    "knn.fit(X_train, y_train) "
   ]
  },
  {
   "cell_type": "code",
   "execution_count": 34,
   "id": "850d0a56",
   "metadata": {},
   "outputs": [],
   "source": [
    "y_pred_knn = knn.predict(X_test)"
   ]
  },
  {
   "cell_type": "code",
   "execution_count": 35,
   "id": "2ef1c734",
   "metadata": {},
   "outputs": [
    {
     "name": "stdout",
     "output_type": "stream",
     "text": [
      "Accuracy score:  0.8342059336823735\n",
      "Precision score:  0.420863309352518\n",
      "Recall score:  0.8013698630136986\n",
      "F1 score:  0.5518867924528301\n"
     ]
    }
   ],
   "source": [
    "from sklearn import metrics\n",
    "from sklearn.metrics import accuracy_score, precision_score, recall_score, f1_score\n",
    "print('Accuracy score: ', format(accuracy_score(y_pred_knn, y_test))) \n",
    "print('Precision score: ', format(precision_score(y_pred_knn,y_test)))\n",
    "print('Recall score: ', format(recall_score(y_pred_knn,y_test)))\n",
    "print('F1 score: ', format(f1_score(y_pred_knn,y_test)))  "
   ]
  },
  {
   "cell_type": "markdown",
   "id": "41f6c39c",
   "metadata": {},
   "source": [
    "## 7.2 SVM"
   ]
  },
  {
   "cell_type": "code",
   "execution_count": 36,
   "id": "8df9d86d",
   "metadata": {},
   "outputs": [],
   "source": [
    "#Import svm model\n",
    "from sklearn import svm\n",
    "\n",
    "#Create a svm Classifier\n",
    "clf = svm.SVC(kernel='linear') # Linear Kernel\n",
    "\n",
    "#Train the model using the training sets\n",
    "clf.fit(X_train, y_train)\n",
    "\n",
    "#Predict the response for test dataset\n",
    "y_pred = clf.predict(X_test)\n"
   ]
  },
  {
   "cell_type": "code",
   "execution_count": 37,
   "id": "be32182a",
   "metadata": {},
   "outputs": [
    {
     "name": "stdout",
     "output_type": "stream",
     "text": [
      "Accuracy score:  0.7635253054101222\n",
      "Precision score:  0.6129032258064516\n",
      "Recall score:  0.0683453237410072\n",
      "F1 score:  0.12297734627831716\n"
     ]
    }
   ],
   "source": [
    "#Import scikit-learn metrics module for accuracy calculation\n",
    "\n",
    "# Model Accuracy: how often is the classifier correct?\n",
    "print('Accuracy score: ', format(accuracy_score(y_pred, y_test)))\n",
    "print('Precision score: ', format(precision_score(y_test ,y_pred)))\n",
    "print('Recall score: ', format(recall_score(y_test ,y_pred)))\n",
    "print('F1 score: ', format(f1_score(y_test ,y_pred)))\n"
   ]
  },
  {
   "cell_type": "code",
   "execution_count": 38,
   "id": "f8da2914",
   "metadata": {},
   "outputs": [],
   "source": [
    "from sklearn.naive_bayes import MultinomialNB\n",
    "naive_bayes = MultinomialNB()\n",
    "naive_bayes.fit(X_train , y_train) \n",
    "predictions = naive_bayes.predict(X_test)\n"
   ]
  },
  {
   "cell_type": "code",
   "execution_count": 39,
   "id": "a13eff6b",
   "metadata": {},
   "outputs": [
    {
     "name": "stdout",
     "output_type": "stream",
     "text": [
      "Accuracy score:  0.7120418848167539\n",
      "Precision score:  0.23741007194244604\n",
      "Recall score:  0.358695652173913\n",
      "F1 score:  0.2857142857142857\n"
     ]
    }
   ],
   "source": [
    "print('Accuracy score: ', format(accuracy_score(predictions,y_test)))\n",
    "print('Precision score: ', format(precision_score(predictions,y_test)))\n",
    "print('Recall score: ', format(recall_score(predictions,y_test)))\n",
    "print('F1 score: ', format(f1_score(predictions,y_test)))"
   ]
  },
  {
   "cell_type": "markdown",
   "id": "f66e61dc",
   "metadata": {},
   "source": [
    "## 7.3 Naive Bayes "
   ]
  },
  {
   "cell_type": "code",
   "execution_count": 40,
   "id": "888130be",
   "metadata": {},
   "outputs": [
    {
     "data": {
      "text/html": [
       "<style>#sk-container-id-2 {color: black;background-color: white;}#sk-container-id-2 pre{padding: 0;}#sk-container-id-2 div.sk-toggleable {background-color: white;}#sk-container-id-2 label.sk-toggleable__label {cursor: pointer;display: block;width: 100%;margin-bottom: 0;padding: 0.3em;box-sizing: border-box;text-align: center;}#sk-container-id-2 label.sk-toggleable__label-arrow:before {content: \"▸\";float: left;margin-right: 0.25em;color: #696969;}#sk-container-id-2 label.sk-toggleable__label-arrow:hover:before {color: black;}#sk-container-id-2 div.sk-estimator:hover label.sk-toggleable__label-arrow:before {color: black;}#sk-container-id-2 div.sk-toggleable__content {max-height: 0;max-width: 0;overflow: hidden;text-align: left;background-color: #f0f8ff;}#sk-container-id-2 div.sk-toggleable__content pre {margin: 0.2em;color: black;border-radius: 0.25em;background-color: #f0f8ff;}#sk-container-id-2 input.sk-toggleable__control:checked~div.sk-toggleable__content {max-height: 200px;max-width: 100%;overflow: auto;}#sk-container-id-2 input.sk-toggleable__control:checked~label.sk-toggleable__label-arrow:before {content: \"▾\";}#sk-container-id-2 div.sk-estimator input.sk-toggleable__control:checked~label.sk-toggleable__label {background-color: #d4ebff;}#sk-container-id-2 div.sk-label input.sk-toggleable__control:checked~label.sk-toggleable__label {background-color: #d4ebff;}#sk-container-id-2 input.sk-hidden--visually {border: 0;clip: rect(1px 1px 1px 1px);clip: rect(1px, 1px, 1px, 1px);height: 1px;margin: -1px;overflow: hidden;padding: 0;position: absolute;width: 1px;}#sk-container-id-2 div.sk-estimator {font-family: monospace;background-color: #f0f8ff;border: 1px dotted black;border-radius: 0.25em;box-sizing: border-box;margin-bottom: 0.5em;}#sk-container-id-2 div.sk-estimator:hover {background-color: #d4ebff;}#sk-container-id-2 div.sk-parallel-item::after {content: \"\";width: 100%;border-bottom: 1px solid gray;flex-grow: 1;}#sk-container-id-2 div.sk-label:hover label.sk-toggleable__label {background-color: #d4ebff;}#sk-container-id-2 div.sk-serial::before {content: \"\";position: absolute;border-left: 1px solid gray;box-sizing: border-box;top: 0;bottom: 0;left: 50%;z-index: 0;}#sk-container-id-2 div.sk-serial {display: flex;flex-direction: column;align-items: center;background-color: white;padding-right: 0.2em;padding-left: 0.2em;position: relative;}#sk-container-id-2 div.sk-item {position: relative;z-index: 1;}#sk-container-id-2 div.sk-parallel {display: flex;align-items: stretch;justify-content: center;background-color: white;position: relative;}#sk-container-id-2 div.sk-item::before, #sk-container-id-2 div.sk-parallel-item::before {content: \"\";position: absolute;border-left: 1px solid gray;box-sizing: border-box;top: 0;bottom: 0;left: 50%;z-index: -1;}#sk-container-id-2 div.sk-parallel-item {display: flex;flex-direction: column;z-index: 1;position: relative;background-color: white;}#sk-container-id-2 div.sk-parallel-item:first-child::after {align-self: flex-end;width: 50%;}#sk-container-id-2 div.sk-parallel-item:last-child::after {align-self: flex-start;width: 50%;}#sk-container-id-2 div.sk-parallel-item:only-child::after {width: 0;}#sk-container-id-2 div.sk-dashed-wrapped {border: 1px dashed gray;margin: 0 0.4em 0.5em 0.4em;box-sizing: border-box;padding-bottom: 0.4em;background-color: white;}#sk-container-id-2 div.sk-label label {font-family: monospace;font-weight: bold;display: inline-block;line-height: 1.2em;}#sk-container-id-2 div.sk-label-container {text-align: center;}#sk-container-id-2 div.sk-container {/* jupyter's `normalize.less` sets `[hidden] { display: none; }` but bootstrap.min.css set `[hidden] { display: none !important; }` so we also need the `!important` here to be able to override the default hidden behavior on the sphinx rendered scikit-learn.org. See: https://github.com/scikit-learn/scikit-learn/issues/21755 */display: inline-block !important;position: relative;}#sk-container-id-2 div.sk-text-repr-fallback {display: none;}</style><div id=\"sk-container-id-2\" class=\"sk-top-container\"><div class=\"sk-text-repr-fallback\"><pre>GaussianNB()</pre><b>In a Jupyter environment, please rerun this cell to show the HTML representation or trust the notebook. <br />On GitHub, the HTML representation is unable to render, please try loading this page with nbviewer.org.</b></div><div class=\"sk-container\" hidden><div class=\"sk-item\"><div class=\"sk-estimator sk-toggleable\"><input class=\"sk-toggleable__control sk-hidden--visually\" id=\"sk-estimator-id-2\" type=\"checkbox\" checked><label for=\"sk-estimator-id-2\" class=\"sk-toggleable__label sk-toggleable__label-arrow\">GaussianNB</label><div class=\"sk-toggleable__content\"><pre>GaussianNB()</pre></div></div></div></div></div>"
      ],
      "text/plain": [
       "GaussianNB()"
      ]
     },
     "execution_count": 40,
     "metadata": {},
     "output_type": "execute_result"
    }
   ],
   "source": [
    "from sklearn.naive_bayes import GaussianNB\n",
    "naive_bayes = GaussianNB()\n",
    "naive_bayes.fit(X_train, y_train)"
   ]
  },
  {
   "cell_type": "code",
   "execution_count": 41,
   "id": "255ec9f6",
   "metadata": {},
   "outputs": [
    {
     "data": {
      "text/plain": [
       "array([0, 1, 0, ..., 0, 0, 0], dtype=int64)"
      ]
     },
     "execution_count": 41,
     "metadata": {},
     "output_type": "execute_result"
    }
   ],
   "source": [
    "predictions = naive_bayes.predict(X_test)\n",
    "predictions"
   ]
  },
  {
   "cell_type": "code",
   "execution_count": 42,
   "id": "efb157d0",
   "metadata": {},
   "outputs": [
    {
     "name": "stdout",
     "output_type": "stream",
     "text": [
      "Accuracy score:  0.7338568935427574\n",
      "Precision score:  0.2517985611510791\n",
      "Recall score:  0.41916167664670656\n",
      "F1 score:  0.3146067415730337\n"
     ]
    }
   ],
   "source": [
    "from sklearn.metrics import accuracy_score, precision_score, recall_score, f1_score\n",
    "print('Accuracy score: ', format(accuracy_score(predictions,y_test)))\n",
    "print('Precision score: ', format(precision_score(predictions,y_test)))\n",
    "print('Recall score: ', format(recall_score(predictions,y_test)))\n",
    "print('F1 score: ', format(f1_score(predictions,y_test)))"
   ]
  },
  {
   "cell_type": "markdown",
   "id": "4e7ffe66",
   "metadata": {},
   "source": [
    "## 7.4 Randomforest "
   ]
  },
  {
   "cell_type": "code",
   "execution_count": 43,
   "id": "57620d83",
   "metadata": {},
   "outputs": [],
   "source": [
    "from sklearn.ensemble import RandomForestClassifier\n",
    "rf = RandomForestClassifier(n_estimators=100,max_depth=9,max_leaf_nodes=9,max_features=None,n_jobs=-1)\n",
    "rf_model = rf.fit(X_train, y_train)\n",
    "y_pred_rf=rf_model.predict(X_test)"
   ]
  },
  {
   "cell_type": "code",
   "execution_count": 44,
   "id": "c93f915d",
   "metadata": {},
   "outputs": [
    {
     "name": "stdout",
     "output_type": "stream",
     "text": [
      "Accuracy: 0.7879581151832461\n",
      "Precision score:  0.23381294964028776\n",
      "Recall score:  0.6842105263157895\n",
      "F1 score:  0.34852546916890076\n"
     ]
    }
   ],
   "source": [
    "print(\"Accuracy:\",metrics.accuracy_score(y_test, y_pred_rf))\n",
    "print('Precision score: ', format(precision_score(y_pred_rf,y_test)))\n",
    "print('Recall score: ', format(recall_score(y_pred_rf,y_test)))\n",
    "print('F1 score: ', format(f1_score(y_pred_rf,y_test))) "
   ]
  },
  {
   "cell_type": "code",
   "execution_count": 46,
   "id": "ff3569d7",
   "metadata": {},
   "outputs": [],
   "source": [
    "import matplotlib.pyplot as plt\n",
    "x_labels = [\"SVM\", \"Naive Bayes\", \"k-NN\", \"Random Forest\"]\n",
    "accuracy_scores = [accuracy_score(y_test, y_pred ), accuracy_score(predictions,y_test), accuracy_score(y_pred_knn,y_test), accuracy_score(y_pred_rf,y_test)]\n",
    "precision_scores = [precision_score(y_pred ,y_test), precision_score(predictions,y_test), precision_score(y_pred_knn,y_test), precision_score(y_pred_rf,y_test)]\n",
    "recall_scores = [recall_score(y_pred ,y_test), recall_score(predictions,y_test), recall_score(y_pred_knn,y_test), recall_score(y_pred_rf,y_test)]\n",
    "f1_scores = [f1_score(y_pred ,y_test), f1_score(predictions,y_test), f1_score(y_pred_knn,y_test), f1_score(y_pred_rf,y_test)]"
   ]
  },
  {
   "cell_type": "code",
   "execution_count": 47,
   "id": "f8998126",
   "metadata": {},
   "outputs": [
    {
     "data": {
      "text/plain": [
       "(0.0, 1.0)"
      ]
     },
     "execution_count": 47,
     "metadata": {},
     "output_type": "execute_result"
    },
    {
     "data": {
      "image/png": "[encoded data removed]",
      "text/plain": [
       "<Figure size 640x480 with 1 Axes>"
      ]
     },
     "metadata": {},
     "output_type": "display_data"
    }
   ],
   "source": [
    "plt.plot(x_labels, accuracy_scores, marker = 'o')\n",
    "plt.plot(x_labels, precision_scores, marker = 'o')\n",
    "plt.plot(x_labels, recall_scores, marker = 'o')\n",
    "plt.plot(x_labels, f1_scores, marker = 'o')\n",
    "plt.legend(['Accuracy', 'Precision', 'Recall', 'F1'])\n",
    "plt.ylim([0,1])"
   ]
  },
  {
   "cell_type": "code",
   "execution_count": null,
   "id": "92d137c9",
   "metadata": {},
   "outputs": [],
   "source": []
  }
 ],
 "metadata": {
  "kernelspec": {
   "display_name": "Python 3 (ipykernel)",
   "language": "python",
   "name": "python3"
  },
  "language_info": {
   "codemirror_mode": {
    "name": "ipython",
    "version": 3
   },
   "file_extension": ".py",
   "mimetype": "text/x-python",
   "name": "python",
   "nbconvert_exporter": "python",
   "pygments_lexer": "ipython3",
   "version": "3.10.9"
  }
 },
 "nbformat": 4,
 "nbformat_minor": 5
}
