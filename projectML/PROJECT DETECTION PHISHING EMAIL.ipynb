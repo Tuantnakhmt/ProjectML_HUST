{
 "cells": [
  {
   "cell_type": "markdown",
   "id": "11d57851",
   "metadata": {},
   "source": [
    "# **Trích xuất đặc trưng phát hiện Email lừa đảo**\n"
   ]
  },
  {
   "cell_type": "markdown",
   "id": "9759175d",
   "metadata": {},
   "source": [
    "# **1. Mục tiêu**\n",
    "\n",
    "Với một thư điện tử bất kì, nhóm mong muốn có thể phân loại được thư điện tử đấy là an toàn (legimate)/ không an toàn (phishing)\n"
   ]
  },
  {
   "cell_type": "markdown",
   "id": "4efb4286",
   "metadata": {},
   "source": [
    "# **2. Dữ liệu**\n",
    "\n",
    "Trong project này, nhóm thu thập các tập dữ liệu các loại thư điện tử gồm nội dung và đã được gán nhãn (SpamAssassin, Kaggle, ...). Sau đó nhóm sẽ trích xuất các đặc trưng của các thư điện tử để tạo thành các vector đặc trưng để từ đó làm cơ sở phân loại.\n"
   ]
  },
  {
   "cell_type": "markdown",
   "id": "bafcc182",
   "metadata": {},
   "source": [
    "Dataset: Gồm tiêu đề và nội dung, tiêu đề không được phân biệt rõ với nội dung. Chủ yếu xét các đặc trưng theo hình thức email, từ ngữ, và URL\n"
   ]
  },
  {
   "cell_type": "code",
   "execution_count": 1,
   "id": "38da25e8",
   "metadata": {},
   "outputs": [],
   "source": [
    "import pandas as pd"
   ]
  },
  {
   "cell_type": "code",
   "execution_count": 2,
   "id": "33747c21",
   "metadata": {},
   "outputs": [
    {
     "data": {
      "text/html": [
       "<div>\n",
       "<style scoped>\n",
       "    .dataframe tbody tr th:only-of-type {\n",
       "        vertical-align: middle;\n",
       "    }\n",
       "\n",
       "    .dataframe tbody tr th {\n",
       "        vertical-align: top;\n",
       "    }\n",
       "\n",
       "    .dataframe thead th {\n",
       "        text-align: right;\n",
       "    }\n",
       "</style>\n",
       "<table border=\"1\" class=\"dataframe\">\n",
       "  <thead>\n",
       "    <tr style=\"text-align: right;\">\n",
       "      <th></th>\n",
       "      <th>text</th>\n",
       "      <th>spam</th>\n",
       "    </tr>\n",
       "  </thead>\n",
       "  <tbody>\n",
       "    <tr>\n",
       "      <th>0</th>\n",
       "      <td>Subject: naturally irresistible your corporate...</td>\n",
       "      <td>1</td>\n",
       "    </tr>\n",
       "    <tr>\n",
       "      <th>1</th>\n",
       "      <td>Subject: the stock trading gunslinger  fanny i...</td>\n",
       "      <td>1</td>\n",
       "    </tr>\n",
       "    <tr>\n",
       "      <th>2</th>\n",
       "      <td>Subject: unbelievable new homes made easy  im ...</td>\n",
       "      <td>1</td>\n",
       "    </tr>\n",
       "    <tr>\n",
       "      <th>3</th>\n",
       "      <td>Subject: 4 color printing special  request add...</td>\n",
       "      <td>1</td>\n",
       "    </tr>\n",
       "    <tr>\n",
       "      <th>4</th>\n",
       "      <td>Subject: do not have money , get software cds ...</td>\n",
       "      <td>1</td>\n",
       "    </tr>\n",
       "  </tbody>\n",
       "</table>\n",
       "</div>"
      ],
      "text/plain": [
       "                                                text  spam\n",
       "0  Subject: naturally irresistible your corporate...     1\n",
       "1  Subject: the stock trading gunslinger  fanny i...     1\n",
       "2  Subject: unbelievable new homes made easy  im ...     1\n",
       "3  Subject: 4 color printing special  request add...     1\n",
       "4  Subject: do not have money , get software cds ...     1"
      ]
     },
     "execution_count": 2,
     "metadata": {},
     "output_type": "execute_result"
    }
   ],
   "source": [
    "#loading the phishing URLs data to dataframe\n",
    "data0 = pd.read_csv('/Users/HP/projectML/Data/emails.csv') \n",
    "data0.head()"
   ]
  },
  {
   "cell_type": "code",
   "execution_count": 3,
   "id": "8f67a47d",
   "metadata": {},
   "outputs": [
    {
     "data": {
      "text/plain": [
       "(5728, 2)"
      ]
     },
     "execution_count": 3,
     "metadata": {},
     "output_type": "execute_result"
    }
   ],
   "source": [
    "data0.shape"
   ]
  },
  {
   "cell_type": "markdown",
   "id": "69a0f40c",
   "metadata": {},
   "source": [
    "# **3. Khai thác các đặc trưng**\n",
    "\n",
    "Trong bước này, các đặc trưng được trích xuất từ bộ dữ liệu Email.\n",
    "\n",
    "Các đặc trưng trích xuất được phân loại thành\n",
    "\n",
    "1. Hình thức email\n",
    "2. Từ ngữ\n",
    "3. URL\n"
   ]
  },
  {
   "cell_type": "code",
   "execution_count": 4,
   "id": "bd829bb3",
   "metadata": {},
   "outputs": [],
   "source": [
    "import re\n",
    "import numpy as np\n",
    "import matplotlib.pyplot as plt\n",
    "from spellchecker import SpellChecker"
   ]
  },
  {
   "cell_type": "markdown",
   "id": "384c6985",
   "metadata": {},
   "source": [
    "### **3.1 Hình thức email**\n",
    "\n",
    "Nhiều đặc trưng có thể được trích xuất có thể được coi là đặc trưng cơ sở của hình thức email. Trong số đó, đề cập dưới đây đã được xem xét cho project này.\n",
    "\n",
    "- Phần mở: Số các từ dear, hi\n",
    "- Phần kết: Các đặc trung về chữ ký tên, về các từ kết thúc, Kèm thông tin về SDT\n",
    "- Bố cục : các đặc trưng về Chuyển tiếp, reply\n",
    "\n",
    "Mỗi đặc trưng này được trình bày và code ở dưới:\n"
   ]
  },
  {
   "cell_type": "code",
   "execution_count": 5,
   "id": "47034e80",
   "metadata": {},
   "outputs": [],
   "source": [
    "def haveFormalWord(email):\n",
    "    formal_words = ['hi', 'dear', 'best wish', 'regard','dict','reply']\n",
    "    for word in formal_words:\n",
    "        if word in email.lower():\n",
    "            return 0\n",
    "    return 1 "
   ]
  },
  {
   "cell_type": "markdown",
   "id": "db4671b8",
   "metadata": {},
   "source": [
    "### **3.2 Từ ngữ**\n",
    "\n",
    "Nhiều đặc trưng có thể được trích xuất thuộc danh mục này. Trong số đó, đề cập dưới đây đã được xem xét cho project này.\n",
    "\n",
    "- Chính tả trong từ điển tiếng Anh\n",
    "- Blacklist:{verify, account, password,access, limitted, risk, security, service, suspend, allow, click, information, risk, credit, minutes, only, last,review,cost, fail, immediate, now, winner, best,any, passion, interest, late, soon, help, update, confirm }\n",
    "- Kí tự đặc biệt: {%,$,#,?,!}\n",
    "- Con số: số lượng các số\n",
    "\n",
    "Mỗi đặc trưng này được trình bày và code ở dưới:\n"
   ]
  },
  {
   "cell_type": "code",
   "execution_count": 6,
   "id": "d5035849",
   "metadata": {},
   "outputs": [],
   "source": [
    "# Check number of misspelled words\n",
    "def misspelledWord(email):\n",
    "    spell = SpellChecker()\n",
    "    words = re.findall(r'\\w+', email)\n",
    "    misspelled = spell.unknown(words)\n",
    "    return len(misspelled) "
   ]
  },
  {
   "cell_type": "code",
   "execution_count": 7,
   "id": "57c3643b",
   "metadata": {},
   "outputs": [],
   "source": [
    " # Check if the email has typos or bad grammar\n",
    "def badGrammar(email):\n",
    "    if len(re.findall(r'[\\w]+', email)) > 0:\n",
    "        typo_ratio = len(re.findall(r'[\\w]+', email))/len(email)\n",
    "        if typo_ratio < 0.3:\n",
    "            return 1\n",
    "        else:\n",
    "            return 0\n",
    "    else:\n",
    "        return 0"
   ]
  },
  {
   "cell_type": "code",
   "execution_count": 8,
   "id": "e36c1c59",
   "metadata": {},
   "outputs": [],
   "source": [
    "# Extract common phishing keywords\n",
    "def keyword(email):\n",
    "    keywords = [ \"login\",'account', 'alert', 'verify', 'bank', 'security', \"suspend\",'fraud', 'urgent', 'warning', 'limited', 'update', 'confirm',  \"limited time offer\", \"urgent\",'information']\n",
    "    for keyword in keywords:\n",
    "        if keyword in email.lower():\n",
    "            return 1\n",
    "        else:\n",
    "            return 0"
   ]
  },
  {
   "cell_type": "code",
   "execution_count": 9,
   "id": "df6ab61f",
   "metadata": {},
   "outputs": [],
   "source": [
    "# Check if the email asks for personal or financial information\n",
    "def requestInfo(email):\n",
    "    # Check if the email asks for personal or financial information\n",
    "    personal_info = ['password', 'pin', 'ssn', 'social security', 'credit', 'debit', 'card number', 'card expiration', 'cvv']\n",
    "    for info in personal_info:\n",
    "        if info in email.lower():\n",
    "            return 1\n",
    "        else:\n",
    "            return 0"
   ]
  },
  {
   "cell_type": "code",
   "execution_count": 10,
   "id": "56674a68",
   "metadata": {},
   "outputs": [],
   "source": [
    "# Check if the email includes a sense of Urgency\n",
    "def senseUrgency(email):\n",
    "    urgency_words = ['Hurry', 'Urgent', 'Limited time', 'Act now', 'Time running out', 'Last chance', \"Don't miss out\", \n",
    "                     'Limited supply', 'One time offer', 'Only a few left', 'Final sale', 'Today only', 'click']\n",
    "    for word in urgency_words:\n",
    "        if word in email.lower():\n",
    "            return 1\n",
    "        else:\n",
    "            return 0"
   ]
  },
  {
   "cell_type": "code",
   "execution_count": 11,
   "id": "e11f157f",
   "metadata": {},
   "outputs": [],
   "source": [
    " # Check if the email includes a sense of \n",
    "def senseThreat(email):\n",
    "    threat_words = ['sue', 'arrest', 'lawsuit', 'overdue', 'expired', 'dispute', 'emergency']\n",
    "    for word in threat_words:\n",
    "        if word in email.lower():\n",
    "            return 1\n",
    "        else:\n",
    "            return 0"
   ]
  },
  {
   "cell_type": "code",
   "execution_count": 12,
   "id": "65a12a7e",
   "metadata": {},
   "outputs": [],
   "source": [
    "# Check the length of the email\n",
    "def longEmail(email):\n",
    "    if len(email) > 500:\n",
    "        return 1\n",
    "    else:\n",
    "        return 0"
   ]
  },
  {
   "cell_type": "code",
   "execution_count": 13,
   "id": "7e92a17c",
   "metadata": {},
   "outputs": [],
   "source": [
    "# Check number of special characters\n",
    "def numSpecialChar(email):\n",
    "    num_special_chars = len(re.findall(r'[!@#$%^&*()\\-_=+{};:,<.>/?[\\]\\\\|~`]', email))\n",
    "    return num_special_chars"
   ]
  },
  {
   "cell_type": "code",
   "execution_count": 14,
   "id": "7be2893a",
   "metadata": {},
   "outputs": [],
   "source": [
    "# Check number of digits\n",
    "def numDigit(email):\n",
    "    num_digits = len(re.findall(r'\\d', email))\n",
    "    return num_digits"
   ]
  },
  {
   "cell_type": "markdown",
   "id": "cee117dc",
   "metadata": {},
   "source": [
    "### **3.3 URL**\n",
    "\n",
    "Nhiều đặc trưng có thể được trích xuất thuộc danh mục này. Trong số đó, đề cập dưới đây đã được xem xét cho project này.\n",
    "\n",
    "- Tên miền: Số hay là chữ\n",
    "- Độ dài miền: Ngắn/dài\n",
    "- Chuẩn HTTP: có/ không\n",
    "- Số dot trong domain\n",
    "- Redirection \"//\" trong URL\n",
    "- Ký tự '-' trong miền\n",
    "\n",
    "Mỗi đặc trưng này được trình bày và code ở dưới:\n"
   ]
  },
  {
   "cell_type": "code",
   "execution_count": 15,
   "id": "6a227107",
   "metadata": {},
   "outputs": [],
   "source": [
    "def numLink(email):\n",
    "    # Check if number of links\n",
    "    num_of_links = len(re.findall(r\"http\", email))\n",
    "    return num_of_links"
   ]
  },
  {
   "cell_type": "code",
   "execution_count": 16,
   "id": "c6bfa575",
   "metadata": {},
   "outputs": [],
   "source": [
    "def suspiciousLink(email):\n",
    "    # Check if the email has suspicious link\n",
    "    # links = re.find(r\"(http?://\\S+)\", email)\n",
    "    # if links:\n",
    "    #     for link in links:\n",
    "    #         if  '-' in link or 'paypal' in link or 'bank' in link or 'irs' in link or 'amazon' in link or 'ebay' in link:\n",
    "    #             return 1\n",
    "    #         else:\n",
    "    #             return 0\n",
    "    # else:\n",
    "    #     return 0\n",
    "    num_suspicious_link = 0\n",
    "    for content in email:\n",
    "        urls = re.findall(r'\\b(http? : / / (?:[-\\w. ]|(?:%[\\da-fA-F]{2}))+\\. (?:[a-z]{2,5})|(?: / [\\w\\.-]*)*/)\\b', content)\n",
    "        num_suspicious_link +=1\n",
    "    return num_suspicious_link"
   ]
  },
  {
   "cell_type": "code",
   "execution_count": 17,
   "id": "5dd09251",
   "metadata": {},
   "outputs": [],
   "source": [
    "def numDot(email):\n",
    "    num_dot = 0\n",
    "    # Check if the link in email has dot\n",
    "    links = re.findall(r\"http\", email)\n",
    "    for link in links:\n",
    "        num_dot += len(re.findall(r\".\", link))\n",
    "    return num_dot"
   ]
  },
  {
   "cell_type": "markdown",
   "id": "cf53f202",
   "metadata": {},
   "source": [
    "# **4. Danh sách các đặc trưng**\n",
    "\n",
    "Tạo một danh sách và một hàm gọi các hàm khác và lưu trữ tất cả các đặc trưng của email trong danh sách. Chúng tôi sẽ trích xuất các đặc trưng của từng email và thêm vào danh sách này.\n"
   ]
  },
  {
   "cell_type": "code",
   "execution_count": 18,
   "id": "3154efe7",
   "metadata": {},
   "outputs": [],
   "source": [
    "def extract_features(email):\n",
    "    features = []\n",
    "    \n",
    "    features.append(haveFormalWord(email))\n",
    "    features.append(misspelledWord(email))\n",
    "    features.append(badGrammar(email))\n",
    "    features.append(keyword(email))\n",
    "    features.append(requestInfo(email))\n",
    "    features.append(senseUrgency(email))\n",
    "    features.append(senseThreat(email))\n",
    "    features.append(longEmail(email))\n",
    "    features.append(numSpecialChar(email))\n",
    "    features.append(numDigit(email))\n",
    "    features.append(numLink(email))\n",
    "    features.append(suspiciousLink(email))\n",
    "    features.append(numDot(email))\n",
    "    \n",
    "    return features"
   ]
  },
  {
   "cell_type": "code",
   "execution_count": null,
   "id": "16c128f7",
   "metadata": {},
   "outputs": [],
   "source": [
    "#Extracting the feautres & storing them in a list\n",
    "features_list = []\n",
    "# for email in data0:\n",
    "for i in range(2000):\n",
    "    email = data0['text'][i]\n",
    "    # Add the email features to the list of all features\n",
    "    features_list.append(extract_features(email))"
   ]
  },
  {
   "cell_type": "markdown",
   "id": "1bb78405",
   "metadata": {},
   "source": [
    "# **5. Tệp dữ liệu cuối cùng**\n",
    "\n",
    "Bây giờ, chúng ta có một khung dữ liệu và xuất dữ liệu sang tệp csv để đào tạo Machine Learning được thực hiện trong phần sau.\n"
   ]
  },
  {
   "cell_type": "code",
   "execution_count": null,
   "id": "5e480b04",
   "metadata": {},
   "outputs": [],
   "source": [
    "# Convert the list of features into a pandas DataFrame\n",
    "feature_names = ['have_formal_word', 'num_misspelled_words','bad_grammar', 'keyword', 'requests_personal_info', 'sense_of_urgency', 'sense_of_threat', 'long_email', 'number_special_chars', 'number_digits', 'number_links','suspicious_link', 'number_dot_in_link']\n",
    "df = pd.DataFrame(features_list, columns= feature_names)\n",
    "df.head()"
   ]
  },
  {
   "cell_type": "code",
   "execution_count": 28,
   "id": "b3670fda",
   "metadata": {},
   "outputs": [
    {
     "ename": "ValueError",
     "evalue": "hist method requires numerical or datetime columns, nothing to plot.",
     "output_type": "error",
     "traceback": [
      "\u001b[1;31m---------------------------------------------------------------------------\u001b[0m",
      "\u001b[1;31mValueError\u001b[0m                                Traceback (most recent call last)",
      "Cell \u001b[1;32mIn[28], line 2\u001b[0m\n\u001b[0;32m      1\u001b[0m \u001b[38;5;66;03m#Plotting the data distribution\u001b[39;00m\n\u001b[1;32m----> 2\u001b[0m \u001b[43mdf\u001b[49m\u001b[38;5;241;43m.\u001b[39;49m\u001b[43mhist\u001b[49m\u001b[43m(\u001b[49m\u001b[43mbins\u001b[49m\u001b[43m \u001b[49m\u001b[38;5;241;43m=\u001b[39;49m\u001b[43m \u001b[49m\u001b[38;5;241;43m50\u001b[39;49m\u001b[43m,\u001b[49m\u001b[43mfigsize\u001b[49m\u001b[43m \u001b[49m\u001b[38;5;241;43m=\u001b[39;49m\u001b[43m \u001b[49m\u001b[43m(\u001b[49m\u001b[38;5;241;43m15\u001b[39;49m\u001b[43m,\u001b[49m\u001b[38;5;241;43m15\u001b[39;49m\u001b[43m)\u001b[49m\u001b[43m)\u001b[49m\n\u001b[0;32m      3\u001b[0m plt\u001b[38;5;241m.\u001b[39mshow()\n",
      "File \u001b[1;32mD:\\Miniconda\\envs\\projectML\\lib\\site-packages\\pandas\\plotting\\_core.py:231\u001b[0m, in \u001b[0;36mhist_frame\u001b[1;34m(data, column, by, grid, xlabelsize, xrot, ylabelsize, yrot, ax, sharex, sharey, figsize, layout, bins, backend, legend, **kwargs)\u001b[0m\n\u001b[0;32m    140\u001b[0m \u001b[38;5;250m\u001b[39m\u001b[38;5;124;03m\"\"\"\u001b[39;00m\n\u001b[0;32m    141\u001b[0m \u001b[38;5;124;03mMake a histogram of the DataFrame's columns.\u001b[39;00m\n\u001b[0;32m    142\u001b[0m \n\u001b[1;32m   (...)\u001b[0m\n\u001b[0;32m    228\u001b[0m \u001b[38;5;124;03m    >>> hist = df.hist(bins=3)\u001b[39;00m\n\u001b[0;32m    229\u001b[0m \u001b[38;5;124;03m\"\"\"\u001b[39;00m\n\u001b[0;32m    230\u001b[0m plot_backend \u001b[38;5;241m=\u001b[39m _get_plot_backend(backend)\n\u001b[1;32m--> 231\u001b[0m \u001b[38;5;28;01mreturn\u001b[39;00m plot_backend\u001b[38;5;241m.\u001b[39mhist_frame(\n\u001b[0;32m    232\u001b[0m     data,\n\u001b[0;32m    233\u001b[0m     column\u001b[38;5;241m=\u001b[39mcolumn,\n\u001b[0;32m    234\u001b[0m     by\u001b[38;5;241m=\u001b[39mby,\n\u001b[0;32m    235\u001b[0m     grid\u001b[38;5;241m=\u001b[39mgrid,\n\u001b[0;32m    236\u001b[0m     xlabelsize\u001b[38;5;241m=\u001b[39mxlabelsize,\n\u001b[0;32m    237\u001b[0m     xrot\u001b[38;5;241m=\u001b[39mxrot,\n\u001b[0;32m    238\u001b[0m     ylabelsize\u001b[38;5;241m=\u001b[39mylabelsize,\n\u001b[0;32m    239\u001b[0m     yrot\u001b[38;5;241m=\u001b[39myrot,\n\u001b[0;32m    240\u001b[0m     ax\u001b[38;5;241m=\u001b[39max,\n\u001b[0;32m    241\u001b[0m     sharex\u001b[38;5;241m=\u001b[39msharex,\n\u001b[0;32m    242\u001b[0m     sharey\u001b[38;5;241m=\u001b[39msharey,\n\u001b[0;32m    243\u001b[0m     figsize\u001b[38;5;241m=\u001b[39mfigsize,\n\u001b[0;32m    244\u001b[0m     layout\u001b[38;5;241m=\u001b[39mlayout,\n\u001b[0;32m    245\u001b[0m     legend\u001b[38;5;241m=\u001b[39mlegend,\n\u001b[0;32m    246\u001b[0m     bins\u001b[38;5;241m=\u001b[39mbins,\n\u001b[0;32m    247\u001b[0m     \u001b[38;5;241m*\u001b[39m\u001b[38;5;241m*\u001b[39mkwargs,\n\u001b[0;32m    248\u001b[0m )\n",
      "File \u001b[1;32mD:\\Miniconda\\envs\\projectML\\lib\\site-packages\\pandas\\plotting\\_matplotlib\\hist.py:499\u001b[0m, in \u001b[0;36mhist_frame\u001b[1;34m(data, column, by, grid, xlabelsize, xrot, ylabelsize, yrot, ax, sharex, sharey, figsize, layout, bins, legend, **kwds)\u001b[0m\n\u001b[0;32m    496\u001b[0m naxes \u001b[38;5;241m=\u001b[39m \u001b[38;5;28mlen\u001b[39m(data\u001b[38;5;241m.\u001b[39mcolumns)\n\u001b[0;32m    498\u001b[0m \u001b[38;5;28;01mif\u001b[39;00m naxes \u001b[38;5;241m==\u001b[39m \u001b[38;5;241m0\u001b[39m:\n\u001b[1;32m--> 499\u001b[0m     \u001b[38;5;28;01mraise\u001b[39;00m \u001b[38;5;167;01mValueError\u001b[39;00m(\n\u001b[0;32m    500\u001b[0m         \u001b[38;5;124m\"\u001b[39m\u001b[38;5;124mhist method requires numerical or datetime columns, nothing to plot.\u001b[39m\u001b[38;5;124m\"\u001b[39m\n\u001b[0;32m    501\u001b[0m     )\n\u001b[0;32m    503\u001b[0m fig, axes \u001b[38;5;241m=\u001b[39m create_subplots(\n\u001b[0;32m    504\u001b[0m     naxes\u001b[38;5;241m=\u001b[39mnaxes,\n\u001b[0;32m    505\u001b[0m     ax\u001b[38;5;241m=\u001b[39max,\n\u001b[1;32m   (...)\u001b[0m\n\u001b[0;32m    510\u001b[0m     layout\u001b[38;5;241m=\u001b[39mlayout,\n\u001b[0;32m    511\u001b[0m )\n\u001b[0;32m    512\u001b[0m _axes \u001b[38;5;241m=\u001b[39m flatten_axes(axes)\n",
      "\u001b[1;31mValueError\u001b[0m: hist method requires numerical or datetime columns, nothing to plot."
     ]
    }
   ],
   "source": [
    "#Plotting the data distribution\n",
    "df.hist(bins = 50,figsize = (15,15))\n",
    "plt.show()"
   ]
  },
  {
   "cell_type": "code",
   "execution_count": null,
   "id": "b517d8b1",
   "metadata": {},
   "outputs": [],
   "source": [
    "# Storing the extracted email fatures to csv file\n",
    "df.to_csv('email_processed.csv', index= False)"
   ]
  }
 ],
 "metadata": {
  "kernelspec": {
   "display_name": "Python 3 (ipykernel)",
   "language": "python",
   "name": "python3"
  },
  "language_info": {
   "codemirror_mode": {
    "name": "ipython",
    "version": 3
   },
   "file_extension": ".py",
   "mimetype": "text/x-python",
   "name": "python",
   "nbconvert_exporter": "python",
   "pygments_lexer": "ipython3",
   "version": "3.10.9"
  }
 },
 "nbformat": 4,
 "nbformat_minor": 5
}
